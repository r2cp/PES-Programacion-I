{
 "cells": [
  {
   "cell_type": "code",
   "execution_count": 1,
   "metadata": {},
   "outputs": [],
   "source": [
    "import numpy as np"
   ]
  },
  {
   "cell_type": "markdown",
   "metadata": {},
   "source": [
    "## Desarrollo de la lógica con diferentes pruebas"
   ]
  },
  {
   "cell_type": "code",
   "execution_count": 61,
   "metadata": {},
   "outputs": [],
   "source": [
    "N = 1000000"
   ]
  },
  {
   "cell_type": "code",
   "execution_count": 73,
   "metadata": {},
   "outputs": [
    {
     "data": {
      "text/plain": [
       "array([[27.09076879,  8.39551011],\n",
       "       [ 8.20452413, 24.68463852],\n",
       "       [29.56965636, 19.83559083],\n",
       "       ...,\n",
       "       [38.62862409, 42.04808097],\n",
       "       [23.95527393,  0.35938042],\n",
       "       [28.68216375, 28.16495017]])"
      ]
     },
     "execution_count": 73,
     "metadata": {},
     "output_type": "execute_result"
    }
   ],
   "source": [
    "# Lista de coordenadas aleatorias\n",
    "c = 50*np.random.random((N, 2))\n",
    "c"
   ]
  },
  {
   "cell_type": "code",
   "execution_count": 68,
   "metadata": {},
   "outputs": [],
   "source": [
    "# Obtener los índices de los puntos que estén dentro del rectángulo\n",
    "idx_dentro = np.logical_and(c[:, 0] <= 20, c[:, 1] <= 20)"
   ]
  },
  {
   "cell_type": "code",
   "execution_count": 64,
   "metadata": {
    "scrolled": true
   },
   "outputs": [
    {
     "data": {
      "text/plain": [
       "array([[ 8.21413589,  9.47222413],\n",
       "       [ 7.35656247, 16.5642119 ],\n",
       "       [ 1.11374468, 13.0754048 ],\n",
       "       ...,\n",
       "       [15.02073298,  7.50855546],\n",
       "       [ 3.49978911,  7.61035167],\n",
       "       [ 6.74084978, 19.1125943 ]])"
      ]
     },
     "execution_count": 64,
     "metadata": {},
     "output_type": "execute_result"
    }
   ],
   "source": [
    "c[idx_dentro]"
   ]
  },
  {
   "cell_type": "code",
   "execution_count": 69,
   "metadata": {},
   "outputs": [
    {
     "data": {
      "text/plain": [
       "399.0025"
      ]
     },
     "execution_count": 69,
     "metadata": {},
     "output_type": "execute_result"
    }
   ],
   "source": [
    "# Obtener la cantidad de puntos dentro\n",
    "dentro = c[idx_dentro].shape[0]\n",
    "# Computar el área como proporción del área del cuadrado grande\n",
    "A1 = (50**2)*dentro/N\n",
    "A1"
   ]
  },
  {
   "cell_type": "code",
   "execution_count": 70,
   "metadata": {},
   "outputs": [
    {
     "data": {
      "text/plain": [
       "400"
      ]
     },
     "execution_count": 70,
     "metadata": {},
     "output_type": "execute_result"
    }
   ],
   "source": [
    "A1_real = 20**2\n",
    "A1_real"
   ]
  },
  {
   "cell_type": "markdown",
   "metadata": {},
   "source": [
    "## Ya tenemos la lógica; podemos crear una función"
   ]
  },
  {
   "cell_type": "code",
   "execution_count": 77,
   "metadata": {},
   "outputs": [],
   "source": [
    "def areaProp(n, a=20, b=50):\n",
    "    '''\n",
    "        Calcula el área del cuadrado con esquinas en (0, 0) y (a, a), \n",
    "        utilizando el área del cuadrado con esquinas en (0, 0) y (b, b).\n",
    "        Suponemos que a < b\n",
    "        El cómputo utiliza una muestra de n puntos\n",
    "        Devuelve el área como un flotante\n",
    "    '''\n",
    "    # Lista de coordenadas aleatorias\n",
    "    c = b*np.random.random((n, 2))\n",
    "    # Obtener los índices de los puntos que estén dentro del rectángulo\n",
    "    idx_dentro = np.logical_and(c[:, 0] <= a, c[:, 1] <= a)\n",
    "    # Obtener la cantidad de puntos dentro\n",
    "    dentro = c[idx_dentro].shape[0]\n",
    "    # Computar el área como proporción del área del cuadrado grande\n",
    "    return (b**2)*dentro/n"
   ]
  },
  {
   "cell_type": "code",
   "execution_count": 82,
   "metadata": {},
   "outputs": [
    {
     "data": {
      "text/plain": [
       "399.93325"
      ]
     },
     "execution_count": 82,
     "metadata": {},
     "output_type": "execute_result"
    }
   ],
   "source": [
    "areaProp(10000000)"
   ]
  },
  {
   "cell_type": "code",
   "execution_count": null,
   "metadata": {},
   "outputs": [],
   "source": []
  }
 ],
 "metadata": {
  "kernelspec": {
   "display_name": "Python 3",
   "language": "python",
   "name": "python3"
  },
  "language_info": {
   "codemirror_mode": {
    "name": "ipython",
    "version": 3
   },
   "file_extension": ".py",
   "mimetype": "text/x-python",
   "name": "python",
   "nbconvert_exporter": "python",
   "pygments_lexer": "ipython3",
   "version": "3.7.4"
  }
 },
 "nbformat": 4,
 "nbformat_minor": 2
}
