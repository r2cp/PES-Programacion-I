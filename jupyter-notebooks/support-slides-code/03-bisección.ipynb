{
 "cells": [
  {
   "cell_type": "markdown",
   "metadata": {},
   "source": [
    "# Raíz cúbica con método de bisección"
   ]
  },
  {
   "cell_type": "code",
   "execution_count": 2,
   "metadata": {
    "scrolled": true
   },
   "outputs": [
    {
     "name": "stdout",
     "output_type": "stream",
     "text": [
      "Iteraciones = 44\n",
      "201.0000 es cercano a la raíz cúbica de 8120601.0000\n"
     ]
    }
   ],
   "source": [
    "#cube = 27\n",
    "cube = 8120601\n",
    "\n",
    "# Parámetros de bisección\n",
    "epsilon = 0.01\n",
    "low = 0\n",
    "high = cube\n",
    "guess = (high + low)/2.0\n",
    "\n",
    "# Contador de iteraciones\n",
    "num_guesses = 0\n",
    "\n",
    "while abs(guess**3 - cube) >= epsilon:\n",
    "    if guess**3 < cube:\n",
    "        # Buscar en la mitad superior del intervalo\n",
    "        low = guess\n",
    "    else:\n",
    "        # Buscar en la mitad inferior del intervalo\n",
    "        high = guess\n",
    "    \n",
    "    # Siguiente guess en el punto medio del espacio de búsqueda\n",
    "    guess = (high + low)/2.0\n",
    "    num_guesses += 1\n",
    "\n",
    "print('Iteraciones =', num_guesses)\n",
    "print('%0.4f es cercano a la raíz cúbica de %0.4f' % (guess, cube))"
   ]
  },
  {
   "cell_type": "markdown",
   "metadata": {},
   "source": [
    "## Cuidado con la utilización del tipo `float`\n",
    "\n",
    "La mayoría del tiempo proveen una aproximación razonable a los números reales, pero \"la mayoría del tiempo\" no es **todo el tiempo**."
   ]
  },
  {
   "cell_type": "code",
   "execution_count": 4,
   "metadata": {},
   "outputs": [
    {
     "name": "stdout",
     "output_type": "stream",
     "text": [
      "0.9999999999999999 is not 1.0\n"
     ]
    }
   ],
   "source": [
    "x = 0.0\n",
    "\n",
    "for i in range(10):\n",
    "    x = x + 0.1\n",
    "\n",
    "if x == 1.0:\n",
    "    print(x, '= 1.0')\n",
    "else:\n",
    "    print(x, 'is not 1.0')"
   ]
  },
  {
   "cell_type": "markdown",
   "metadata": {},
   "source": [
    "* Esto es porque $0.1$ tiene una representación binaria que se repite infinitamente. Supongamos que su representación es `0.0001100110011001100110011001100110011001100110011`, que equivale al número decimal `0.1000000000000000055511151231257827021181583404541015625`.  \n",
    "\n",
    "* Esto quiere decir Python pierde algunos dígitos significativos en cada iteración y acumulación de `x`. Por esto, al acumular `10` veces el valor `0.1`, no es exactamente igual a `1.0`\n",
    "\n",
    "* ¿Cómo se puede corregir este error? Cuando se trate de comparaciones de números flotantes, es mejor hacerlo utilizando una precisión especificada"
   ]
  },
  {
   "cell_type": "code",
   "execution_count": 7,
   "metadata": {},
   "outputs": [
    {
     "name": "stdout",
     "output_type": "stream",
     "text": [
      "0.9999999999999999 = 1.0 within epsilon proximity\n"
     ]
    }
   ],
   "source": [
    "x = 0.0\n",
    "epsilon = 1e-6\n",
    "\n",
    "for i in range(10):\n",
    "    x = x + 0.1\n",
    "\n",
    "if abs(x-1) < epsilon:\n",
    "    print(x, '= 1.0 within epsilon proximity')\n",
    "else:\n",
    "    print(x, 'is not 1.0')"
   ]
  },
  {
   "cell_type": "markdown",
   "metadata": {},
   "source": [
    "Otro ejemplo podría ser el siguiente:"
   ]
  },
  {
   "cell_type": "code",
   "execution_count": 8,
   "metadata": {},
   "outputs": [
    {
     "data": {
      "text/plain": [
       "0.30000000000000004"
      ]
     },
     "execution_count": 8,
     "metadata": {},
     "output_type": "execute_result"
    }
   ],
   "source": [
    "0.1+0.2"
   ]
  },
  {
   "cell_type": "code",
   "execution_count": 9,
   "metadata": {},
   "outputs": [
    {
     "data": {
      "text/plain": [
       "False"
      ]
     },
     "execution_count": 9,
     "metadata": {},
     "output_type": "execute_result"
    }
   ],
   "source": [
    "(0.1 + 0.2) == 0.3"
   ]
  },
  {
   "cell_type": "code",
   "execution_count": null,
   "metadata": {},
   "outputs": [],
   "source": []
  }
 ],
 "metadata": {
  "kernelspec": {
   "display_name": "Python 3",
   "language": "python",
   "name": "python3"
  },
  "language_info": {
   "codemirror_mode": {
    "name": "ipython",
    "version": 3
   },
   "file_extension": ".py",
   "mimetype": "text/x-python",
   "name": "python",
   "nbconvert_exporter": "python",
   "pygments_lexer": "ipython3",
   "version": "3.7.4"
  }
 },
 "nbformat": 4,
 "nbformat_minor": 2
}
