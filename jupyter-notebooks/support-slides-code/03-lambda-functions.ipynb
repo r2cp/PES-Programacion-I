{
 "cells": [
  {
   "cell_type": "markdown",
   "metadata": {},
   "source": [
    "# Funciones anónimas\n",
    "\n",
    "Son funciones pequeñas o \"simples\" que contienen una sola expresión. Podemos definir funciones **anónimas** utilizando la sentencia `lambda`. Veamos un ejemplo"
   ]
  },
  {
   "cell_type": "code",
   "execution_count": 16,
   "metadata": {},
   "outputs": [
    {
     "data": {
      "text/plain": [
       "function"
      ]
     },
     "execution_count": 16,
     "metadata": {},
     "output_type": "execute_result"
    }
   ],
   "source": [
    "f = lambda x : 2*x\n",
    "\n",
    "type(f)"
   ]
  },
  {
   "cell_type": "code",
   "execution_count": 17,
   "metadata": {},
   "outputs": [
    {
     "data": {
      "text/plain": [
       "4"
      ]
     },
     "execution_count": 17,
     "metadata": {},
     "output_type": "execute_result"
    }
   ],
   "source": [
    "f(2)"
   ]
  },
  {
   "cell_type": "markdown",
   "metadata": {},
   "source": [
    "El ejemplo de arriba es euivalente al código:"
   ]
  },
  {
   "cell_type": "code",
   "execution_count": 18,
   "metadata": {},
   "outputs": [
    {
     "data": {
      "text/plain": [
       "function"
      ]
     },
     "execution_count": 18,
     "metadata": {},
     "output_type": "execute_result"
    }
   ],
   "source": [
    "def f(x):\n",
    "    return 2*x\n",
    "\n",
    "type(f)"
   ]
  },
  {
   "cell_type": "code",
   "execution_count": 19,
   "metadata": {},
   "outputs": [
    {
     "data": {
      "text/plain": [
       "4"
      ]
     },
     "execution_count": 19,
     "metadata": {},
     "output_type": "execute_result"
    }
   ],
   "source": [
    "f(2)"
   ]
  },
  {
   "cell_type": "markdown",
   "metadata": {},
   "source": [
    "## Función para verificar si un número es par"
   ]
  },
  {
   "cell_type": "code",
   "execution_count": 20,
   "metadata": {},
   "outputs": [],
   "source": [
    "esPar = lambda i: i % 2 == 0"
   ]
  },
  {
   "cell_type": "code",
   "execution_count": 21,
   "metadata": {},
   "outputs": [
    {
     "data": {
      "text/plain": [
       "True"
      ]
     },
     "execution_count": 21,
     "metadata": {},
     "output_type": "execute_result"
    }
   ],
   "source": [
    "esPar(2)"
   ]
  },
  {
   "cell_type": "markdown",
   "metadata": {},
   "source": [
    "## Polinomios\n",
    "\n",
    "Podemos utilizarlas para definir expresiones más complejas."
   ]
  },
  {
   "cell_type": "code",
   "execution_count": 22,
   "metadata": {},
   "outputs": [],
   "source": [
    "f = lambda x : x**2 + 2*x + 1"
   ]
  },
  {
   "cell_type": "code",
   "execution_count": 23,
   "metadata": {},
   "outputs": [
    {
     "data": {
      "text/plain": [
       "121"
      ]
     },
     "execution_count": 23,
     "metadata": {},
     "output_type": "execute_result"
    }
   ],
   "source": [
    "f(10)"
   ]
  },
  {
   "cell_type": "markdown",
   "metadata": {},
   "source": [
    "## Argumentos de función\n",
    "\n",
    "Usualmente, se utilizan dentro de otras funciones para indicar alguna operación. Veamos el siguiente ejemplo:"
   ]
  },
  {
   "cell_type": "code",
   "execution_count": 24,
   "metadata": {},
   "outputs": [],
   "source": [
    "def operacion(f, a, b):\n",
    "    # Recibe la operación f y la ejecuta sobre a y b\n",
    "    return f(a,b)\n",
    "\n",
    "# Operaciones\n",
    "suma = lambda x, y : x + y\n",
    "resta = lambda x, y : x - y"
   ]
  },
  {
   "cell_type": "code",
   "execution_count": 25,
   "metadata": {},
   "outputs": [
    {
     "data": {
      "text/plain": [
       "12"
      ]
     },
     "execution_count": 25,
     "metadata": {},
     "output_type": "execute_result"
    }
   ],
   "source": [
    "operacion(suma, 5, 7)"
   ]
  },
  {
   "cell_type": "code",
   "execution_count": 26,
   "metadata": {},
   "outputs": [
    {
     "data": {
      "text/plain": [
       "-2"
      ]
     },
     "execution_count": 26,
     "metadata": {},
     "output_type": "execute_result"
    }
   ],
   "source": [
    "operacion(resta, 5, 7)"
   ]
  },
  {
   "cell_type": "markdown",
   "metadata": {},
   "source": [
    "## Ceteris paribus\n",
    "\n",
    "Podemos utilizarlas para definir otras funciones en las cuales variemos solo algunos parámetros de una función más compleja.  \n",
    "\n",
    "Por ejemplo, `restaConUno` queda como una función solo de `x`, que corresponde al parámetro `a` de `operacion`."
   ]
  },
  {
   "cell_type": "code",
   "execution_count": 29,
   "metadata": {},
   "outputs": [
    {
     "data": {
      "text/plain": [
       "4"
      ]
     },
     "execution_count": 29,
     "metadata": {},
     "output_type": "execute_result"
    }
   ],
   "source": [
    "restaConUno = lambda x : operacion(resta, x, 1)\n",
    "restaConUno(5)"
   ]
  },
  {
   "cell_type": "markdown",
   "metadata": {},
   "source": [
    "## Múltiples argumentos\n",
    "\n",
    "Pueden recibir uno o más argumentos, pero deben devolver el resultado de una sola expresión."
   ]
  },
  {
   "cell_type": "code",
   "execution_count": 34,
   "metadata": {},
   "outputs": [
    {
     "data": {
      "text/plain": [
       "1"
      ]
     },
     "execution_count": 34,
     "metadata": {},
     "output_type": "execute_result"
    }
   ],
   "source": [
    "f = lambda x,y,z : 2*x**2 + 6*y - 5*z\n",
    "f(2,3,5)"
   ]
  },
  {
   "cell_type": "code",
   "execution_count": 32,
   "metadata": {},
   "outputs": [
    {
     "data": {
      "text/plain": [
       "-20"
      ]
     },
     "execution_count": 32,
     "metadata": {},
     "output_type": "execute_result"
    }
   ],
   "source": [
    "g = lambda x : f(x, 3, 8)\n",
    "g(1)"
   ]
  },
  {
   "cell_type": "markdown",
   "metadata": {},
   "source": [
    "# Ejercicio\n",
    "\n",
    "Completar el siguiente código de la función de `biseccion` para que resuelva para un cero de la función $f(x)$ especificada en el argumento `f`. Utilice una función `lambda` para entregar el polinomio a la función `biseccion`."
   ]
  },
  {
   "cell_type": "code",
   "execution_count": 50,
   "metadata": {},
   "outputs": [],
   "source": [
    "def biseccion(f, a=-100, b=100, epsilon=0.001, max_iter=100):\n",
    "\n",
    "    guess = (a + b) / 2\n",
    "\n",
    "    # Contador de iteraciones\n",
    "    num_guesses = 0\n",
    "\n",
    "    while abs(f(guess)) >= epsilon and num_guesses < max_iter:\n",
    "        if f(a)*f(guess) > 0:\n",
    "            # Si f(a) y f(guess) tienen el mismo signo, se debe\n",
    "            # acortar el intervalo por la izquierda\n",
    "            # Tu código acá:\n",
    "            \n",
    "        else:\n",
    "            # De lo contrario, se acorta por el lado derecho\n",
    "            # Tu código acá:\n",
    "\n",
    "        # Siguiente guess en el punto medio del espacio de búsqueda\n",
    "        guess = (a + b) / 2\n",
    "        num_guesses += 1\n",
    "\n",
    "    print('Iteraciones: ', num_guesses)\n",
    "    print('Solución encontrada: f(%0.4f) = %0.4f' % (guess, f(guess)))\n",
    "    return guess"
   ]
  },
  {
   "cell_type": "code",
   "execution_count": 51,
   "metadata": {},
   "outputs": [
    {
     "name": "stdout",
     "output_type": "stream",
     "text": [
      "Iteraciones:  10\n",
      "Solución encontrada: f(0.9990) = 0.0010\n"
     ]
    },
    {
     "data": {
      "text/plain": [
       "0.9990234375"
      ]
     },
     "execution_count": 51,
     "metadata": {},
     "output_type": "execute_result"
    }
   ],
   "source": [
    "f = lambda x : 1 - x\n",
    "\n",
    "biseccion(f, a=-10, b=4)"
   ]
  },
  {
   "cell_type": "markdown",
   "metadata": {},
   "source": [
    "### El número de oro\n",
    "\n",
    "Utilizando nuestra función de `biseccion`, encontremos una aproximación a la proporción divina $$\\phi=\\frac{1+\\sqrt{5}}{2}$$ resultado del cero del polinomio $f(x)=x^2-x-1$ en el intervalo $[1,2]$."
   ]
  },
  {
   "cell_type": "code",
   "execution_count": 55,
   "metadata": {},
   "outputs": [
    {
     "name": "stdout",
     "output_type": "stream",
     "text": [
      "Iteraciones:  16\n",
      "Solución encontrada: f(1.6180) = 0.0000\n",
      "1.6180343627929688\n"
     ]
    }
   ],
   "source": [
    "f = lambda x: x**2 - x - 1\n",
    "approx_phi = biseccion(f, a=1, b=2, epsilon=1e-6)\n",
    "print(approx_phi)"
   ]
  },
  {
   "cell_type": "code",
   "execution_count": null,
   "metadata": {},
   "outputs": [],
   "source": []
  }
 ],
 "metadata": {
  "kernelspec": {
   "display_name": "Python 3",
   "language": "python",
   "name": "python3"
  },
  "language_info": {
   "codemirror_mode": {
    "name": "ipython",
    "version": 3
   },
   "file_extension": ".py",
   "mimetype": "text/x-python",
   "name": "python",
   "nbconvert_exporter": "python",
   "pygments_lexer": "ipython3",
   "version": "3.7.4"
  }
 },
 "nbformat": 4,
 "nbformat_minor": 2
}
