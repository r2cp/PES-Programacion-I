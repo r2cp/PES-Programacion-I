{
 "cells": [
  {
   "cell_type": "code",
   "execution_count": 2,
   "metadata": {},
   "outputs": [],
   "source": [
    "import pdb"
   ]
  },
  {
   "cell_type": "code",
   "execution_count": null,
   "metadata": {},
   "outputs": [],
   "source": [
    "def biseccion(f, a=-100, b=100, epsilon=0.001, max_iter=100):\n",
    "\n",
    "    guess = (a + b) / 2\n",
    "\n",
    "    # Contador de iteraciones\n",
    "    num_guesses = 0\n",
    "    \n",
    "    pdb.set_trace()\n",
    "    while abs(f(guess)) >= epsilon and num_guesses < max_iter:\n",
    "        if f(a)*f(guess) > 0:\n",
    "            # Si f(a) y f(guess) tienen el mismo signo, se debe\n",
    "            # acortar el intervalo por la izquierda\n",
    "            # Tu código acá:\n",
    "            a = guess\n",
    "        else:\n",
    "            # De lo contrario, se acorta por el lado derecho\n",
    "            # Tu código acá:\n",
    "            b = guess\n",
    "        # Siguiente guess en el punto medio del espacio de búsqueda\n",
    "        guess = (a + b) / 2\n",
    "        num_guesses += 1\n",
    "\n",
    "    print('Iteraciones: ', num_guesses)\n",
    "    print('Solución encontrada: f(%0.4f) = %0.4f' % (guess, f(guess)))\n",
    "    return guess"
   ]
  },
  {
   "cell_type": "code",
   "execution_count": null,
   "metadata": {},
   "outputs": [],
   "source": [
    "f = lambda x: x**2 - x - 1\n",
    "approx_phi = biseccion(f, a=1, b=2, epsilon=1e-6)\n",
    "print(approx_phi)"
   ]
  },
  {
   "cell_type": "code",
   "execution_count": null,
   "metadata": {},
   "outputs": [],
   "source": []
  }
 ],
 "metadata": {
  "kernelspec": {
   "display_name": "Python 3",
   "language": "python",
   "name": "python3"
  },
  "language_info": {
   "codemirror_mode": {
    "name": "ipython",
    "version": 3
   },
   "file_extension": ".py",
   "mimetype": "text/x-python",
   "name": "python",
   "nbconvert_exporter": "python",
   "pygments_lexer": "ipython3",
   "version": "3.7.4"
  }
 },
 "nbformat": 4,
 "nbformat_minor": 2
}
