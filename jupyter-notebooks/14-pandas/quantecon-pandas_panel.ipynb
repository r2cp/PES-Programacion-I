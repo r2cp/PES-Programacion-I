{
 "cells": [
  {
   "cell_type": "markdown",
   "metadata": {},
   "source": [
    "\n",
    "<a id='ppd'></a>\n",
    "<div id=\"qe-notebook-header\" align=\"right\" style=\"text-align:right;\">\n",
    "        <a href=\"https://quantecon.org/\" title=\"quantecon.org\">\n",
    "                <img style=\"width:250px;display:inline;\" width=\"250px\" src=\"https://assets.quantecon.org/img/qe-menubar-logo.svg\" alt=\"QuantEcon\">\n",
    "        </a>\n",
    "</div>"
   ]
  },
  {
   "cell_type": "markdown",
   "metadata": {},
   "source": [
    "# Pandas for Panel Data\n",
    "\n",
    "\n",
    "<a id='index-1'></a>"
   ]
  },
  {
   "cell_type": "markdown",
   "metadata": {},
   "source": [
    "## Contents\n",
    "\n",
    "- [Pandas for Panel Data](#Pandas-for-Panel-Data)  \n",
    "  - [Overview](#Overview)  \n",
    "  - [Slicing and Reshaping Data](#Slicing-and-Reshaping-Data)  \n",
    "  - [Merging Dataframes and Filling NaNs](#Merging-Dataframes-and-Filling-NaNs)  \n",
    "  - [Grouping and Summarizing Data](#Grouping-and-Summarizing-Data)  \n",
    "  - [Final Remarks](#Final-Remarks)  \n",
    "  - [Exercises](#Exercises)  \n",
    "  - [Solutions](#Solutions)  "
   ]
  },
  {
   "cell_type": "markdown",
   "metadata": {},
   "source": [
    "## Overview\n",
    "\n",
    "In an [earlier lecture on pandas](https://python.quantecon.org/pandas.html), we looked at working with simple data sets.\n",
    "\n",
    "Econometricians often need to work with more complex data sets, such as panels.\n",
    "\n",
    "Common tasks include\n",
    "\n",
    "- Importing data, cleaning it and reshaping it across several axes.  \n",
    "- Selecting a time series or cross-section from a panel.  \n",
    "- Grouping and summarizing data.  \n",
    "\n",
    "\n",
    "`pandas` (derived from ‘panel’ and ‘data’) contains powerful and\n",
    "easy-to-use tools for solving exactly these kinds of problems.\n",
    "\n",
    "In what follows, we will use a panel data set of real minimum wages from the OECD to create:\n",
    "\n",
    "- summary statistics over multiple dimensions of our data  \n",
    "- a time series of the average minimum wage of countries in the dataset  \n",
    "- kernel density estimates of wages by continent  \n",
    "\n",
    "\n",
    "We will begin by reading in our long format panel data from a CSV file and\n",
    "reshaping the resulting `DataFrame` with `pivot_table` to build a `MultiIndex`.\n",
    "\n",
    "Additional detail will be added to our `DataFrame` using pandas’\n",
    "`merge` function, and data will be summarized with the `groupby`\n",
    "function.\n",
    "\n",
    "Most of this lecture was created by [Natasha Watkins](https://github.com/natashawatkins)."
   ]
  },
  {
   "cell_type": "markdown",
   "metadata": {},
   "source": [
    "## Slicing and Reshaping Data\n",
    "\n",
    "We will read in a dataset from the OECD of real minimum wages in 32\n",
    "countries and assign it to `realwage`.\n",
    "\n",
    "The dataset `pandas_panel/realwage.csv` can be downloaded\n",
    "<a href=_static/lecture_specific/pandas_panel/realwage.csv download>here</a>.\n",
    "\n",
    "Make sure the file is in your current working directory"
   ]
  },
  {
   "cell_type": "code",
   "execution_count": 1,
   "metadata": {
    "hide-output": false
   },
   "outputs": [],
   "source": [
    "import pandas as pd\n",
    "\n",
    "# Display 6 columns for viewing purposes\n",
    "pd.set_option('display.max_columns', 6)\n",
    "\n",
    "# Reduce decimal points to 2\n",
    "pd.options.display.float_format = '{:,.2f}'.format\n",
    "\n",
    "realwage = pd.read_csv('https://github.com/QuantEcon/QuantEcon.lectures.code/raw/master/pandas_panel/realwage.csv')"
   ]
  },
  {
   "cell_type": "markdown",
   "metadata": {},
   "source": [
    "Let’s have a look at what we’ve got to work with"
   ]
  },
  {
   "cell_type": "code",
   "execution_count": 2,
   "metadata": {
    "hide-output": false
   },
   "outputs": [
    {
     "data": {
      "text/html": [
       "<div>\n",
       "<style scoped>\n",
       "    .dataframe tbody tr th:only-of-type {\n",
       "        vertical-align: middle;\n",
       "    }\n",
       "\n",
       "    .dataframe tbody tr th {\n",
       "        vertical-align: top;\n",
       "    }\n",
       "\n",
       "    .dataframe thead th {\n",
       "        text-align: right;\n",
       "    }\n",
       "</style>\n",
       "<table border=\"1\" class=\"dataframe\">\n",
       "  <thead>\n",
       "    <tr style=\"text-align: right;\">\n",
       "      <th></th>\n",
       "      <th>Unnamed: 0</th>\n",
       "      <th>Time</th>\n",
       "      <th>Country</th>\n",
       "      <th>Series</th>\n",
       "      <th>Pay period</th>\n",
       "      <th>value</th>\n",
       "    </tr>\n",
       "  </thead>\n",
       "  <tbody>\n",
       "    <tr>\n",
       "      <td>0</td>\n",
       "      <td>0</td>\n",
       "      <td>2006-01-01</td>\n",
       "      <td>Ireland</td>\n",
       "      <td>In 2015 constant prices at 2015 USD PPPs</td>\n",
       "      <td>Annual</td>\n",
       "      <td>17,132.44</td>\n",
       "    </tr>\n",
       "    <tr>\n",
       "      <td>1</td>\n",
       "      <td>1</td>\n",
       "      <td>2007-01-01</td>\n",
       "      <td>Ireland</td>\n",
       "      <td>In 2015 constant prices at 2015 USD PPPs</td>\n",
       "      <td>Annual</td>\n",
       "      <td>18,100.92</td>\n",
       "    </tr>\n",
       "    <tr>\n",
       "      <td>2</td>\n",
       "      <td>2</td>\n",
       "      <td>2008-01-01</td>\n",
       "      <td>Ireland</td>\n",
       "      <td>In 2015 constant prices at 2015 USD PPPs</td>\n",
       "      <td>Annual</td>\n",
       "      <td>17,747.41</td>\n",
       "    </tr>\n",
       "    <tr>\n",
       "      <td>3</td>\n",
       "      <td>3</td>\n",
       "      <td>2009-01-01</td>\n",
       "      <td>Ireland</td>\n",
       "      <td>In 2015 constant prices at 2015 USD PPPs</td>\n",
       "      <td>Annual</td>\n",
       "      <td>18,580.14</td>\n",
       "    </tr>\n",
       "    <tr>\n",
       "      <td>4</td>\n",
       "      <td>4</td>\n",
       "      <td>2010-01-01</td>\n",
       "      <td>Ireland</td>\n",
       "      <td>In 2015 constant prices at 2015 USD PPPs</td>\n",
       "      <td>Annual</td>\n",
       "      <td>18,755.83</td>\n",
       "    </tr>\n",
       "  </tbody>\n",
       "</table>\n",
       "</div>"
      ],
      "text/plain": [
       "   Unnamed: 0        Time  Country                                    Series  \\\n",
       "0           0  2006-01-01  Ireland  In 2015 constant prices at 2015 USD PPPs   \n",
       "1           1  2007-01-01  Ireland  In 2015 constant prices at 2015 USD PPPs   \n",
       "2           2  2008-01-01  Ireland  In 2015 constant prices at 2015 USD PPPs   \n",
       "3           3  2009-01-01  Ireland  In 2015 constant prices at 2015 USD PPPs   \n",
       "4           4  2010-01-01  Ireland  In 2015 constant prices at 2015 USD PPPs   \n",
       "\n",
       "  Pay period     value  \n",
       "0     Annual 17,132.44  \n",
       "1     Annual 18,100.92  \n",
       "2     Annual 17,747.41  \n",
       "3     Annual 18,580.14  \n",
       "4     Annual 18,755.83  "
      ]
     },
     "execution_count": 2,
     "metadata": {},
     "output_type": "execute_result"
    }
   ],
   "source": [
    "realwage.head()  # Show first 5 rows"
   ]
  },
  {
   "cell_type": "markdown",
   "metadata": {},
   "source": [
    "The data is currently in long format, which is difficult to analyze when there are several dimensions to the data.\n",
    "\n",
    "We will use `pivot_table` to create a wide format panel, with a `MultiIndex` to handle higher dimensional data.\n",
    "\n",
    "`pivot_table` arguments should specify the data (values), the index, and the columns we want in our resulting dataframe.\n",
    "\n",
    "By passing a list in columns, we can create a `MultiIndex` in our column axis"
   ]
  },
  {
   "cell_type": "code",
   "execution_count": 3,
   "metadata": {
    "hide-output": false
   },
   "outputs": [
    {
     "data": {
      "text/html": [
       "<div>\n",
       "<style scoped>\n",
       "    .dataframe tbody tr th:only-of-type {\n",
       "        vertical-align: middle;\n",
       "    }\n",
       "\n",
       "    .dataframe tbody tr th {\n",
       "        vertical-align: top;\n",
       "    }\n",
       "\n",
       "    .dataframe thead tr th {\n",
       "        text-align: left;\n",
       "    }\n",
       "\n",
       "    .dataframe thead tr:last-of-type th {\n",
       "        text-align: right;\n",
       "    }\n",
       "</style>\n",
       "<table border=\"1\" class=\"dataframe\">\n",
       "  <thead>\n",
       "    <tr>\n",
       "      <th>Country</th>\n",
       "      <th colspan=\"3\" halign=\"left\">Australia</th>\n",
       "      <th>...</th>\n",
       "      <th colspan=\"3\" halign=\"left\">United States</th>\n",
       "    </tr>\n",
       "    <tr>\n",
       "      <th>Series</th>\n",
       "      <th colspan=\"2\" halign=\"left\">In 2015 constant prices at 2015 USD PPPs</th>\n",
       "      <th>In 2015 constant prices at 2015 USD exchange rates</th>\n",
       "      <th>...</th>\n",
       "      <th>In 2015 constant prices at 2015 USD PPPs</th>\n",
       "      <th colspan=\"2\" halign=\"left\">In 2015 constant prices at 2015 USD exchange rates</th>\n",
       "    </tr>\n",
       "    <tr>\n",
       "      <th>Pay period</th>\n",
       "      <th>Annual</th>\n",
       "      <th>Hourly</th>\n",
       "      <th>Annual</th>\n",
       "      <th>...</th>\n",
       "      <th>Hourly</th>\n",
       "      <th>Annual</th>\n",
       "      <th>Hourly</th>\n",
       "    </tr>\n",
       "    <tr>\n",
       "      <th>Time</th>\n",
       "      <th></th>\n",
       "      <th></th>\n",
       "      <th></th>\n",
       "      <th></th>\n",
       "      <th></th>\n",
       "      <th></th>\n",
       "      <th></th>\n",
       "    </tr>\n",
       "  </thead>\n",
       "  <tbody>\n",
       "    <tr>\n",
       "      <td>2006-01-01</td>\n",
       "      <td>20,410.65</td>\n",
       "      <td>10.33</td>\n",
       "      <td>23,826.64</td>\n",
       "      <td>...</td>\n",
       "      <td>6.05</td>\n",
       "      <td>12,594.40</td>\n",
       "      <td>6.05</td>\n",
       "    </tr>\n",
       "    <tr>\n",
       "      <td>2007-01-01</td>\n",
       "      <td>21,087.57</td>\n",
       "      <td>10.67</td>\n",
       "      <td>24,616.84</td>\n",
       "      <td>...</td>\n",
       "      <td>6.24</td>\n",
       "      <td>12,974.40</td>\n",
       "      <td>6.24</td>\n",
       "    </tr>\n",
       "    <tr>\n",
       "      <td>2008-01-01</td>\n",
       "      <td>20,718.24</td>\n",
       "      <td>10.48</td>\n",
       "      <td>24,185.70</td>\n",
       "      <td>...</td>\n",
       "      <td>6.78</td>\n",
       "      <td>14,097.56</td>\n",
       "      <td>6.78</td>\n",
       "    </tr>\n",
       "    <tr>\n",
       "      <td>2009-01-01</td>\n",
       "      <td>20,984.77</td>\n",
       "      <td>10.62</td>\n",
       "      <td>24,496.84</td>\n",
       "      <td>...</td>\n",
       "      <td>7.58</td>\n",
       "      <td>15,756.42</td>\n",
       "      <td>7.58</td>\n",
       "    </tr>\n",
       "    <tr>\n",
       "      <td>2010-01-01</td>\n",
       "      <td>20,879.33</td>\n",
       "      <td>10.57</td>\n",
       "      <td>24,373.76</td>\n",
       "      <td>...</td>\n",
       "      <td>7.88</td>\n",
       "      <td>16,391.31</td>\n",
       "      <td>7.88</td>\n",
       "    </tr>\n",
       "  </tbody>\n",
       "</table>\n",
       "<p>5 rows × 128 columns</p>\n",
       "</div>"
      ],
      "text/plain": [
       "Country                                   Australia         \\\n",
       "Series     In 2015 constant prices at 2015 USD PPPs          \n",
       "Pay period                                   Annual Hourly   \n",
       "Time                                                         \n",
       "2006-01-01                                20,410.65  10.33   \n",
       "2007-01-01                                21,087.57  10.67   \n",
       "2008-01-01                                20,718.24  10.48   \n",
       "2009-01-01                                20,984.77  10.62   \n",
       "2010-01-01                                20,879.33  10.57   \n",
       "\n",
       "Country                                                        ...  \\\n",
       "Series     In 2015 constant prices at 2015 USD exchange rates  ...   \n",
       "Pay period                                             Annual  ...   \n",
       "Time                                                           ...   \n",
       "2006-01-01                                          23,826.64  ...   \n",
       "2007-01-01                                          24,616.84  ...   \n",
       "2008-01-01                                          24,185.70  ...   \n",
       "2009-01-01                                          24,496.84  ...   \n",
       "2010-01-01                                          24,373.76  ...   \n",
       "\n",
       "Country                               United States  \\\n",
       "Series     In 2015 constant prices at 2015 USD PPPs   \n",
       "Pay period                                   Hourly   \n",
       "Time                                                  \n",
       "2006-01-01                                     6.05   \n",
       "2007-01-01                                     6.24   \n",
       "2008-01-01                                     6.78   \n",
       "2009-01-01                                     7.58   \n",
       "2010-01-01                                     7.88   \n",
       "\n",
       "Country                                                               \n",
       "Series     In 2015 constant prices at 2015 USD exchange rates         \n",
       "Pay period                                             Annual Hourly  \n",
       "Time                                                                  \n",
       "2006-01-01                                          12,594.40   6.05  \n",
       "2007-01-01                                          12,974.40   6.24  \n",
       "2008-01-01                                          14,097.56   6.78  \n",
       "2009-01-01                                          15,756.42   7.58  \n",
       "2010-01-01                                          16,391.31   7.88  \n",
       "\n",
       "[5 rows x 128 columns]"
      ]
     },
     "execution_count": 3,
     "metadata": {},
     "output_type": "execute_result"
    }
   ],
   "source": [
    "realwage = realwage.pivot_table(values='value',\n",
    "                                index='Time',\n",
    "                                columns=['Country', 'Series', 'Pay period'])\n",
    "realwage.head()"
   ]
  },
  {
   "cell_type": "markdown",
   "metadata": {},
   "source": [
    "To more easily filter our time series data, later on, we will convert the index into a `DateTimeIndex`"
   ]
  },
  {
   "cell_type": "code",
   "execution_count": 4,
   "metadata": {
    "hide-output": false
   },
   "outputs": [
    {
     "data": {
      "text/plain": [
       "pandas.core.indexes.datetimes.DatetimeIndex"
      ]
     },
     "execution_count": 4,
     "metadata": {},
     "output_type": "execute_result"
    }
   ],
   "source": [
    "realwage.index = pd.to_datetime(realwage.index)\n",
    "type(realwage.index)"
   ]
  },
  {
   "cell_type": "markdown",
   "metadata": {},
   "source": [
    "The columns contain multiple levels of indexing, known as a\n",
    "`MultiIndex`, with levels being ordered hierarchically (Country >\n",
    "Series > Pay period).\n",
    "\n",
    "A `MultiIndex` is the simplest and most flexible way to manage panel\n",
    "data in pandas"
   ]
  },
  {
   "cell_type": "code",
   "execution_count": 5,
   "metadata": {
    "hide-output": false
   },
   "outputs": [
    {
     "data": {
      "text/plain": [
       "pandas.core.indexes.multi.MultiIndex"
      ]
     },
     "execution_count": 5,
     "metadata": {},
     "output_type": "execute_result"
    }
   ],
   "source": [
    "type(realwage.columns)"
   ]
  },
  {
   "cell_type": "code",
   "execution_count": 6,
   "metadata": {
    "hide-output": false
   },
   "outputs": [
    {
     "data": {
      "text/plain": [
       "FrozenList(['Country', 'Series', 'Pay period'])"
      ]
     },
     "execution_count": 6,
     "metadata": {},
     "output_type": "execute_result"
    }
   ],
   "source": [
    "realwage.columns.names"
   ]
  },
  {
   "cell_type": "markdown",
   "metadata": {},
   "source": [
    "Like before, we can select the country (the top level of our\n",
    "`MultiIndex`)"
   ]
  },
  {
   "cell_type": "code",
   "execution_count": 7,
   "metadata": {
    "hide-output": false
   },
   "outputs": [
    {
     "data": {
      "text/html": [
       "<div>\n",
       "<style scoped>\n",
       "    .dataframe tbody tr th:only-of-type {\n",
       "        vertical-align: middle;\n",
       "    }\n",
       "\n",
       "    .dataframe tbody tr th {\n",
       "        vertical-align: top;\n",
       "    }\n",
       "\n",
       "    .dataframe thead tr th {\n",
       "        text-align: left;\n",
       "    }\n",
       "\n",
       "    .dataframe thead tr:last-of-type th {\n",
       "        text-align: right;\n",
       "    }\n",
       "</style>\n",
       "<table border=\"1\" class=\"dataframe\">\n",
       "  <thead>\n",
       "    <tr>\n",
       "      <th>Series</th>\n",
       "      <th colspan=\"2\" halign=\"left\">In 2015 constant prices at 2015 USD PPPs</th>\n",
       "      <th colspan=\"2\" halign=\"left\">In 2015 constant prices at 2015 USD exchange rates</th>\n",
       "    </tr>\n",
       "    <tr>\n",
       "      <th>Pay period</th>\n",
       "      <th>Annual</th>\n",
       "      <th>Hourly</th>\n",
       "      <th>Annual</th>\n",
       "      <th>Hourly</th>\n",
       "    </tr>\n",
       "    <tr>\n",
       "      <th>Time</th>\n",
       "      <th></th>\n",
       "      <th></th>\n",
       "      <th></th>\n",
       "      <th></th>\n",
       "    </tr>\n",
       "  </thead>\n",
       "  <tbody>\n",
       "    <tr>\n",
       "      <td>2006-01-01</td>\n",
       "      <td>12,594.40</td>\n",
       "      <td>6.05</td>\n",
       "      <td>12,594.40</td>\n",
       "      <td>6.05</td>\n",
       "    </tr>\n",
       "    <tr>\n",
       "      <td>2007-01-01</td>\n",
       "      <td>12,974.40</td>\n",
       "      <td>6.24</td>\n",
       "      <td>12,974.40</td>\n",
       "      <td>6.24</td>\n",
       "    </tr>\n",
       "    <tr>\n",
       "      <td>2008-01-01</td>\n",
       "      <td>14,097.56</td>\n",
       "      <td>6.78</td>\n",
       "      <td>14,097.56</td>\n",
       "      <td>6.78</td>\n",
       "    </tr>\n",
       "    <tr>\n",
       "      <td>2009-01-01</td>\n",
       "      <td>15,756.42</td>\n",
       "      <td>7.58</td>\n",
       "      <td>15,756.42</td>\n",
       "      <td>7.58</td>\n",
       "    </tr>\n",
       "    <tr>\n",
       "      <td>2010-01-01</td>\n",
       "      <td>16,391.31</td>\n",
       "      <td>7.88</td>\n",
       "      <td>16,391.31</td>\n",
       "      <td>7.88</td>\n",
       "    </tr>\n",
       "  </tbody>\n",
       "</table>\n",
       "</div>"
      ],
      "text/plain": [
       "Series     In 2015 constant prices at 2015 USD PPPs         \\\n",
       "Pay period                                   Annual Hourly   \n",
       "Time                                                         \n",
       "2006-01-01                                12,594.40   6.05   \n",
       "2007-01-01                                12,974.40   6.24   \n",
       "2008-01-01                                14,097.56   6.78   \n",
       "2009-01-01                                15,756.42   7.58   \n",
       "2010-01-01                                16,391.31   7.88   \n",
       "\n",
       "Series     In 2015 constant prices at 2015 USD exchange rates         \n",
       "Pay period                                             Annual Hourly  \n",
       "Time                                                                  \n",
       "2006-01-01                                          12,594.40   6.05  \n",
       "2007-01-01                                          12,974.40   6.24  \n",
       "2008-01-01                                          14,097.56   6.78  \n",
       "2009-01-01                                          15,756.42   7.58  \n",
       "2010-01-01                                          16,391.31   7.88  "
      ]
     },
     "execution_count": 7,
     "metadata": {},
     "output_type": "execute_result"
    }
   ],
   "source": [
    "realwage['United States'].head()"
   ]
  },
  {
   "cell_type": "markdown",
   "metadata": {},
   "source": [
    "Stacking and unstacking levels of the `MultiIndex` will be used\n",
    "throughout this lecture to reshape our dataframe into a format we need.\n",
    "\n",
    "`.stack()` rotates the lowest level of the column `MultiIndex` to\n",
    "the row index (`.unstack()` works in the opposite direction - try it\n",
    "out)"
   ]
  },
  {
   "cell_type": "code",
   "execution_count": 8,
   "metadata": {
    "hide-output": false
   },
   "outputs": [
    {
     "data": {
      "text/html": [
       "<div>\n",
       "<style scoped>\n",
       "    .dataframe tbody tr th:only-of-type {\n",
       "        vertical-align: middle;\n",
       "    }\n",
       "\n",
       "    .dataframe tbody tr th {\n",
       "        vertical-align: top;\n",
       "    }\n",
       "\n",
       "    .dataframe thead tr th {\n",
       "        text-align: left;\n",
       "    }\n",
       "\n",
       "    .dataframe thead tr:last-of-type th {\n",
       "        text-align: right;\n",
       "    }\n",
       "</style>\n",
       "<table border=\"1\" class=\"dataframe\">\n",
       "  <thead>\n",
       "    <tr>\n",
       "      <th></th>\n",
       "      <th>Country</th>\n",
       "      <th colspan=\"2\" halign=\"left\">Australia</th>\n",
       "      <th>Belgium</th>\n",
       "      <th>...</th>\n",
       "      <th>United Kingdom</th>\n",
       "      <th colspan=\"2\" halign=\"left\">United States</th>\n",
       "    </tr>\n",
       "    <tr>\n",
       "      <th></th>\n",
       "      <th>Series</th>\n",
       "      <th>In 2015 constant prices at 2015 USD PPPs</th>\n",
       "      <th>In 2015 constant prices at 2015 USD exchange rates</th>\n",
       "      <th>In 2015 constant prices at 2015 USD PPPs</th>\n",
       "      <th>...</th>\n",
       "      <th>In 2015 constant prices at 2015 USD exchange rates</th>\n",
       "      <th>In 2015 constant prices at 2015 USD PPPs</th>\n",
       "      <th>In 2015 constant prices at 2015 USD exchange rates</th>\n",
       "    </tr>\n",
       "    <tr>\n",
       "      <th>Time</th>\n",
       "      <th>Pay period</th>\n",
       "      <th></th>\n",
       "      <th></th>\n",
       "      <th></th>\n",
       "      <th></th>\n",
       "      <th></th>\n",
       "      <th></th>\n",
       "      <th></th>\n",
       "    </tr>\n",
       "  </thead>\n",
       "  <tbody>\n",
       "    <tr>\n",
       "      <td rowspan=\"2\" valign=\"top\">2006-01-01</td>\n",
       "      <td>Annual</td>\n",
       "      <td>20,410.65</td>\n",
       "      <td>23,826.64</td>\n",
       "      <td>21,042.28</td>\n",
       "      <td>...</td>\n",
       "      <td>20,376.32</td>\n",
       "      <td>12,594.40</td>\n",
       "      <td>12,594.40</td>\n",
       "    </tr>\n",
       "    <tr>\n",
       "      <td>Hourly</td>\n",
       "      <td>10.33</td>\n",
       "      <td>12.06</td>\n",
       "      <td>10.09</td>\n",
       "      <td>...</td>\n",
       "      <td>9.81</td>\n",
       "      <td>6.05</td>\n",
       "      <td>6.05</td>\n",
       "    </tr>\n",
       "    <tr>\n",
       "      <td rowspan=\"2\" valign=\"top\">2007-01-01</td>\n",
       "      <td>Annual</td>\n",
       "      <td>21,087.57</td>\n",
       "      <td>24,616.84</td>\n",
       "      <td>21,310.05</td>\n",
       "      <td>...</td>\n",
       "      <td>20,954.13</td>\n",
       "      <td>12,974.40</td>\n",
       "      <td>12,974.40</td>\n",
       "    </tr>\n",
       "    <tr>\n",
       "      <td>Hourly</td>\n",
       "      <td>10.67</td>\n",
       "      <td>12.46</td>\n",
       "      <td>10.22</td>\n",
       "      <td>...</td>\n",
       "      <td>10.07</td>\n",
       "      <td>6.24</td>\n",
       "      <td>6.24</td>\n",
       "    </tr>\n",
       "    <tr>\n",
       "      <td>2008-01-01</td>\n",
       "      <td>Annual</td>\n",
       "      <td>20,718.24</td>\n",
       "      <td>24,185.70</td>\n",
       "      <td>21,416.96</td>\n",
       "      <td>...</td>\n",
       "      <td>20,902.87</td>\n",
       "      <td>14,097.56</td>\n",
       "      <td>14,097.56</td>\n",
       "    </tr>\n",
       "  </tbody>\n",
       "</table>\n",
       "<p>5 rows × 64 columns</p>\n",
       "</div>"
      ],
      "text/plain": [
       "Country                                              Australia  \\\n",
       "Series                In 2015 constant prices at 2015 USD PPPs   \n",
       "Time       Pay period                                            \n",
       "2006-01-01 Annual                                    20,410.65   \n",
       "           Hourly                                        10.33   \n",
       "2007-01-01 Annual                                    21,087.57   \n",
       "           Hourly                                        10.67   \n",
       "2008-01-01 Annual                                    20,718.24   \n",
       "\n",
       "Country                                                                   \\\n",
       "Series                In 2015 constant prices at 2015 USD exchange rates   \n",
       "Time       Pay period                                                      \n",
       "2006-01-01 Annual                                              23,826.64   \n",
       "           Hourly                                                  12.06   \n",
       "2007-01-01 Annual                                              24,616.84   \n",
       "           Hourly                                                  12.46   \n",
       "2008-01-01 Annual                                              24,185.70   \n",
       "\n",
       "Country                                                Belgium  ...  \\\n",
       "Series                In 2015 constant prices at 2015 USD PPPs  ...   \n",
       "Time       Pay period                                           ...   \n",
       "2006-01-01 Annual                                    21,042.28  ...   \n",
       "           Hourly                                        10.09  ...   \n",
       "2007-01-01 Annual                                    21,310.05  ...   \n",
       "           Hourly                                        10.22  ...   \n",
       "2008-01-01 Annual                                    21,416.96  ...   \n",
       "\n",
       "Country                                                   United Kingdom  \\\n",
       "Series                In 2015 constant prices at 2015 USD exchange rates   \n",
       "Time       Pay period                                                      \n",
       "2006-01-01 Annual                                              20,376.32   \n",
       "           Hourly                                                   9.81   \n",
       "2007-01-01 Annual                                              20,954.13   \n",
       "           Hourly                                                  10.07   \n",
       "2008-01-01 Annual                                              20,902.87   \n",
       "\n",
       "Country                                          United States  \\\n",
       "Series                In 2015 constant prices at 2015 USD PPPs   \n",
       "Time       Pay period                                            \n",
       "2006-01-01 Annual                                    12,594.40   \n",
       "           Hourly                                         6.05   \n",
       "2007-01-01 Annual                                    12,974.40   \n",
       "           Hourly                                         6.24   \n",
       "2008-01-01 Annual                                    14,097.56   \n",
       "\n",
       "Country                                                                   \n",
       "Series                In 2015 constant prices at 2015 USD exchange rates  \n",
       "Time       Pay period                                                     \n",
       "2006-01-01 Annual                                              12,594.40  \n",
       "           Hourly                                                   6.05  \n",
       "2007-01-01 Annual                                              12,974.40  \n",
       "           Hourly                                                   6.24  \n",
       "2008-01-01 Annual                                              14,097.56  \n",
       "\n",
       "[5 rows x 64 columns]"
      ]
     },
     "execution_count": 8,
     "metadata": {},
     "output_type": "execute_result"
    }
   ],
   "source": [
    "realwage.stack().head()"
   ]
  },
  {
   "cell_type": "markdown",
   "metadata": {},
   "source": [
    "We can also pass in an argument to select the level we would like to\n",
    "stack"
   ]
  },
  {
   "cell_type": "code",
   "execution_count": 9,
   "metadata": {
    "hide-output": false
   },
   "outputs": [
    {
     "data": {
      "text/html": [
       "<div>\n",
       "<style scoped>\n",
       "    .dataframe tbody tr th:only-of-type {\n",
       "        vertical-align: middle;\n",
       "    }\n",
       "\n",
       "    .dataframe tbody tr th {\n",
       "        vertical-align: top;\n",
       "    }\n",
       "\n",
       "    .dataframe thead tr th {\n",
       "        text-align: left;\n",
       "    }\n",
       "\n",
       "    .dataframe thead tr:last-of-type th {\n",
       "        text-align: right;\n",
       "    }\n",
       "</style>\n",
       "<table border=\"1\" class=\"dataframe\">\n",
       "  <thead>\n",
       "    <tr>\n",
       "      <th></th>\n",
       "      <th>Series</th>\n",
       "      <th colspan=\"2\" halign=\"left\">In 2015 constant prices at 2015 USD PPPs</th>\n",
       "      <th colspan=\"2\" halign=\"left\">In 2015 constant prices at 2015 USD exchange rates</th>\n",
       "    </tr>\n",
       "    <tr>\n",
       "      <th></th>\n",
       "      <th>Pay period</th>\n",
       "      <th>Annual</th>\n",
       "      <th>Hourly</th>\n",
       "      <th>Annual</th>\n",
       "      <th>Hourly</th>\n",
       "    </tr>\n",
       "    <tr>\n",
       "      <th>Time</th>\n",
       "      <th>Country</th>\n",
       "      <th></th>\n",
       "      <th></th>\n",
       "      <th></th>\n",
       "      <th></th>\n",
       "    </tr>\n",
       "  </thead>\n",
       "  <tbody>\n",
       "    <tr>\n",
       "      <td rowspan=\"5\" valign=\"top\">2006-01-01</td>\n",
       "      <td>Australia</td>\n",
       "      <td>20,410.65</td>\n",
       "      <td>10.33</td>\n",
       "      <td>23,826.64</td>\n",
       "      <td>12.06</td>\n",
       "    </tr>\n",
       "    <tr>\n",
       "      <td>Belgium</td>\n",
       "      <td>21,042.28</td>\n",
       "      <td>10.09</td>\n",
       "      <td>20,228.74</td>\n",
       "      <td>9.70</td>\n",
       "    </tr>\n",
       "    <tr>\n",
       "      <td>Brazil</td>\n",
       "      <td>3,310.51</td>\n",
       "      <td>1.41</td>\n",
       "      <td>2,032.87</td>\n",
       "      <td>0.87</td>\n",
       "    </tr>\n",
       "    <tr>\n",
       "      <td>Canada</td>\n",
       "      <td>13,649.69</td>\n",
       "      <td>6.56</td>\n",
       "      <td>14,335.12</td>\n",
       "      <td>6.89</td>\n",
       "    </tr>\n",
       "    <tr>\n",
       "      <td>Chile</td>\n",
       "      <td>5,201.65</td>\n",
       "      <td>2.22</td>\n",
       "      <td>3,333.76</td>\n",
       "      <td>1.42</td>\n",
       "    </tr>\n",
       "  </tbody>\n",
       "</table>\n",
       "</div>"
      ],
      "text/plain": [
       "Series               In 2015 constant prices at 2015 USD PPPs         \\\n",
       "Pay period                                             Annual Hourly   \n",
       "Time       Country                                                     \n",
       "2006-01-01 Australia                                20,410.65  10.33   \n",
       "           Belgium                                  21,042.28  10.09   \n",
       "           Brazil                                    3,310.51   1.41   \n",
       "           Canada                                   13,649.69   6.56   \n",
       "           Chile                                     5,201.65   2.22   \n",
       "\n",
       "Series               In 2015 constant prices at 2015 USD exchange rates         \n",
       "Pay period                                                       Annual Hourly  \n",
       "Time       Country                                                              \n",
       "2006-01-01 Australia                                          23,826.64  12.06  \n",
       "           Belgium                                            20,228.74   9.70  \n",
       "           Brazil                                              2,032.87   0.87  \n",
       "           Canada                                             14,335.12   6.89  \n",
       "           Chile                                               3,333.76   1.42  "
      ]
     },
     "execution_count": 9,
     "metadata": {},
     "output_type": "execute_result"
    }
   ],
   "source": [
    "realwage.stack(level='Country').head()"
   ]
  },
  {
   "cell_type": "markdown",
   "metadata": {},
   "source": [
    "Using a `DatetimeIndex` makes it easy to select a particular time\n",
    "period.\n",
    "\n",
    "Selecting one year and stacking the two lower levels of the\n",
    "`MultiIndex` creates a cross-section of our panel data"
   ]
  },
  {
   "cell_type": "code",
   "execution_count": 10,
   "metadata": {
    "hide-output": false
   },
   "outputs": [
    {
     "data": {
      "text/html": [
       "<div>\n",
       "<style scoped>\n",
       "    .dataframe tbody tr th:only-of-type {\n",
       "        vertical-align: middle;\n",
       "    }\n",
       "\n",
       "    .dataframe tbody tr th {\n",
       "        vertical-align: top;\n",
       "    }\n",
       "\n",
       "    .dataframe thead tr th {\n",
       "        text-align: left;\n",
       "    }\n",
       "\n",
       "    .dataframe thead tr:last-of-type th {\n",
       "        text-align: right;\n",
       "    }\n",
       "</style>\n",
       "<table border=\"1\" class=\"dataframe\">\n",
       "  <thead>\n",
       "    <tr>\n",
       "      <th>Time</th>\n",
       "      <th colspan=\"4\" halign=\"left\">2015-01-01</th>\n",
       "    </tr>\n",
       "    <tr>\n",
       "      <th>Series</th>\n",
       "      <th colspan=\"2\" halign=\"left\">In 2015 constant prices at 2015 USD PPPs</th>\n",
       "      <th colspan=\"2\" halign=\"left\">In 2015 constant prices at 2015 USD exchange rates</th>\n",
       "    </tr>\n",
       "    <tr>\n",
       "      <th>Pay period</th>\n",
       "      <th>Annual</th>\n",
       "      <th>Hourly</th>\n",
       "      <th>Annual</th>\n",
       "      <th>Hourly</th>\n",
       "    </tr>\n",
       "    <tr>\n",
       "      <th>Country</th>\n",
       "      <th></th>\n",
       "      <th></th>\n",
       "      <th></th>\n",
       "      <th></th>\n",
       "    </tr>\n",
       "  </thead>\n",
       "  <tbody>\n",
       "    <tr>\n",
       "      <td>Australia</td>\n",
       "      <td>21,715.53</td>\n",
       "      <td>10.99</td>\n",
       "      <td>25,349.90</td>\n",
       "      <td>12.83</td>\n",
       "    </tr>\n",
       "    <tr>\n",
       "      <td>Belgium</td>\n",
       "      <td>21,588.12</td>\n",
       "      <td>10.35</td>\n",
       "      <td>20,753.48</td>\n",
       "      <td>9.95</td>\n",
       "    </tr>\n",
       "    <tr>\n",
       "      <td>Brazil</td>\n",
       "      <td>4,628.63</td>\n",
       "      <td>2.00</td>\n",
       "      <td>2,842.28</td>\n",
       "      <td>1.21</td>\n",
       "    </tr>\n",
       "    <tr>\n",
       "      <td>Canada</td>\n",
       "      <td>16,536.83</td>\n",
       "      <td>7.95</td>\n",
       "      <td>17,367.24</td>\n",
       "      <td>8.35</td>\n",
       "    </tr>\n",
       "    <tr>\n",
       "      <td>Chile</td>\n",
       "      <td>6,633.56</td>\n",
       "      <td>2.80</td>\n",
       "      <td>4,251.49</td>\n",
       "      <td>1.81</td>\n",
       "    </tr>\n",
       "  </tbody>\n",
       "</table>\n",
       "</div>"
      ],
      "text/plain": [
       "Time                                     2015-01-01         \\\n",
       "Series     In 2015 constant prices at 2015 USD PPPs          \n",
       "Pay period                                   Annual Hourly   \n",
       "Country                                                      \n",
       "Australia                                 21,715.53  10.99   \n",
       "Belgium                                   21,588.12  10.35   \n",
       "Brazil                                     4,628.63   2.00   \n",
       "Canada                                    16,536.83   7.95   \n",
       "Chile                                      6,633.56   2.80   \n",
       "\n",
       "Time                                                                  \n",
       "Series     In 2015 constant prices at 2015 USD exchange rates         \n",
       "Pay period                                             Annual Hourly  \n",
       "Country                                                               \n",
       "Australia                                           25,349.90  12.83  \n",
       "Belgium                                             20,753.48   9.95  \n",
       "Brazil                                               2,842.28   1.21  \n",
       "Canada                                              17,367.24   8.35  \n",
       "Chile                                                4,251.49   1.81  "
      ]
     },
     "execution_count": 10,
     "metadata": {},
     "output_type": "execute_result"
    }
   ],
   "source": [
    "realwage['2015'].stack(level=(1, 2)).transpose().head()"
   ]
  },
  {
   "cell_type": "markdown",
   "metadata": {},
   "source": [
    "For the rest of lecture, we will work with a dataframe of the hourly\n",
    "real minimum wages across countries and time, measured in 2015 US\n",
    "dollars.\n",
    "\n",
    "To create our filtered dataframe (`realwage_f`), we can use the `xs`\n",
    "method to select values at lower levels in the multiindex, while keeping\n",
    "the higher levels (countries in this case)"
   ]
  },
  {
   "cell_type": "code",
   "execution_count": 11,
   "metadata": {
    "hide-output": false
   },
   "outputs": [
    {
     "data": {
      "text/html": [
       "<div>\n",
       "<style scoped>\n",
       "    .dataframe tbody tr th:only-of-type {\n",
       "        vertical-align: middle;\n",
       "    }\n",
       "\n",
       "    .dataframe tbody tr th {\n",
       "        vertical-align: top;\n",
       "    }\n",
       "\n",
       "    .dataframe thead th {\n",
       "        text-align: right;\n",
       "    }\n",
       "</style>\n",
       "<table border=\"1\" class=\"dataframe\">\n",
       "  <thead>\n",
       "    <tr style=\"text-align: right;\">\n",
       "      <th>Country</th>\n",
       "      <th>Australia</th>\n",
       "      <th>Belgium</th>\n",
       "      <th>Brazil</th>\n",
       "      <th>...</th>\n",
       "      <th>Turkey</th>\n",
       "      <th>United Kingdom</th>\n",
       "      <th>United States</th>\n",
       "    </tr>\n",
       "    <tr>\n",
       "      <th>Time</th>\n",
       "      <th></th>\n",
       "      <th></th>\n",
       "      <th></th>\n",
       "      <th></th>\n",
       "      <th></th>\n",
       "      <th></th>\n",
       "      <th></th>\n",
       "    </tr>\n",
       "  </thead>\n",
       "  <tbody>\n",
       "    <tr>\n",
       "      <td>2006-01-01</td>\n",
       "      <td>12.06</td>\n",
       "      <td>9.70</td>\n",
       "      <td>0.87</td>\n",
       "      <td>...</td>\n",
       "      <td>2.27</td>\n",
       "      <td>9.81</td>\n",
       "      <td>6.05</td>\n",
       "    </tr>\n",
       "    <tr>\n",
       "      <td>2007-01-01</td>\n",
       "      <td>12.46</td>\n",
       "      <td>9.82</td>\n",
       "      <td>0.92</td>\n",
       "      <td>...</td>\n",
       "      <td>2.26</td>\n",
       "      <td>10.07</td>\n",
       "      <td>6.24</td>\n",
       "    </tr>\n",
       "    <tr>\n",
       "      <td>2008-01-01</td>\n",
       "      <td>12.24</td>\n",
       "      <td>9.87</td>\n",
       "      <td>0.96</td>\n",
       "      <td>...</td>\n",
       "      <td>2.22</td>\n",
       "      <td>10.04</td>\n",
       "      <td>6.78</td>\n",
       "    </tr>\n",
       "    <tr>\n",
       "      <td>2009-01-01</td>\n",
       "      <td>12.40</td>\n",
       "      <td>10.21</td>\n",
       "      <td>1.03</td>\n",
       "      <td>...</td>\n",
       "      <td>2.28</td>\n",
       "      <td>10.15</td>\n",
       "      <td>7.58</td>\n",
       "    </tr>\n",
       "    <tr>\n",
       "      <td>2010-01-01</td>\n",
       "      <td>12.34</td>\n",
       "      <td>10.05</td>\n",
       "      <td>1.08</td>\n",
       "      <td>...</td>\n",
       "      <td>2.30</td>\n",
       "      <td>9.96</td>\n",
       "      <td>7.88</td>\n",
       "    </tr>\n",
       "  </tbody>\n",
       "</table>\n",
       "<p>5 rows × 32 columns</p>\n",
       "</div>"
      ],
      "text/plain": [
       "Country     Australia  Belgium  Brazil  ...  Turkey  United Kingdom  \\\n",
       "Time                                    ...                           \n",
       "2006-01-01      12.06     9.70    0.87  ...    2.27            9.81   \n",
       "2007-01-01      12.46     9.82    0.92  ...    2.26           10.07   \n",
       "2008-01-01      12.24     9.87    0.96  ...    2.22           10.04   \n",
       "2009-01-01      12.40    10.21    1.03  ...    2.28           10.15   \n",
       "2010-01-01      12.34    10.05    1.08  ...    2.30            9.96   \n",
       "\n",
       "Country     United States  \n",
       "Time                       \n",
       "2006-01-01           6.05  \n",
       "2007-01-01           6.24  \n",
       "2008-01-01           6.78  \n",
       "2009-01-01           7.58  \n",
       "2010-01-01           7.88  \n",
       "\n",
       "[5 rows x 32 columns]"
      ]
     },
     "execution_count": 11,
     "metadata": {},
     "output_type": "execute_result"
    }
   ],
   "source": [
    "realwage_f = realwage.xs(('Hourly', 'In 2015 constant prices at 2015 USD exchange rates'),\n",
    "                         level=('Pay period', 'Series'), axis=1)\n",
    "realwage_f.head()"
   ]
  },
  {
   "cell_type": "markdown",
   "metadata": {},
   "source": [
    "## Merging Dataframes and Filling NaNs\n",
    "\n",
    "Similar to relational databases like SQL, pandas has built in methods to\n",
    "merge datasets together.\n",
    "\n",
    "Using country information from\n",
    "[WorldData.info](https://www.worlddata.info/downloads/), we’ll add\n",
    "the continent of each country to `realwage_f` with the `merge`\n",
    "function.\n",
    "\n",
    "The CSV file can be found in `pandas_panel/countries.csv` and can be downloaded\n",
    "<a href=_static/lecture_specific/pandas_panel/countries.csv download>here</a>."
   ]
  },
  {
   "cell_type": "code",
   "execution_count": 12,
   "metadata": {
    "hide-output": false
   },
   "outputs": [
    {
     "data": {
      "text/html": [
       "<div>\n",
       "<style scoped>\n",
       "    .dataframe tbody tr th:only-of-type {\n",
       "        vertical-align: middle;\n",
       "    }\n",
       "\n",
       "    .dataframe tbody tr th {\n",
       "        vertical-align: top;\n",
       "    }\n",
       "\n",
       "    .dataframe thead th {\n",
       "        text-align: right;\n",
       "    }\n",
       "</style>\n",
       "<table border=\"1\" class=\"dataframe\">\n",
       "  <thead>\n",
       "    <tr style=\"text-align: right;\">\n",
       "      <th></th>\n",
       "      <th>Country (en)</th>\n",
       "      <th>Country (de)</th>\n",
       "      <th>Country (local)</th>\n",
       "      <th>...</th>\n",
       "      <th>Deathrate</th>\n",
       "      <th>Life expectancy</th>\n",
       "      <th>Url</th>\n",
       "    </tr>\n",
       "  </thead>\n",
       "  <tbody>\n",
       "    <tr>\n",
       "      <td>0</td>\n",
       "      <td>Afghanistan</td>\n",
       "      <td>Afghanistan</td>\n",
       "      <td>Afganistan/Afqanestan</td>\n",
       "      <td>...</td>\n",
       "      <td>13.70</td>\n",
       "      <td>51.30</td>\n",
       "      <td>https://www.laenderdaten.info/Asien/Afghanista...</td>\n",
       "    </tr>\n",
       "    <tr>\n",
       "      <td>1</td>\n",
       "      <td>Egypt</td>\n",
       "      <td>Ägypten</td>\n",
       "      <td>Misr</td>\n",
       "      <td>...</td>\n",
       "      <td>4.70</td>\n",
       "      <td>72.70</td>\n",
       "      <td>https://www.laenderdaten.info/Afrika/Aegypten/...</td>\n",
       "    </tr>\n",
       "    <tr>\n",
       "      <td>2</td>\n",
       "      <td>Åland Islands</td>\n",
       "      <td>Ålandinseln</td>\n",
       "      <td>Åland</td>\n",
       "      <td>...</td>\n",
       "      <td>0.00</td>\n",
       "      <td>0.00</td>\n",
       "      <td>https://www.laenderdaten.info/Europa/Aland/ind...</td>\n",
       "    </tr>\n",
       "    <tr>\n",
       "      <td>3</td>\n",
       "      <td>Albania</td>\n",
       "      <td>Albanien</td>\n",
       "      <td>Shqipëria</td>\n",
       "      <td>...</td>\n",
       "      <td>6.70</td>\n",
       "      <td>78.30</td>\n",
       "      <td>https://www.laenderdaten.info/Europa/Albanien/...</td>\n",
       "    </tr>\n",
       "    <tr>\n",
       "      <td>4</td>\n",
       "      <td>Algeria</td>\n",
       "      <td>Algerien</td>\n",
       "      <td>Al-Jaza’ir/Algérie</td>\n",
       "      <td>...</td>\n",
       "      <td>4.30</td>\n",
       "      <td>76.80</td>\n",
       "      <td>https://www.laenderdaten.info/Afrika/Algerien/...</td>\n",
       "    </tr>\n",
       "  </tbody>\n",
       "</table>\n",
       "<p>5 rows × 17 columns</p>\n",
       "</div>"
      ],
      "text/plain": [
       "    Country (en) Country (de)        Country (local)  ... Deathrate  \\\n",
       "0    Afghanistan  Afghanistan  Afganistan/Afqanestan  ...     13.70   \n",
       "1          Egypt      Ägypten                   Misr  ...      4.70   \n",
       "2  Åland Islands  Ålandinseln                  Åland  ...      0.00   \n",
       "3        Albania     Albanien              Shqipëria  ...      6.70   \n",
       "4        Algeria     Algerien     Al-Jaza’ir/Algérie  ...      4.30   \n",
       "\n",
       "  Life expectancy                                                Url  \n",
       "0           51.30  https://www.laenderdaten.info/Asien/Afghanista...  \n",
       "1           72.70  https://www.laenderdaten.info/Afrika/Aegypten/...  \n",
       "2            0.00  https://www.laenderdaten.info/Europa/Aland/ind...  \n",
       "3           78.30  https://www.laenderdaten.info/Europa/Albanien/...  \n",
       "4           76.80  https://www.laenderdaten.info/Afrika/Algerien/...  \n",
       "\n",
       "[5 rows x 17 columns]"
      ]
     },
     "execution_count": 12,
     "metadata": {},
     "output_type": "execute_result"
    }
   ],
   "source": [
    "worlddata = pd.read_csv('https://github.com/QuantEcon/QuantEcon.lectures.code/raw/master/pandas_panel/countries.csv', sep=';')\n",
    "worlddata.head()"
   ]
  },
  {
   "cell_type": "markdown",
   "metadata": {},
   "source": [
    "First, we’ll select just the country and continent variables from\n",
    "`worlddata` and rename the column to ‘Country’"
   ]
  },
  {
   "cell_type": "code",
   "execution_count": 13,
   "metadata": {
    "hide-output": false
   },
   "outputs": [
    {
     "data": {
      "text/html": [
       "<div>\n",
       "<style scoped>\n",
       "    .dataframe tbody tr th:only-of-type {\n",
       "        vertical-align: middle;\n",
       "    }\n",
       "\n",
       "    .dataframe tbody tr th {\n",
       "        vertical-align: top;\n",
       "    }\n",
       "\n",
       "    .dataframe thead th {\n",
       "        text-align: right;\n",
       "    }\n",
       "</style>\n",
       "<table border=\"1\" class=\"dataframe\">\n",
       "  <thead>\n",
       "    <tr style=\"text-align: right;\">\n",
       "      <th></th>\n",
       "      <th>Country</th>\n",
       "      <th>Continent</th>\n",
       "    </tr>\n",
       "  </thead>\n",
       "  <tbody>\n",
       "    <tr>\n",
       "      <td>0</td>\n",
       "      <td>Afghanistan</td>\n",
       "      <td>Asia</td>\n",
       "    </tr>\n",
       "    <tr>\n",
       "      <td>1</td>\n",
       "      <td>Egypt</td>\n",
       "      <td>Africa</td>\n",
       "    </tr>\n",
       "    <tr>\n",
       "      <td>2</td>\n",
       "      <td>Åland Islands</td>\n",
       "      <td>Europe</td>\n",
       "    </tr>\n",
       "    <tr>\n",
       "      <td>3</td>\n",
       "      <td>Albania</td>\n",
       "      <td>Europe</td>\n",
       "    </tr>\n",
       "    <tr>\n",
       "      <td>4</td>\n",
       "      <td>Algeria</td>\n",
       "      <td>Africa</td>\n",
       "    </tr>\n",
       "  </tbody>\n",
       "</table>\n",
       "</div>"
      ],
      "text/plain": [
       "         Country Continent\n",
       "0    Afghanistan      Asia\n",
       "1          Egypt    Africa\n",
       "2  Åland Islands    Europe\n",
       "3        Albania    Europe\n",
       "4        Algeria    Africa"
      ]
     },
     "execution_count": 13,
     "metadata": {},
     "output_type": "execute_result"
    }
   ],
   "source": [
    "worlddata = worlddata[['Country (en)', 'Continent']]\n",
    "worlddata = worlddata.rename(columns={'Country (en)': 'Country'})\n",
    "worlddata.head()"
   ]
  },
  {
   "cell_type": "markdown",
   "metadata": {},
   "source": [
    "We want to merge our new dataframe, `worlddata`, with `realwage_f`.\n",
    "\n",
    "The pandas `merge` function allows dataframes to be joined together by\n",
    "rows.\n",
    "\n",
    "Our dataframes will be merged using country names, requiring us to use\n",
    "the transpose of `realwage_f` so that rows correspond to country names\n",
    "in both dataframes"
   ]
  },
  {
   "cell_type": "code",
   "execution_count": 14,
   "metadata": {
    "hide-output": false
   },
   "outputs": [
    {
     "data": {
      "text/html": [
       "<div>\n",
       "<style scoped>\n",
       "    .dataframe tbody tr th:only-of-type {\n",
       "        vertical-align: middle;\n",
       "    }\n",
       "\n",
       "    .dataframe tbody tr th {\n",
       "        vertical-align: top;\n",
       "    }\n",
       "\n",
       "    .dataframe thead th {\n",
       "        text-align: right;\n",
       "    }\n",
       "</style>\n",
       "<table border=\"1\" class=\"dataframe\">\n",
       "  <thead>\n",
       "    <tr style=\"text-align: right;\">\n",
       "      <th>Time</th>\n",
       "      <th>2006-01-01</th>\n",
       "      <th>2007-01-01</th>\n",
       "      <th>2008-01-01</th>\n",
       "      <th>...</th>\n",
       "      <th>2014-01-01</th>\n",
       "      <th>2015-01-01</th>\n",
       "      <th>2016-01-01</th>\n",
       "    </tr>\n",
       "    <tr>\n",
       "      <th>Country</th>\n",
       "      <th></th>\n",
       "      <th></th>\n",
       "      <th></th>\n",
       "      <th></th>\n",
       "      <th></th>\n",
       "      <th></th>\n",
       "      <th></th>\n",
       "    </tr>\n",
       "  </thead>\n",
       "  <tbody>\n",
       "    <tr>\n",
       "      <td>Australia</td>\n",
       "      <td>12.06</td>\n",
       "      <td>12.46</td>\n",
       "      <td>12.24</td>\n",
       "      <td>...</td>\n",
       "      <td>12.67</td>\n",
       "      <td>12.83</td>\n",
       "      <td>12.98</td>\n",
       "    </tr>\n",
       "    <tr>\n",
       "      <td>Belgium</td>\n",
       "      <td>9.70</td>\n",
       "      <td>9.82</td>\n",
       "      <td>9.87</td>\n",
       "      <td>...</td>\n",
       "      <td>10.01</td>\n",
       "      <td>9.95</td>\n",
       "      <td>9.76</td>\n",
       "    </tr>\n",
       "    <tr>\n",
       "      <td>Brazil</td>\n",
       "      <td>0.87</td>\n",
       "      <td>0.92</td>\n",
       "      <td>0.96</td>\n",
       "      <td>...</td>\n",
       "      <td>1.21</td>\n",
       "      <td>1.21</td>\n",
       "      <td>1.24</td>\n",
       "    </tr>\n",
       "    <tr>\n",
       "      <td>Canada</td>\n",
       "      <td>6.89</td>\n",
       "      <td>6.96</td>\n",
       "      <td>7.24</td>\n",
       "      <td>...</td>\n",
       "      <td>8.22</td>\n",
       "      <td>8.35</td>\n",
       "      <td>8.48</td>\n",
       "    </tr>\n",
       "    <tr>\n",
       "      <td>Chile</td>\n",
       "      <td>1.42</td>\n",
       "      <td>1.45</td>\n",
       "      <td>1.44</td>\n",
       "      <td>...</td>\n",
       "      <td>1.76</td>\n",
       "      <td>1.81</td>\n",
       "      <td>1.91</td>\n",
       "    </tr>\n",
       "  </tbody>\n",
       "</table>\n",
       "<p>5 rows × 11 columns</p>\n",
       "</div>"
      ],
      "text/plain": [
       "Time       2006-01-01  2007-01-01  2008-01-01  ...  2014-01-01  2015-01-01  \\\n",
       "Country                                        ...                           \n",
       "Australia       12.06       12.46       12.24  ...       12.67       12.83   \n",
       "Belgium          9.70        9.82        9.87  ...       10.01        9.95   \n",
       "Brazil           0.87        0.92        0.96  ...        1.21        1.21   \n",
       "Canada           6.89        6.96        7.24  ...        8.22        8.35   \n",
       "Chile            1.42        1.45        1.44  ...        1.76        1.81   \n",
       "\n",
       "Time       2016-01-01  \n",
       "Country                \n",
       "Australia       12.98  \n",
       "Belgium          9.76  \n",
       "Brazil           1.24  \n",
       "Canada           8.48  \n",
       "Chile            1.91  \n",
       "\n",
       "[5 rows x 11 columns]"
      ]
     },
     "execution_count": 14,
     "metadata": {},
     "output_type": "execute_result"
    }
   ],
   "source": [
    "realwage_f.transpose().head()"
   ]
  },
  {
   "cell_type": "markdown",
   "metadata": {},
   "source": [
    "We can use either left, right, inner, or outer join to merge our\n",
    "datasets:\n",
    "\n",
    "- left join includes only countries from the left dataset  \n",
    "- right join includes only countries from the right dataset  \n",
    "- outer join includes countries that are in either the left and right datasets  \n",
    "- inner join includes only countries common to both the left and right datasets  \n",
    "\n",
    "\n",
    "By default, `merge` will use an inner join.\n",
    "\n",
    "Here we will pass `how='left'` to keep all countries in\n",
    "`realwage_f`, but discard countries in `worlddata` that do not have\n",
    "a corresponding data entry `realwage_f`.\n",
    "\n",
    "This is illustrated by the red shading in the following diagram\n",
    "\n",
    "<img src=\"https://s3-ap-southeast-2.amazonaws.com/python.quantecon.org/_static/lecture_specific/pandas_panel/venn_diag.png\" style=\"\">\n",
    "\n",
    "  \n",
    "We will also need to specify where the country name is located in each\n",
    "dataframe, which will be the `key` that is used to merge the\n",
    "dataframes ‘on’.\n",
    "\n",
    "Our ‘left’ dataframe (`realwage_f.transpose()`) contains countries in\n",
    "the index, so we set `left_index=True`.\n",
    "\n",
    "Our ‘right’ dataframe (`worlddata`) contains countries in the\n",
    "‘Country’ column, so we set `right_on='Country'`"
   ]
  },
  {
   "cell_type": "code",
   "execution_count": 15,
   "metadata": {
    "hide-output": false
   },
   "outputs": [
    {
     "data": {
      "text/html": [
       "<div>\n",
       "<style scoped>\n",
       "    .dataframe tbody tr th:only-of-type {\n",
       "        vertical-align: middle;\n",
       "    }\n",
       "\n",
       "    .dataframe tbody tr th {\n",
       "        vertical-align: top;\n",
       "    }\n",
       "\n",
       "    .dataframe thead th {\n",
       "        text-align: right;\n",
       "    }\n",
       "</style>\n",
       "<table border=\"1\" class=\"dataframe\">\n",
       "  <thead>\n",
       "    <tr style=\"text-align: right;\">\n",
       "      <th></th>\n",
       "      <th>2006-01-01 00:00:00</th>\n",
       "      <th>2007-01-01 00:00:00</th>\n",
       "      <th>2008-01-01 00:00:00</th>\n",
       "      <th>...</th>\n",
       "      <th>2016-01-01 00:00:00</th>\n",
       "      <th>Country</th>\n",
       "      <th>Continent</th>\n",
       "    </tr>\n",
       "  </thead>\n",
       "  <tbody>\n",
       "    <tr>\n",
       "      <td>17.00</td>\n",
       "      <td>12.06</td>\n",
       "      <td>12.46</td>\n",
       "      <td>12.24</td>\n",
       "      <td>...</td>\n",
       "      <td>12.98</td>\n",
       "      <td>Australia</td>\n",
       "      <td>Australia</td>\n",
       "    </tr>\n",
       "    <tr>\n",
       "      <td>23.00</td>\n",
       "      <td>9.70</td>\n",
       "      <td>9.82</td>\n",
       "      <td>9.87</td>\n",
       "      <td>...</td>\n",
       "      <td>9.76</td>\n",
       "      <td>Belgium</td>\n",
       "      <td>Europe</td>\n",
       "    </tr>\n",
       "    <tr>\n",
       "      <td>32.00</td>\n",
       "      <td>0.87</td>\n",
       "      <td>0.92</td>\n",
       "      <td>0.96</td>\n",
       "      <td>...</td>\n",
       "      <td>1.24</td>\n",
       "      <td>Brazil</td>\n",
       "      <td>South America</td>\n",
       "    </tr>\n",
       "    <tr>\n",
       "      <td>100.00</td>\n",
       "      <td>6.89</td>\n",
       "      <td>6.96</td>\n",
       "      <td>7.24</td>\n",
       "      <td>...</td>\n",
       "      <td>8.48</td>\n",
       "      <td>Canada</td>\n",
       "      <td>North America</td>\n",
       "    </tr>\n",
       "    <tr>\n",
       "      <td>38.00</td>\n",
       "      <td>1.42</td>\n",
       "      <td>1.45</td>\n",
       "      <td>1.44</td>\n",
       "      <td>...</td>\n",
       "      <td>1.91</td>\n",
       "      <td>Chile</td>\n",
       "      <td>South America</td>\n",
       "    </tr>\n",
       "  </tbody>\n",
       "</table>\n",
       "<p>5 rows × 13 columns</p>\n",
       "</div>"
      ],
      "text/plain": [
       "        2006-01-01 00:00:00  2007-01-01 00:00:00  2008-01-01 00:00:00  ...  \\\n",
       "17.00                 12.06                12.46                12.24  ...   \n",
       "23.00                  9.70                 9.82                 9.87  ...   \n",
       "32.00                  0.87                 0.92                 0.96  ...   \n",
       "100.00                 6.89                 6.96                 7.24  ...   \n",
       "38.00                  1.42                 1.45                 1.44  ...   \n",
       "\n",
       "        2016-01-01 00:00:00    Country      Continent  \n",
       "17.00                 12.98  Australia      Australia  \n",
       "23.00                  9.76    Belgium         Europe  \n",
       "32.00                  1.24     Brazil  South America  \n",
       "100.00                 8.48     Canada  North America  \n",
       "38.00                  1.91      Chile  South America  \n",
       "\n",
       "[5 rows x 13 columns]"
      ]
     },
     "execution_count": 15,
     "metadata": {},
     "output_type": "execute_result"
    }
   ],
   "source": [
    "merged = pd.merge(realwage_f.transpose(), worlddata,\n",
    "                  how='left', left_index=True, right_on='Country')\n",
    "merged.head()"
   ]
  },
  {
   "cell_type": "markdown",
   "metadata": {},
   "source": [
    "Countries that appeared in `realwage_f` but not in `worlddata` will\n",
    "have `NaN` in the Continent column.\n",
    "\n",
    "To check whether this has occurred, we can use `.isnull()` on the\n",
    "continent column and filter the merged dataframe"
   ]
  },
  {
   "cell_type": "code",
   "execution_count": 16,
   "metadata": {
    "hide-output": false
   },
   "outputs": [
    {
     "data": {
      "text/html": [
       "<div>\n",
       "<style scoped>\n",
       "    .dataframe tbody tr th:only-of-type {\n",
       "        vertical-align: middle;\n",
       "    }\n",
       "\n",
       "    .dataframe tbody tr th {\n",
       "        vertical-align: top;\n",
       "    }\n",
       "\n",
       "    .dataframe thead th {\n",
       "        text-align: right;\n",
       "    }\n",
       "</style>\n",
       "<table border=\"1\" class=\"dataframe\">\n",
       "  <thead>\n",
       "    <tr style=\"text-align: right;\">\n",
       "      <th></th>\n",
       "      <th>2006-01-01 00:00:00</th>\n",
       "      <th>2007-01-01 00:00:00</th>\n",
       "      <th>2008-01-01 00:00:00</th>\n",
       "      <th>...</th>\n",
       "      <th>2016-01-01 00:00:00</th>\n",
       "      <th>Country</th>\n",
       "      <th>Continent</th>\n",
       "    </tr>\n",
       "  </thead>\n",
       "  <tbody>\n",
       "    <tr>\n",
       "      <td>nan</td>\n",
       "      <td>3.42</td>\n",
       "      <td>3.74</td>\n",
       "      <td>3.87</td>\n",
       "      <td>...</td>\n",
       "      <td>5.28</td>\n",
       "      <td>Korea</td>\n",
       "      <td>NaN</td>\n",
       "    </tr>\n",
       "    <tr>\n",
       "      <td>nan</td>\n",
       "      <td>0.23</td>\n",
       "      <td>0.45</td>\n",
       "      <td>0.39</td>\n",
       "      <td>...</td>\n",
       "      <td>0.55</td>\n",
       "      <td>Russian Federation</td>\n",
       "      <td>NaN</td>\n",
       "    </tr>\n",
       "    <tr>\n",
       "      <td>nan</td>\n",
       "      <td>1.50</td>\n",
       "      <td>1.64</td>\n",
       "      <td>1.71</td>\n",
       "      <td>...</td>\n",
       "      <td>2.08</td>\n",
       "      <td>Slovak Republic</td>\n",
       "      <td>NaN</td>\n",
       "    </tr>\n",
       "  </tbody>\n",
       "</table>\n",
       "<p>3 rows × 13 columns</p>\n",
       "</div>"
      ],
      "text/plain": [
       "     2006-01-01 00:00:00  2007-01-01 00:00:00  2008-01-01 00:00:00  ...  \\\n",
       "nan                 3.42                 3.74                 3.87  ...   \n",
       "nan                 0.23                 0.45                 0.39  ...   \n",
       "nan                 1.50                 1.64                 1.71  ...   \n",
       "\n",
       "     2016-01-01 00:00:00             Country  Continent  \n",
       "nan                 5.28               Korea        NaN  \n",
       "nan                 0.55  Russian Federation        NaN  \n",
       "nan                 2.08     Slovak Republic        NaN  \n",
       "\n",
       "[3 rows x 13 columns]"
      ]
     },
     "execution_count": 16,
     "metadata": {},
     "output_type": "execute_result"
    }
   ],
   "source": [
    "merged[merged['Continent'].isnull()]"
   ]
  },
  {
   "cell_type": "markdown",
   "metadata": {},
   "source": [
    "We have three missing values!\n",
    "\n",
    "One option to deal with NaN values is to create a dictionary containing\n",
    "these countries and their respective continents.\n",
    "\n",
    "`.map()` will match countries in `merged['Country']` with their\n",
    "continent from the dictionary.\n",
    "\n",
    "Notice how countries not in our dictionary are mapped with `NaN`"
   ]
  },
  {
   "cell_type": "code",
   "execution_count": 17,
   "metadata": {
    "hide-output": false
   },
   "outputs": [
    {
     "data": {
      "text/plain": [
       "17.00        NaN\n",
       "23.00        NaN\n",
       "32.00        NaN\n",
       "100.00       NaN\n",
       "38.00        NaN\n",
       "108.00       NaN\n",
       "41.00        NaN\n",
       "225.00       NaN\n",
       "53.00        NaN\n",
       "58.00        NaN\n",
       "45.00        NaN\n",
       "68.00        NaN\n",
       "233.00       NaN\n",
       "86.00        NaN\n",
       "88.00        NaN\n",
       "91.00        NaN\n",
       "nan         Asia\n",
       "117.00       NaN\n",
       "122.00       NaN\n",
       "123.00       NaN\n",
       "138.00       NaN\n",
       "153.00       NaN\n",
       "151.00       NaN\n",
       "174.00       NaN\n",
       "175.00       NaN\n",
       "nan       Europe\n",
       "nan       Europe\n",
       "198.00       NaN\n",
       "200.00       NaN\n",
       "227.00       NaN\n",
       "241.00       NaN\n",
       "240.00       NaN\n",
       "Name: Country, dtype: object"
      ]
     },
     "execution_count": 17,
     "metadata": {},
     "output_type": "execute_result"
    }
   ],
   "source": [
    "missing_continents = {'Korea': 'Asia',\n",
    "                      'Russian Federation': 'Europe',\n",
    "                      'Slovak Republic': 'Europe'}\n",
    "\n",
    "merged['Country'].map(missing_continents)"
   ]
  },
  {
   "cell_type": "markdown",
   "metadata": {},
   "source": [
    "We don’t want to overwrite the entire series with this mapping.\n",
    "\n",
    "`.fillna()` only fills in `NaN` values in `merged['Continent']`\n",
    "with the mapping, while leaving other values in the column unchanged"
   ]
  },
  {
   "cell_type": "code",
   "execution_count": 18,
   "metadata": {
    "hide-output": false
   },
   "outputs": [
    {
     "data": {
      "text/html": [
       "<div>\n",
       "<style scoped>\n",
       "    .dataframe tbody tr th:only-of-type {\n",
       "        vertical-align: middle;\n",
       "    }\n",
       "\n",
       "    .dataframe tbody tr th {\n",
       "        vertical-align: top;\n",
       "    }\n",
       "\n",
       "    .dataframe thead th {\n",
       "        text-align: right;\n",
       "    }\n",
       "</style>\n",
       "<table border=\"1\" class=\"dataframe\">\n",
       "  <thead>\n",
       "    <tr style=\"text-align: right;\">\n",
       "      <th></th>\n",
       "      <th>2006-01-01 00:00:00</th>\n",
       "      <th>2007-01-01 00:00:00</th>\n",
       "      <th>2008-01-01 00:00:00</th>\n",
       "      <th>...</th>\n",
       "      <th>2016-01-01 00:00:00</th>\n",
       "      <th>Country</th>\n",
       "      <th>Continent</th>\n",
       "    </tr>\n",
       "  </thead>\n",
       "  <tbody>\n",
       "    <tr>\n",
       "      <td>nan</td>\n",
       "      <td>3.42</td>\n",
       "      <td>3.74</td>\n",
       "      <td>3.87</td>\n",
       "      <td>...</td>\n",
       "      <td>5.28</td>\n",
       "      <td>Korea</td>\n",
       "      <td>Asia</td>\n",
       "    </tr>\n",
       "  </tbody>\n",
       "</table>\n",
       "<p>1 rows × 13 columns</p>\n",
       "</div>"
      ],
      "text/plain": [
       "     2006-01-01 00:00:00  2007-01-01 00:00:00  2008-01-01 00:00:00  ...  \\\n",
       "nan                 3.42                 3.74                 3.87  ...   \n",
       "\n",
       "     2016-01-01 00:00:00  Country  Continent  \n",
       "nan                 5.28    Korea       Asia  \n",
       "\n",
       "[1 rows x 13 columns]"
      ]
     },
     "execution_count": 18,
     "metadata": {},
     "output_type": "execute_result"
    }
   ],
   "source": [
    "merged['Continent'] = merged['Continent'].fillna(merged['Country'].map(missing_continents))\n",
    "\n",
    "# Check for whether continents were correctly mapped\n",
    "\n",
    "merged[merged['Country'] == 'Korea']"
   ]
  },
  {
   "cell_type": "markdown",
   "metadata": {},
   "source": [
    "We will also combine the Americas into a single continent - this will make our visualization nicer later on.\n",
    "\n",
    "To do this, we will use `.replace()` and loop through a list of the continent values we want to replace"
   ]
  },
  {
   "cell_type": "code",
   "execution_count": 19,
   "metadata": {
    "hide-output": false
   },
   "outputs": [],
   "source": [
    "replace = ['Central America', 'North America', 'South America']\n",
    "\n",
    "for country in replace:\n",
    "    merged['Continent'].replace(to_replace=country,\n",
    "                                value='America',\n",
    "                                inplace=True)"
   ]
  },
  {
   "cell_type": "markdown",
   "metadata": {},
   "source": [
    "Now that we have all the data we want in a single `DataFrame`, we will\n",
    "reshape it back into panel form with a `MultiIndex`.\n",
    "\n",
    "We should also ensure to sort the index using `.sort_index()` so that we\n",
    "can efficiently filter our dataframe later on.\n",
    "\n",
    "By default, levels will be sorted top-down"
   ]
  },
  {
   "cell_type": "code",
   "execution_count": 20,
   "metadata": {
    "hide-output": false
   },
   "outputs": [
    {
     "data": {
      "text/html": [
       "<div>\n",
       "<style scoped>\n",
       "    .dataframe tbody tr th:only-of-type {\n",
       "        vertical-align: middle;\n",
       "    }\n",
       "\n",
       "    .dataframe tbody tr th {\n",
       "        vertical-align: top;\n",
       "    }\n",
       "\n",
       "    .dataframe thead th {\n",
       "        text-align: right;\n",
       "    }\n",
       "</style>\n",
       "<table border=\"1\" class=\"dataframe\">\n",
       "  <thead>\n",
       "    <tr style=\"text-align: right;\">\n",
       "      <th></th>\n",
       "      <th></th>\n",
       "      <th>2006-01-01</th>\n",
       "      <th>2007-01-01</th>\n",
       "      <th>2008-01-01</th>\n",
       "      <th>...</th>\n",
       "      <th>2014-01-01</th>\n",
       "      <th>2015-01-01</th>\n",
       "      <th>2016-01-01</th>\n",
       "    </tr>\n",
       "    <tr>\n",
       "      <th>Continent</th>\n",
       "      <th>Country</th>\n",
       "      <th></th>\n",
       "      <th></th>\n",
       "      <th></th>\n",
       "      <th></th>\n",
       "      <th></th>\n",
       "      <th></th>\n",
       "      <th></th>\n",
       "    </tr>\n",
       "  </thead>\n",
       "  <tbody>\n",
       "    <tr>\n",
       "      <td rowspan=\"5\" valign=\"top\">America</td>\n",
       "      <td>Brazil</td>\n",
       "      <td>0.87</td>\n",
       "      <td>0.92</td>\n",
       "      <td>0.96</td>\n",
       "      <td>...</td>\n",
       "      <td>1.21</td>\n",
       "      <td>1.21</td>\n",
       "      <td>1.24</td>\n",
       "    </tr>\n",
       "    <tr>\n",
       "      <td>Canada</td>\n",
       "      <td>6.89</td>\n",
       "      <td>6.96</td>\n",
       "      <td>7.24</td>\n",
       "      <td>...</td>\n",
       "      <td>8.22</td>\n",
       "      <td>8.35</td>\n",
       "      <td>8.48</td>\n",
       "    </tr>\n",
       "    <tr>\n",
       "      <td>Chile</td>\n",
       "      <td>1.42</td>\n",
       "      <td>1.45</td>\n",
       "      <td>1.44</td>\n",
       "      <td>...</td>\n",
       "      <td>1.76</td>\n",
       "      <td>1.81</td>\n",
       "      <td>1.91</td>\n",
       "    </tr>\n",
       "    <tr>\n",
       "      <td>Colombia</td>\n",
       "      <td>1.01</td>\n",
       "      <td>1.02</td>\n",
       "      <td>1.01</td>\n",
       "      <td>...</td>\n",
       "      <td>1.13</td>\n",
       "      <td>1.13</td>\n",
       "      <td>1.12</td>\n",
       "    </tr>\n",
       "    <tr>\n",
       "      <td>Costa Rica</td>\n",
       "      <td>nan</td>\n",
       "      <td>nan</td>\n",
       "      <td>nan</td>\n",
       "      <td>...</td>\n",
       "      <td>2.41</td>\n",
       "      <td>2.56</td>\n",
       "      <td>2.63</td>\n",
       "    </tr>\n",
       "  </tbody>\n",
       "</table>\n",
       "<p>5 rows × 11 columns</p>\n",
       "</div>"
      ],
      "text/plain": [
       "                      2006-01-01  2007-01-01  2008-01-01  ...  2014-01-01  \\\n",
       "Continent Country                                         ...               \n",
       "America   Brazil            0.87        0.92        0.96  ...        1.21   \n",
       "          Canada            6.89        6.96        7.24  ...        8.22   \n",
       "          Chile             1.42        1.45        1.44  ...        1.76   \n",
       "          Colombia          1.01        1.02        1.01  ...        1.13   \n",
       "          Costa Rica         nan         nan         nan  ...        2.41   \n",
       "\n",
       "                      2015-01-01  2016-01-01  \n",
       "Continent Country                             \n",
       "America   Brazil            1.21        1.24  \n",
       "          Canada            8.35        8.48  \n",
       "          Chile             1.81        1.91  \n",
       "          Colombia          1.13        1.12  \n",
       "          Costa Rica        2.56        2.63  \n",
       "\n",
       "[5 rows x 11 columns]"
      ]
     },
     "execution_count": 20,
     "metadata": {},
     "output_type": "execute_result"
    }
   ],
   "source": [
    "merged = merged.set_index(['Continent', 'Country']).sort_index()\n",
    "merged.head()"
   ]
  },
  {
   "cell_type": "markdown",
   "metadata": {},
   "source": [
    "While merging, we lost our `DatetimeIndex`, as we merged columns that\n",
    "were not in datetime format"
   ]
  },
  {
   "cell_type": "code",
   "execution_count": 21,
   "metadata": {
    "hide-output": false
   },
   "outputs": [
    {
     "data": {
      "text/plain": [
       "Index([2006-01-01 00:00:00, 2007-01-01 00:00:00, 2008-01-01 00:00:00,\n",
       "       2009-01-01 00:00:00, 2010-01-01 00:00:00, 2011-01-01 00:00:00,\n",
       "       2012-01-01 00:00:00, 2013-01-01 00:00:00, 2014-01-01 00:00:00,\n",
       "       2015-01-01 00:00:00, 2016-01-01 00:00:00],\n",
       "      dtype='object')"
      ]
     },
     "execution_count": 21,
     "metadata": {},
     "output_type": "execute_result"
    }
   ],
   "source": [
    "merged.columns"
   ]
  },
  {
   "cell_type": "markdown",
   "metadata": {},
   "source": [
    "Now that we have set the merged columns as the index, we can recreate a\n",
    "`DatetimeIndex` using `.to_datetime()`"
   ]
  },
  {
   "cell_type": "code",
   "execution_count": 22,
   "metadata": {
    "hide-output": false
   },
   "outputs": [
    {
     "data": {
      "text/plain": [
       "DatetimeIndex(['2006-01-01', '2007-01-01', '2008-01-01', '2009-01-01',\n",
       "               '2010-01-01', '2011-01-01', '2012-01-01', '2013-01-01',\n",
       "               '2014-01-01', '2015-01-01', '2016-01-01'],\n",
       "              dtype='datetime64[ns]', name='Time', freq=None)"
      ]
     },
     "execution_count": 22,
     "metadata": {},
     "output_type": "execute_result"
    }
   ],
   "source": [
    "merged.columns = pd.to_datetime(merged.columns)\n",
    "merged.columns = merged.columns.rename('Time')\n",
    "merged.columns"
   ]
  },
  {
   "cell_type": "markdown",
   "metadata": {},
   "source": [
    "The `DatetimeIndex` tends to work more smoothly in the row axis, so we\n",
    "will go ahead and transpose `merged`"
   ]
  },
  {
   "cell_type": "code",
   "execution_count": 23,
   "metadata": {
    "hide-output": false
   },
   "outputs": [
    {
     "data": {
      "text/html": [
       "<div>\n",
       "<style scoped>\n",
       "    .dataframe tbody tr th:only-of-type {\n",
       "        vertical-align: middle;\n",
       "    }\n",
       "\n",
       "    .dataframe tbody tr th {\n",
       "        vertical-align: top;\n",
       "    }\n",
       "\n",
       "    .dataframe thead tr th {\n",
       "        text-align: left;\n",
       "    }\n",
       "\n",
       "    .dataframe thead tr:last-of-type th {\n",
       "        text-align: right;\n",
       "    }\n",
       "</style>\n",
       "<table border=\"1\" class=\"dataframe\">\n",
       "  <thead>\n",
       "    <tr>\n",
       "      <th>Continent</th>\n",
       "      <th colspan=\"3\" halign=\"left\">America</th>\n",
       "      <th>...</th>\n",
       "      <th colspan=\"3\" halign=\"left\">Europe</th>\n",
       "    </tr>\n",
       "    <tr>\n",
       "      <th>Country</th>\n",
       "      <th>Brazil</th>\n",
       "      <th>Canada</th>\n",
       "      <th>Chile</th>\n",
       "      <th>...</th>\n",
       "      <th>Slovenia</th>\n",
       "      <th>Spain</th>\n",
       "      <th>United Kingdom</th>\n",
       "    </tr>\n",
       "    <tr>\n",
       "      <th>Time</th>\n",
       "      <th></th>\n",
       "      <th></th>\n",
       "      <th></th>\n",
       "      <th></th>\n",
       "      <th></th>\n",
       "      <th></th>\n",
       "      <th></th>\n",
       "    </tr>\n",
       "  </thead>\n",
       "  <tbody>\n",
       "    <tr>\n",
       "      <td>2006-01-01</td>\n",
       "      <td>0.87</td>\n",
       "      <td>6.89</td>\n",
       "      <td>1.42</td>\n",
       "      <td>...</td>\n",
       "      <td>3.92</td>\n",
       "      <td>3.99</td>\n",
       "      <td>9.81</td>\n",
       "    </tr>\n",
       "    <tr>\n",
       "      <td>2007-01-01</td>\n",
       "      <td>0.92</td>\n",
       "      <td>6.96</td>\n",
       "      <td>1.45</td>\n",
       "      <td>...</td>\n",
       "      <td>3.88</td>\n",
       "      <td>4.10</td>\n",
       "      <td>10.07</td>\n",
       "    </tr>\n",
       "    <tr>\n",
       "      <td>2008-01-01</td>\n",
       "      <td>0.96</td>\n",
       "      <td>7.24</td>\n",
       "      <td>1.44</td>\n",
       "      <td>...</td>\n",
       "      <td>3.96</td>\n",
       "      <td>4.14</td>\n",
       "      <td>10.04</td>\n",
       "    </tr>\n",
       "    <tr>\n",
       "      <td>2009-01-01</td>\n",
       "      <td>1.03</td>\n",
       "      <td>7.67</td>\n",
       "      <td>1.52</td>\n",
       "      <td>...</td>\n",
       "      <td>4.08</td>\n",
       "      <td>4.32</td>\n",
       "      <td>10.15</td>\n",
       "    </tr>\n",
       "    <tr>\n",
       "      <td>2010-01-01</td>\n",
       "      <td>1.08</td>\n",
       "      <td>7.94</td>\n",
       "      <td>1.56</td>\n",
       "      <td>...</td>\n",
       "      <td>4.81</td>\n",
       "      <td>4.30</td>\n",
       "      <td>9.96</td>\n",
       "    </tr>\n",
       "  </tbody>\n",
       "</table>\n",
       "<p>5 rows × 32 columns</p>\n",
       "</div>"
      ],
      "text/plain": [
       "Continent  America               ...   Europe                     \n",
       "Country     Brazil Canada Chile  ... Slovenia Spain United Kingdom\n",
       "Time                             ...                              \n",
       "2006-01-01    0.87   6.89  1.42  ...     3.92  3.99           9.81\n",
       "2007-01-01    0.92   6.96  1.45  ...     3.88  4.10          10.07\n",
       "2008-01-01    0.96   7.24  1.44  ...     3.96  4.14          10.04\n",
       "2009-01-01    1.03   7.67  1.52  ...     4.08  4.32          10.15\n",
       "2010-01-01    1.08   7.94  1.56  ...     4.81  4.30           9.96\n",
       "\n",
       "[5 rows x 32 columns]"
      ]
     },
     "execution_count": 23,
     "metadata": {},
     "output_type": "execute_result"
    }
   ],
   "source": [
    "merged = merged.transpose()\n",
    "merged.head()"
   ]
  },
  {
   "cell_type": "markdown",
   "metadata": {},
   "source": [
    "## Grouping and Summarizing Data\n",
    "\n",
    "Grouping and summarizing data can be particularly useful for\n",
    "understanding large panel datasets.\n",
    "\n",
    "A simple way to summarize data is to call an [aggregation\n",
    "method](https://pandas.pydata.org/pandas-docs/stable/getting_started/basics.html#descriptive-statistics)\n",
    "on the dataframe, such as `.mean()` or `.max()`.\n",
    "\n",
    "For example, we can calculate the average real minimum wage for each\n",
    "country over the period 2006 to 2016 (the default is to aggregate over\n",
    "rows)"
   ]
  },
  {
   "cell_type": "code",
   "execution_count": 24,
   "metadata": {
    "hide-output": false
   },
   "outputs": [
    {
     "data": {
      "text/plain": [
       "Continent  Country      \n",
       "America    Brazil          1.09\n",
       "           Canada          7.82\n",
       "           Chile           1.62\n",
       "           Colombia        1.07\n",
       "           Costa Rica      2.53\n",
       "           Mexico          0.53\n",
       "           United States   7.15\n",
       "Asia       Israel          5.95\n",
       "           Japan           6.18\n",
       "           Korea           4.22\n",
       "dtype: float64"
      ]
     },
     "execution_count": 24,
     "metadata": {},
     "output_type": "execute_result"
    }
   ],
   "source": [
    "merged.mean().head(10)"
   ]
  },
  {
   "cell_type": "markdown",
   "metadata": {},
   "source": [
    "Using this series, we can plot the average real minimum wage over the\n",
    "past decade for each country in our data set"
   ]
  },
  {
   "cell_type": "code",
   "execution_count": 25,
   "metadata": {
    "hide-output": false
   },
   "outputs": [
    {
     "data": {
      "image/png": "[encoded data removed]",
      "text/plain": [
       "<Figure size 576x396 with 1 Axes>"
      ]
     },
     "metadata": {},
     "output_type": "display_data"
    }
   ],
   "source": [
    "import matplotlib.pyplot as plt\n",
    "%matplotlib inline\n",
    "import matplotlib\n",
    "matplotlib.style.use('seaborn')\n",
    "\n",
    "merged.mean().sort_values(ascending=False).plot(kind='bar', title=\"Average real minimum wage 2006 - 2016\")\n",
    "\n",
    "#Set country labels\n",
    "country_labels = merged.mean().sort_values(ascending=False).index.get_level_values('Country').tolist()\n",
    "plt.xticks(range(0, len(country_labels)), country_labels)\n",
    "plt.xlabel('Country')\n",
    "\n",
    "plt.show()"
   ]
  },
  {
   "cell_type": "markdown",
   "metadata": {},
   "source": [
    "Passing in `axis=1` to `.mean()` will aggregate over columns (giving\n",
    "the average minimum wage for all countries over time)"
   ]
  },
  {
   "cell_type": "code",
   "execution_count": 26,
   "metadata": {
    "hide-output": false
   },
   "outputs": [
    {
     "data": {
      "text/plain": [
       "Time\n",
       "2006-01-01   4.69\n",
       "2007-01-01   4.84\n",
       "2008-01-01   4.90\n",
       "2009-01-01   5.08\n",
       "2010-01-01   5.11\n",
       "dtype: float64"
      ]
     },
     "execution_count": 26,
     "metadata": {},
     "output_type": "execute_result"
    }
   ],
   "source": [
    "merged.mean(axis=1).head()"
   ]
  },
  {
   "cell_type": "markdown",
   "metadata": {},
   "source": [
    "We can plot this time series as a line graph"
   ]
  },
  {
   "cell_type": "code",
   "execution_count": 27,
   "metadata": {
    "hide-output": false
   },
   "outputs": [
    {
     "data": {
      "image/png": "[encoded data removed]",
      "text/plain": [
       "<Figure size 432x288 with 1 Axes>"
      ]
     },
     "metadata": {
      "needs_background": "light"
     },
     "output_type": "display_data"
    }
   ],
   "source": [
    "merged.mean(axis=1).plot()\n",
    "plt.title('Average real minimum wage 2006 - 2016')\n",
    "plt.ylabel('2015 USD')\n",
    "plt.xlabel('Year')\n",
    "plt.show()"
   ]
  },
  {
   "cell_type": "markdown",
   "metadata": {},
   "source": [
    "We can also specify a level of the `MultiIndex` (in the column axis)\n",
    "to aggregate over"
   ]
  },
  {
   "cell_type": "code",
   "execution_count": 28,
   "metadata": {
    "hide-output": false
   },
   "outputs": [
    {
     "data": {
      "text/html": [
       "<div>\n",
       "<style scoped>\n",
       "    .dataframe tbody tr th:only-of-type {\n",
       "        vertical-align: middle;\n",
       "    }\n",
       "\n",
       "    .dataframe tbody tr th {\n",
       "        vertical-align: top;\n",
       "    }\n",
       "\n",
       "    .dataframe thead th {\n",
       "        text-align: right;\n",
       "    }\n",
       "</style>\n",
       "<table border=\"1\" class=\"dataframe\">\n",
       "  <thead>\n",
       "    <tr style=\"text-align: right;\">\n",
       "      <th>Continent</th>\n",
       "      <th>America</th>\n",
       "      <th>Asia</th>\n",
       "      <th>Australia</th>\n",
       "      <th>Europe</th>\n",
       "    </tr>\n",
       "    <tr>\n",
       "      <th>Time</th>\n",
       "      <th></th>\n",
       "      <th></th>\n",
       "      <th></th>\n",
       "      <th></th>\n",
       "    </tr>\n",
       "  </thead>\n",
       "  <tbody>\n",
       "    <tr>\n",
       "      <td>2006-01-01</td>\n",
       "      <td>2.80</td>\n",
       "      <td>4.29</td>\n",
       "      <td>10.25</td>\n",
       "      <td>4.80</td>\n",
       "    </tr>\n",
       "    <tr>\n",
       "      <td>2007-01-01</td>\n",
       "      <td>2.85</td>\n",
       "      <td>4.44</td>\n",
       "      <td>10.73</td>\n",
       "      <td>4.94</td>\n",
       "    </tr>\n",
       "    <tr>\n",
       "      <td>2008-01-01</td>\n",
       "      <td>2.99</td>\n",
       "      <td>4.45</td>\n",
       "      <td>10.76</td>\n",
       "      <td>4.99</td>\n",
       "    </tr>\n",
       "    <tr>\n",
       "      <td>2009-01-01</td>\n",
       "      <td>3.23</td>\n",
       "      <td>4.53</td>\n",
       "      <td>10.97</td>\n",
       "      <td>5.16</td>\n",
       "    </tr>\n",
       "    <tr>\n",
       "      <td>2010-01-01</td>\n",
       "      <td>3.34</td>\n",
       "      <td>4.53</td>\n",
       "      <td>10.95</td>\n",
       "      <td>5.17</td>\n",
       "    </tr>\n",
       "  </tbody>\n",
       "</table>\n",
       "</div>"
      ],
      "text/plain": [
       "Continent   America  Asia  Australia  Europe\n",
       "Time                                        \n",
       "2006-01-01     2.80  4.29      10.25    4.80\n",
       "2007-01-01     2.85  4.44      10.73    4.94\n",
       "2008-01-01     2.99  4.45      10.76    4.99\n",
       "2009-01-01     3.23  4.53      10.97    5.16\n",
       "2010-01-01     3.34  4.53      10.95    5.17"
      ]
     },
     "execution_count": 28,
     "metadata": {},
     "output_type": "execute_result"
    }
   ],
   "source": [
    "merged.mean(level='Continent', axis=1).head()"
   ]
  },
  {
   "cell_type": "markdown",
   "metadata": {},
   "source": [
    "We can plot the average minimum wages in each continent as a time series"
   ]
  },
  {
   "cell_type": "code",
   "execution_count": 29,
   "metadata": {
    "hide-output": false
   },
   "outputs": [
    {
     "data": {
      "image/png": "[encoded data removed]",
      "text/plain": [
       "<Figure size 432x288 with 1 Axes>"
      ]
     },
     "metadata": {
      "needs_background": "light"
     },
     "output_type": "display_data"
    }
   ],
   "source": [
    "merged.mean(level='Continent', axis=1).plot()\n",
    "plt.title('Average real minimum wage')\n",
    "plt.ylabel('2015 USD')\n",
    "plt.xlabel('Year')\n",
    "plt.show()"
   ]
  },
  {
   "cell_type": "markdown",
   "metadata": {},
   "source": [
    "We will drop Australia as a continent for plotting purposes"
   ]
  },
  {
   "cell_type": "code",
   "execution_count": 30,
   "metadata": {
    "hide-output": false
   },
   "outputs": [
    {
     "data": {
      "image/png": "[encoded data removed]",
      "text/plain": [
       "<Figure size 432x288 with 1 Axes>"
      ]
     },
     "metadata": {
      "needs_background": "light"
     },
     "output_type": "display_data"
    }
   ],
   "source": [
    "merged = merged.drop('Australia', level='Continent', axis=1)\n",
    "merged.mean(level='Continent', axis=1).plot()\n",
    "plt.title('Average real minimum wage')\n",
    "plt.ylabel('2015 USD')\n",
    "plt.xlabel('Year')\n",
    "plt.show()"
   ]
  },
  {
   "cell_type": "markdown",
   "metadata": {},
   "source": [
    "`.describe()` is useful for quickly retrieving a number of common\n",
    "summary statistics"
   ]
  },
  {
   "cell_type": "code",
   "execution_count": 31,
   "metadata": {
    "hide-output": false
   },
   "outputs": [
    {
     "data": {
      "text/html": [
       "<div>\n",
       "<style scoped>\n",
       "    .dataframe tbody tr th:only-of-type {\n",
       "        vertical-align: middle;\n",
       "    }\n",
       "\n",
       "    .dataframe tbody tr th {\n",
       "        vertical-align: top;\n",
       "    }\n",
       "\n",
       "    .dataframe thead th {\n",
       "        text-align: right;\n",
       "    }\n",
       "</style>\n",
       "<table border=\"1\" class=\"dataframe\">\n",
       "  <thead>\n",
       "    <tr style=\"text-align: right;\">\n",
       "      <th>Continent</th>\n",
       "      <th>America</th>\n",
       "      <th>Asia</th>\n",
       "      <th>Europe</th>\n",
       "    </tr>\n",
       "  </thead>\n",
       "  <tbody>\n",
       "    <tr>\n",
       "      <td>count</td>\n",
       "      <td>69.00</td>\n",
       "      <td>44.00</td>\n",
       "      <td>200.00</td>\n",
       "    </tr>\n",
       "    <tr>\n",
       "      <td>mean</td>\n",
       "      <td>3.19</td>\n",
       "      <td>4.70</td>\n",
       "      <td>5.15</td>\n",
       "    </tr>\n",
       "    <tr>\n",
       "      <td>std</td>\n",
       "      <td>3.02</td>\n",
       "      <td>1.56</td>\n",
       "      <td>3.82</td>\n",
       "    </tr>\n",
       "    <tr>\n",
       "      <td>min</td>\n",
       "      <td>0.52</td>\n",
       "      <td>2.22</td>\n",
       "      <td>0.23</td>\n",
       "    </tr>\n",
       "    <tr>\n",
       "      <td>25%</td>\n",
       "      <td>1.03</td>\n",
       "      <td>3.37</td>\n",
       "      <td>2.02</td>\n",
       "    </tr>\n",
       "    <tr>\n",
       "      <td>50%</td>\n",
       "      <td>1.44</td>\n",
       "      <td>5.48</td>\n",
       "      <td>3.54</td>\n",
       "    </tr>\n",
       "    <tr>\n",
       "      <td>75%</td>\n",
       "      <td>6.96</td>\n",
       "      <td>5.95</td>\n",
       "      <td>9.70</td>\n",
       "    </tr>\n",
       "    <tr>\n",
       "      <td>max</td>\n",
       "      <td>8.48</td>\n",
       "      <td>6.65</td>\n",
       "      <td>12.39</td>\n",
       "    </tr>\n",
       "  </tbody>\n",
       "</table>\n",
       "</div>"
      ],
      "text/plain": [
       "Continent  America  Asia  Europe\n",
       "count        69.00 44.00  200.00\n",
       "mean          3.19  4.70    5.15\n",
       "std           3.02  1.56    3.82\n",
       "min           0.52  2.22    0.23\n",
       "25%           1.03  3.37    2.02\n",
       "50%           1.44  5.48    3.54\n",
       "75%           6.96  5.95    9.70\n",
       "max           8.48  6.65   12.39"
      ]
     },
     "execution_count": 31,
     "metadata": {},
     "output_type": "execute_result"
    }
   ],
   "source": [
    "merged.stack().describe()"
   ]
  },
  {
   "cell_type": "markdown",
   "metadata": {},
   "source": [
    "This is a simplified way to use `groupby`.\n",
    "\n",
    "Using `groupby` generally follows a ‘split-apply-combine’ process:\n",
    "\n",
    "- split: data is grouped based on one or more keys  \n",
    "- apply: a function is called on each group independently  \n",
    "- combine: the results of the function calls are combined into a new data structure  \n",
    "\n",
    "\n",
    "The `groupby` method achieves the first step of this process, creating\n",
    "a new `DataFrameGroupBy` object with data split into groups.\n",
    "\n",
    "Let’s split `merged` by continent again, this time using the\n",
    "`groupby` function, and name the resulting object `grouped`"
   ]
  },
  {
   "cell_type": "code",
   "execution_count": 32,
   "metadata": {
    "hide-output": false
   },
   "outputs": [
    {
     "data": {
      "text/plain": [
       "<pandas.core.groupby.generic.DataFrameGroupBy object at 0x00000186C7146408>"
      ]
     },
     "execution_count": 32,
     "metadata": {},
     "output_type": "execute_result"
    }
   ],
   "source": [
    "grouped = merged.groupby(level='Continent', axis=1)\n",
    "grouped"
   ]
  },
  {
   "cell_type": "markdown",
   "metadata": {},
   "source": [
    "Calling an aggregation method on the object applies the function to each\n",
    "group, the results of which are combined in a new data structure.\n",
    "\n",
    "For example, we can return the number of countries in our dataset for\n",
    "each continent using `.size()`.\n",
    "\n",
    "In this case, our new data structure is a `Series`"
   ]
  },
  {
   "cell_type": "code",
   "execution_count": 33,
   "metadata": {
    "hide-output": false
   },
   "outputs": [
    {
     "data": {
      "text/plain": [
       "Continent\n",
       "America     7\n",
       "Asia        4\n",
       "Europe     19\n",
       "dtype: int64"
      ]
     },
     "execution_count": 33,
     "metadata": {},
     "output_type": "execute_result"
    }
   ],
   "source": [
    "grouped.size()"
   ]
  },
  {
   "cell_type": "markdown",
   "metadata": {},
   "source": [
    "Calling `.get_group()` to return just the countries in a single group,\n",
    "we can create a kernel density estimate of the distribution of real\n",
    "minimum wages in 2016 for each continent.\n",
    "\n",
    "`grouped.groups.keys()` will return the keys from the `groupby`\n",
    "object"
   ]
  },
  {
   "cell_type": "code",
   "execution_count": 34,
   "metadata": {
    "hide-output": false
   },
   "outputs": [
    {
     "data": {
      "image/png": "[encoded data removed]",
      "text/plain": [
       "<Figure size 432x288 with 1 Axes>"
      ]
     },
     "metadata": {
      "needs_background": "light"
     },
     "output_type": "display_data"
    }
   ],
   "source": [
    "import seaborn as sns\n",
    "\n",
    "continents = grouped.groups.keys()\n",
    "\n",
    "for continent in continents:\n",
    "    sns.kdeplot(grouped.get_group(continent)['2015'].unstack(), label=continent, shade=True)\n",
    "\n",
    "plt.title('Real minimum wages in 2015')\n",
    "plt.xlabel('US dollars')\n",
    "plt.show()"
   ]
  },
  {
   "cell_type": "markdown",
   "metadata": {},
   "source": [
    "## Final Remarks\n",
    "\n",
    "This lecture has provided an introduction to some of pandas’ more\n",
    "advanced features, including multiindices, merging, grouping and\n",
    "plotting.\n",
    "\n",
    "Other tools that may be useful in panel data analysis include [xarray](http://xarray.pydata.org/en/stable/), a python package that\n",
    "extends pandas to N-dimensional data structures."
   ]
  },
  {
   "cell_type": "markdown",
   "metadata": {},
   "source": [
    "## Exercises"
   ]
  },
  {
   "cell_type": "markdown",
   "metadata": {},
   "source": [
    "### Exercise 1\n",
    "\n",
    "In these exercises, you’ll work with a dataset of employment rates\n",
    "in Europe by age and sex from [Eurostat](http://ec.europa.eu/eurostat/data/database).\n",
    "\n",
    "The dataset `pandas_panel/employ.csv` can be downloaded\n",
    "<a href=_static/lecture_specific/pandas_panel/employ.csv download>here</a>.\n",
    "\n",
    "Reading in the CSV file returns a panel dataset in long format. Use `.pivot_table()` to construct\n",
    "a wide format dataframe with a `MultiIndex` in the columns.\n",
    "\n",
    "Start off by exploring the dataframe and the variables available in the\n",
    "`MultiIndex` levels.\n",
    "\n",
    "Write a program that quickly returns all values in the `MultiIndex`."
   ]
  },
  {
   "cell_type": "markdown",
   "metadata": {},
   "source": [
    "### Exercise 2\n",
    "\n",
    "Filter the above dataframe to only include employment as a percentage of\n",
    "‘active population’.\n",
    "\n",
    "Create a grouped boxplot using `seaborn` of employment rates in 2015\n",
    "by age group and sex.\n",
    "\n",
    "**Hint:** `GEO` includes both areas and countries."
   ]
  },
  {
   "cell_type": "markdown",
   "metadata": {},
   "source": [
    "## Solutions"
   ]
  },
  {
   "cell_type": "markdown",
   "metadata": {},
   "source": [
    "### Exercise 1"
   ]
  },
  {
   "cell_type": "code",
   "execution_count": 35,
   "metadata": {
    "hide-output": false
   },
   "outputs": [
    {
     "data": {
      "text/html": [
       "<div>\n",
       "<style scoped>\n",
       "    .dataframe tbody tr th:only-of-type {\n",
       "        vertical-align: middle;\n",
       "    }\n",
       "\n",
       "    .dataframe tbody tr th {\n",
       "        vertical-align: top;\n",
       "    }\n",
       "\n",
       "    .dataframe thead tr th {\n",
       "        text-align: left;\n",
       "    }\n",
       "\n",
       "    .dataframe thead tr:last-of-type th {\n",
       "        text-align: right;\n",
       "    }\n",
       "</style>\n",
       "<table border=\"1\" class=\"dataframe\">\n",
       "  <thead>\n",
       "    <tr>\n",
       "      <th>UNIT</th>\n",
       "      <th colspan=\"3\" halign=\"left\">Percentage of total population</th>\n",
       "      <th>...</th>\n",
       "      <th colspan=\"3\" halign=\"left\">Thousand persons</th>\n",
       "    </tr>\n",
       "    <tr>\n",
       "      <th>AGE</th>\n",
       "      <th colspan=\"3\" halign=\"left\">From 15 to 24 years</th>\n",
       "      <th>...</th>\n",
       "      <th colspan=\"3\" halign=\"left\">From 55 to 64 years</th>\n",
       "    </tr>\n",
       "    <tr>\n",
       "      <th>SEX</th>\n",
       "      <th colspan=\"3\" halign=\"left\">Females</th>\n",
       "      <th>...</th>\n",
       "      <th colspan=\"3\" halign=\"left\">Total</th>\n",
       "    </tr>\n",
       "    <tr>\n",
       "      <th>INDIC_EM</th>\n",
       "      <th colspan=\"3\" halign=\"left\">Active population</th>\n",
       "      <th>...</th>\n",
       "      <th colspan=\"3\" halign=\"left\">Total employment (resident population concept - LFS)</th>\n",
       "    </tr>\n",
       "    <tr>\n",
       "      <th>GEO</th>\n",
       "      <th>Austria</th>\n",
       "      <th>Belgium</th>\n",
       "      <th>Bulgaria</th>\n",
       "      <th>...</th>\n",
       "      <th>Switzerland</th>\n",
       "      <th>Turkey</th>\n",
       "      <th>United Kingdom</th>\n",
       "    </tr>\n",
       "    <tr>\n",
       "      <th>DATE</th>\n",
       "      <th></th>\n",
       "      <th></th>\n",
       "      <th></th>\n",
       "      <th></th>\n",
       "      <th></th>\n",
       "      <th></th>\n",
       "      <th></th>\n",
       "    </tr>\n",
       "  </thead>\n",
       "  <tbody>\n",
       "    <tr>\n",
       "      <td>2007-01-01</td>\n",
       "      <td>56.00</td>\n",
       "      <td>31.60</td>\n",
       "      <td>26.00</td>\n",
       "      <td>...</td>\n",
       "      <td>nan</td>\n",
       "      <td>1,282.00</td>\n",
       "      <td>4,131.00</td>\n",
       "    </tr>\n",
       "    <tr>\n",
       "      <td>2008-01-01</td>\n",
       "      <td>56.20</td>\n",
       "      <td>30.80</td>\n",
       "      <td>26.10</td>\n",
       "      <td>...</td>\n",
       "      <td>nan</td>\n",
       "      <td>1,354.00</td>\n",
       "      <td>4,204.00</td>\n",
       "    </tr>\n",
       "    <tr>\n",
       "      <td>2009-01-01</td>\n",
       "      <td>56.20</td>\n",
       "      <td>29.90</td>\n",
       "      <td>24.80</td>\n",
       "      <td>...</td>\n",
       "      <td>nan</td>\n",
       "      <td>1,449.00</td>\n",
       "      <td>4,193.00</td>\n",
       "    </tr>\n",
       "    <tr>\n",
       "      <td>2010-01-01</td>\n",
       "      <td>54.00</td>\n",
       "      <td>29.80</td>\n",
       "      <td>26.60</td>\n",
       "      <td>...</td>\n",
       "      <td>640.00</td>\n",
       "      <td>1,583.00</td>\n",
       "      <td>4,186.00</td>\n",
       "    </tr>\n",
       "    <tr>\n",
       "      <td>2011-01-01</td>\n",
       "      <td>54.80</td>\n",
       "      <td>29.80</td>\n",
       "      <td>24.80</td>\n",
       "      <td>...</td>\n",
       "      <td>661.00</td>\n",
       "      <td>1,760.00</td>\n",
       "      <td>4,164.00</td>\n",
       "    </tr>\n",
       "  </tbody>\n",
       "</table>\n",
       "<p>5 rows × 1440 columns</p>\n",
       "</div>"
      ],
      "text/plain": [
       "UNIT       Percentage of total population                   ...  \\\n",
       "AGE                   From 15 to 24 years                   ...   \n",
       "SEX                               Females                   ...   \n",
       "INDIC_EM                Active population                   ...   \n",
       "GEO                               Austria Belgium Bulgaria  ...   \n",
       "DATE                                                        ...   \n",
       "2007-01-01                          56.00   31.60    26.00  ...   \n",
       "2008-01-01                          56.20   30.80    26.10  ...   \n",
       "2009-01-01                          56.20   29.90    24.80  ...   \n",
       "2010-01-01                          54.00   29.80    26.60  ...   \n",
       "2011-01-01                          54.80   29.80    24.80  ...   \n",
       "\n",
       "UNIT                                           Thousand persons           \\\n",
       "AGE                                         From 55 to 64 years            \n",
       "SEX                                                       Total            \n",
       "INDIC_EM   Total employment (resident population concept - LFS)            \n",
       "GEO                                                 Switzerland   Turkey   \n",
       "DATE                                                                       \n",
       "2007-01-01                                                nan   1,282.00   \n",
       "2008-01-01                                                nan   1,354.00   \n",
       "2009-01-01                                                nan   1,449.00   \n",
       "2010-01-01                                             640.00   1,583.00   \n",
       "2011-01-01                                             661.00   1,760.00   \n",
       "\n",
       "UNIT                       \n",
       "AGE                        \n",
       "SEX                        \n",
       "INDIC_EM                   \n",
       "GEO        United Kingdom  \n",
       "DATE                       \n",
       "2007-01-01       4,131.00  \n",
       "2008-01-01       4,204.00  \n",
       "2009-01-01       4,193.00  \n",
       "2010-01-01       4,186.00  \n",
       "2011-01-01       4,164.00  \n",
       "\n",
       "[5 rows x 1440 columns]"
      ]
     },
     "execution_count": 35,
     "metadata": {},
     "output_type": "execute_result"
    }
   ],
   "source": [
    "employ = pd.read_csv('https://github.com/QuantEcon/QuantEcon.lectures.code/raw/master/pandas_panel/employ.csv')\n",
    "employ = employ.pivot_table(values='Value',\n",
    "                            index=['DATE'],\n",
    "                            columns=['UNIT','AGE', 'SEX', 'INDIC_EM', 'GEO'])\n",
    "employ.index = pd.to_datetime(employ.index) # ensure that dates are datetime format\n",
    "employ.head()"
   ]
  },
  {
   "cell_type": "markdown",
   "metadata": {},
   "source": [
    "This is a large dataset so it is useful to explore the levels and\n",
    "variables available"
   ]
  },
  {
   "cell_type": "code",
   "execution_count": 36,
   "metadata": {
    "hide-output": false
   },
   "outputs": [
    {
     "data": {
      "text/plain": [
       "FrozenList(['UNIT', 'AGE', 'SEX', 'INDIC_EM', 'GEO'])"
      ]
     },
     "execution_count": 36,
     "metadata": {},
     "output_type": "execute_result"
    }
   ],
   "source": [
    "employ.columns.names"
   ]
  },
  {
   "cell_type": "markdown",
   "metadata": {},
   "source": [
    "Variables within levels can be quickly retrieved with a loop"
   ]
  },
  {
   "cell_type": "code",
   "execution_count": 37,
   "metadata": {
    "hide-output": false
   },
   "outputs": [
    {
     "name": "stdout",
     "output_type": "stream",
     "text": [
      "UNIT Index(['Percentage of total population', 'Thousand persons'], dtype='object', name='UNIT')\n",
      "AGE Index(['From 15 to 24 years', 'From 25 to 54 years', 'From 55 to 64 years'], dtype='object', name='AGE')\n",
      "SEX Index(['Females', 'Males', 'Total'], dtype='object', name='SEX')\n",
      "INDIC_EM Index(['Active population', 'Total employment (resident population concept - LFS)'], dtype='object', name='INDIC_EM')\n",
      "GEO Index(['Austria', 'Belgium', 'Bulgaria', 'Croatia', 'Cyprus', 'Czech Republic',\n",
      "       'Denmark', 'Estonia', 'Euro area (17 countries)',\n",
      "       'Euro area (18 countries)', 'Euro area (19 countries)',\n",
      "       'European Union (15 countries)', 'European Union (27 countries)',\n",
      "       'European Union (28 countries)', 'Finland',\n",
      "       'Former Yugoslav Republic of Macedonia, the', 'France',\n",
      "       'France (metropolitan)',\n",
      "       'Germany (until 1990 former territory of the FRG)', 'Greece', 'Hungary',\n",
      "       'Iceland', 'Ireland', 'Italy', 'Latvia', 'Lithuania', 'Luxembourg',\n",
      "       'Malta', 'Netherlands', 'Norway', 'Poland', 'Portugal', 'Romania',\n",
      "       'Slovakia', 'Slovenia', 'Spain', 'Sweden', 'Switzerland', 'Turkey',\n",
      "       'United Kingdom'],\n",
      "      dtype='object', name='GEO')\n"
     ]
    }
   ],
   "source": [
    "for name in employ.columns.names:\n",
    "    print(name, employ.columns.get_level_values(name).unique())"
   ]
  },
  {
   "cell_type": "markdown",
   "metadata": {},
   "source": [
    "### Exercise 2\n",
    "\n",
    "To easily filter by country, swap `GEO` to the top level and sort the\n",
    "`MultiIndex`"
   ]
  },
  {
   "cell_type": "code",
   "execution_count": 38,
   "metadata": {
    "hide-output": false
   },
   "outputs": [],
   "source": [
    "employ.columns = employ.columns.swaplevel(0,-1)\n",
    "employ = employ.sort_index(axis=1)"
   ]
  },
  {
   "cell_type": "markdown",
   "metadata": {},
   "source": [
    "We need to get rid of a few items in `GEO` which are not countries.\n",
    "\n",
    "A fast way to get rid of the EU areas is to use a list comprehension to\n",
    "find the level values in `GEO` that begin with ‘Euro’"
   ]
  },
  {
   "cell_type": "code",
   "execution_count": 39,
   "metadata": {
    "hide-output": false
   },
   "outputs": [
    {
     "data": {
      "text/plain": [
       "Index(['Austria', 'Belgium', 'Bulgaria', 'Croatia', 'Cyprus', 'Czech Republic',\n",
       "       'Denmark', 'Estonia', 'Finland',\n",
       "       'Former Yugoslav Republic of Macedonia, the', 'France',\n",
       "       'France (metropolitan)',\n",
       "       'Germany (until 1990 former territory of the FRG)', 'Greece', 'Hungary',\n",
       "       'Iceland', 'Ireland', 'Italy', 'Latvia', 'Lithuania', 'Luxembourg',\n",
       "       'Malta', 'Netherlands', 'Norway', 'Poland', 'Portugal', 'Romania',\n",
       "       'Slovakia', 'Slovenia', 'Spain', 'Sweden', 'Switzerland', 'Turkey',\n",
       "       'United Kingdom'],\n",
       "      dtype='object', name='GEO')"
      ]
     },
     "execution_count": 39,
     "metadata": {},
     "output_type": "execute_result"
    }
   ],
   "source": [
    "geo_list = employ.columns.get_level_values('GEO').unique().tolist()\n",
    "countries = [x for x in geo_list if not x.startswith('Euro')]\n",
    "employ = employ[countries]\n",
    "employ.columns.get_level_values('GEO').unique()"
   ]
  },
  {
   "cell_type": "markdown",
   "metadata": {},
   "source": [
    "Select only percentage employed in the active population from the\n",
    "dataframe"
   ]
  },
  {
   "cell_type": "code",
   "execution_count": 40,
   "metadata": {
    "hide-output": false
   },
   "outputs": [
    {
     "data": {
      "text/html": [
       "<div>\n",
       "<style scoped>\n",
       "    .dataframe tbody tr th:only-of-type {\n",
       "        vertical-align: middle;\n",
       "    }\n",
       "\n",
       "    .dataframe tbody tr th {\n",
       "        vertical-align: top;\n",
       "    }\n",
       "\n",
       "    .dataframe thead tr th {\n",
       "        text-align: left;\n",
       "    }\n",
       "\n",
       "    .dataframe thead tr:last-of-type th {\n",
       "        text-align: right;\n",
       "    }\n",
       "</style>\n",
       "<table border=\"1\" class=\"dataframe\">\n",
       "  <thead>\n",
       "    <tr>\n",
       "      <th>GEO</th>\n",
       "      <th colspan=\"3\" halign=\"left\">Austria</th>\n",
       "      <th>...</th>\n",
       "      <th colspan=\"3\" halign=\"left\">United Kingdom</th>\n",
       "    </tr>\n",
       "    <tr>\n",
       "      <th>AGE</th>\n",
       "      <th colspan=\"3\" halign=\"left\">From 15 to 24 years</th>\n",
       "      <th>...</th>\n",
       "      <th colspan=\"3\" halign=\"left\">From 55 to 64 years</th>\n",
       "    </tr>\n",
       "    <tr>\n",
       "      <th>SEX</th>\n",
       "      <th>Females</th>\n",
       "      <th>Males</th>\n",
       "      <th>Total</th>\n",
       "      <th>...</th>\n",
       "      <th>Females</th>\n",
       "      <th>Males</th>\n",
       "      <th>Total</th>\n",
       "    </tr>\n",
       "    <tr>\n",
       "      <th>DATE</th>\n",
       "      <th></th>\n",
       "      <th></th>\n",
       "      <th></th>\n",
       "      <th></th>\n",
       "      <th></th>\n",
       "      <th></th>\n",
       "      <th></th>\n",
       "    </tr>\n",
       "  </thead>\n",
       "  <tbody>\n",
       "    <tr>\n",
       "      <td>2007-01-01</td>\n",
       "      <td>56.00</td>\n",
       "      <td>62.90</td>\n",
       "      <td>59.40</td>\n",
       "      <td>...</td>\n",
       "      <td>49.90</td>\n",
       "      <td>68.90</td>\n",
       "      <td>59.30</td>\n",
       "    </tr>\n",
       "    <tr>\n",
       "      <td>2008-01-01</td>\n",
       "      <td>56.20</td>\n",
       "      <td>62.90</td>\n",
       "      <td>59.50</td>\n",
       "      <td>...</td>\n",
       "      <td>50.20</td>\n",
       "      <td>69.80</td>\n",
       "      <td>59.80</td>\n",
       "    </tr>\n",
       "    <tr>\n",
       "      <td>2009-01-01</td>\n",
       "      <td>56.20</td>\n",
       "      <td>62.90</td>\n",
       "      <td>59.50</td>\n",
       "      <td>...</td>\n",
       "      <td>50.60</td>\n",
       "      <td>70.30</td>\n",
       "      <td>60.30</td>\n",
       "    </tr>\n",
       "    <tr>\n",
       "      <td>2010-01-01</td>\n",
       "      <td>54.00</td>\n",
       "      <td>62.60</td>\n",
       "      <td>58.30</td>\n",
       "      <td>...</td>\n",
       "      <td>51.10</td>\n",
       "      <td>69.20</td>\n",
       "      <td>60.00</td>\n",
       "    </tr>\n",
       "    <tr>\n",
       "      <td>2011-01-01</td>\n",
       "      <td>54.80</td>\n",
       "      <td>63.60</td>\n",
       "      <td>59.20</td>\n",
       "      <td>...</td>\n",
       "      <td>51.30</td>\n",
       "      <td>68.40</td>\n",
       "      <td>59.70</td>\n",
       "    </tr>\n",
       "  </tbody>\n",
       "</table>\n",
       "<p>5 rows × 306 columns</p>\n",
       "</div>"
      ],
      "text/plain": [
       "GEO                    Austria              ...      United Kingdom        \\\n",
       "AGE        From 15 to 24 years              ... From 55 to 64 years         \n",
       "SEX                    Females Males Total  ...             Females Males   \n",
       "DATE                                        ...                             \n",
       "2007-01-01               56.00 62.90 59.40  ...               49.90 68.90   \n",
       "2008-01-01               56.20 62.90 59.50  ...               50.20 69.80   \n",
       "2009-01-01               56.20 62.90 59.50  ...               50.60 70.30   \n",
       "2010-01-01               54.00 62.60 58.30  ...               51.10 69.20   \n",
       "2011-01-01               54.80 63.60 59.20  ...               51.30 68.40   \n",
       "\n",
       "GEO               \n",
       "AGE               \n",
       "SEX        Total  \n",
       "DATE              \n",
       "2007-01-01 59.30  \n",
       "2008-01-01 59.80  \n",
       "2009-01-01 60.30  \n",
       "2010-01-01 60.00  \n",
       "2011-01-01 59.70  \n",
       "\n",
       "[5 rows x 306 columns]"
      ]
     },
     "execution_count": 40,
     "metadata": {},
     "output_type": "execute_result"
    }
   ],
   "source": [
    "employ_f = employ.xs(('Percentage of total population', 'Active population'),\n",
    "                     level=('UNIT', 'INDIC_EM'),\n",
    "                     axis=1)\n",
    "employ_f.head()"
   ]
  },
  {
   "cell_type": "markdown",
   "metadata": {},
   "source": [
    "Drop the ‘Total’ value before creating the grouped boxplot"
   ]
  },
  {
   "cell_type": "code",
   "execution_count": 41,
   "metadata": {
    "hide-output": false
   },
   "outputs": [],
   "source": [
    "employ_f = employ_f.drop('Total', level='SEX', axis=1)"
   ]
  },
  {
   "cell_type": "code",
   "execution_count": 42,
   "metadata": {
    "hide-output": false
   },
   "outputs": [
    {
     "data": {
      "image/png": "[encoded data removed]",
      "text/plain": [
       "<Figure size 432x288 with 1 Axes>"
      ]
     },
     "metadata": {
      "needs_background": "light"
     },
     "output_type": "display_data"
    }
   ],
   "source": [
    "box = employ_f['2015'].unstack().reset_index()\n",
    "sns.boxplot(x=\"AGE\", y=0, hue=\"SEX\", data=box, palette=(\"husl\"), showfliers=False)\n",
    "plt.xlabel('')\n",
    "plt.xticks(rotation=35)\n",
    "plt.ylabel('Percentage of population (%)')\n",
    "plt.title('Employment in Europe (2015)')\n",
    "plt.legend(bbox_to_anchor=(1,0.5))\n",
    "plt.show()"
   ]
  }
 ],
 "metadata": {
  "date": 1578345591.2490466,
  "filename": "pandas_panel.rst",
  "kernelspec": {
   "display_name": "Python 3",
   "language": "python",
   "name": "python3"
  },
  "language_info": {
   "codemirror_mode": {
    "name": "ipython",
    "version": 3
   },
   "file_extension": ".py",
   "mimetype": "text/x-python",
   "name": "python",
   "nbconvert_exporter": "python",
   "pygments_lexer": "ipython3",
   "version": "3.7.4"
  },
  "title": "Pandas for Panel Data"
 },
 "nbformat": 4,
 "nbformat_minor": 2
}
