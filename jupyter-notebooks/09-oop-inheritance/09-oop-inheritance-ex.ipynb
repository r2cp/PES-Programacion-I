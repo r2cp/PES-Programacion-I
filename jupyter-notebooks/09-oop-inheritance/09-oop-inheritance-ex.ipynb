{
 "cells": [
  {
   "cell_type": "markdown",
   "metadata": {},
   "source": [
    "## Clase `Dice`\n",
    "\n",
    "Implementar una clase denominada `Dice`, que funcione como un conjunto de $n$ dados. La clase debe recibir como argumento el número de dados a tirar. Además, la clase debe implementar:\n",
    "\n",
    "- Un método de `roll()` que simula la tirada de los $n$ dados y guarda internamente una lista con los valores resultantes. No devuelve nada.\n",
    "    \n",
    "    - Si no se ha llamado a `roll()`, la lista interna debe ser vacía.\n",
    "\n",
    "- Un método `getLastRoll()` que devuelve la lista con los valores de la última tirada.\n",
    "\n",
    "- Un método `getRollSum()` que devuelve la suma de los valores de la última tirada.\n",
    "\n",
    "    - Si no se ha llamado a `roll()`, debe devolver cero."
   ]
  },
  {
   "cell_type": "code",
   "execution_count": 22,
   "metadata": {},
   "outputs": [
    {
     "data": {
      "text/plain": [
       "3"
      ]
     },
     "execution_count": 22,
     "metadata": {},
     "output_type": "execute_result"
    }
   ],
   "source": [
    "# Ayuda, utilizar la siguiente función del módulo random\n",
    "import random\n",
    "random.randint(1,6)"
   ]
  },
  {
   "cell_type": "code",
   "execution_count": 23,
   "metadata": {},
   "outputs": [],
   "source": [
    "class Dice:\n",
    "    def __init__(self, n):\n",
    "        pass\n",
    "    \n",
    "    def roll():\n",
    "        pass\n",
    "    \n",
    "    def getLastRoll():\n",
    "        pass\n",
    "    \n",
    "    def getRollSum():\n",
    "        pass"
   ]
  },
  {
   "cell_type": "markdown",
   "metadata": {},
   "source": [
    "## `Dice` *blockchain*\n",
    "\n",
    "Crear una clase denominada `Block` que almacene un objeto `Dice` y un mensaje. La clase `Block` debe implementar:\n",
    "\n",
    "- Atributos `prev` y `next` que apuntan a objetos tipo `Block` para referir al anterior y siguiente \"bloque\" en la cadena.\n",
    "    - Estos deben ser `None` por defecto en el constructor.\n",
    "    - Deben poder obtener\n",
    "- Un método `getMessage()` para obtener su mensaje almacenado.\n",
    "- Un método `getDiceSum()` para obtener la suma de los valores almacenados en su dado."
   ]
  },
  {
   "cell_type": "code",
   "execution_count": null,
   "metadata": {},
   "outputs": [],
   "source": []
  }
 ],
 "metadata": {
  "kernelspec": {
   "display_name": "Python 3",
   "language": "python",
   "name": "python3"
  },
  "language_info": {
   "codemirror_mode": {
    "name": "ipython",
    "version": 3
   },
   "file_extension": ".py",
   "mimetype": "text/x-python",
   "name": "python",
   "nbconvert_exporter": "python",
   "pygments_lexer": "ipython3",
   "version": "3.7.4"
  }
 },
 "nbformat": 4,
 "nbformat_minor": 2
}
