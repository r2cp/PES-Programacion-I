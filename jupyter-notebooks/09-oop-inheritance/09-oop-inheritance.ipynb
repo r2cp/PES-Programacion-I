{
 "cells": [
  {
   "cell_type": "markdown",
   "metadata": {
    "slideshow": {
     "slide_type": "slide"
    }
   },
   "source": [
    "# Introducción a las ciencias de la computación *y programación en Python*\n",
    "\n",
    "\n",
    "## Programación orientada a objetos: herencia y buenas prácticas\n",
    "\n",
    "<img src=\"logo-banguat.png\" alt=\"Banco de Guatemala\" style=\"width: 100px;\"/>\n",
    "\n",
    "### Rodrigo Chang\n",
    "#### Banco de Guatemala"
   ]
  },
  {
   "cell_type": "markdown",
   "metadata": {
    "slideshow": {
     "slide_type": "slide"
    }
   },
   "source": [
    "## Abstract\n",
    "\n",
    "> ### \"*I'm not a great programmer*; *I'm just a good programmer with great habits.*\" **Kent Beck**\n",
    "\n",
    "- Programación orientada a objetos.  \n",
    "    - Profundizaremos en la programación orientada a objetos.  \n",
    "    - Veremos el proceso de **ocultado de información y detalles**.\n",
    "    - Veremos las **variables de clase**.  \n",
    "- Herencia de clases\n",
    "    - Conoceremos el concepto de herencia y cómo puede aplicarse."
   ]
  },
  {
   "cell_type": "markdown",
   "metadata": {
    "slideshow": {
     "slide_type": "slide"
    }
   },
   "source": [
    "## Implementación vs. utilización\n",
    "\n",
    "* Hemos visto cómo escribir código desde dos perspectivas diferentes:  \n",
    "\n",
    "    - **Implementar** un nuevo tipo de objeto con una clase:\n",
    "        - **Definir** la clase.\n",
    "        \n",
    "        - Definir los **atributos** de la clase. ¿Qué es el objeto?\n",
    "        \n",
    "        - Definir los **métodos** de la clase. ¿Cómo se usa el objeto?\n",
    "        \n",
    "    - **Utilizar** el nuevo tipo de objeto en el código. \n",
    "        - Crear **instancias** del nuevo tipo.\n",
    "        \n",
    "        - Realizar **operaciones** con los objetos.\n",
    "    "
   ]
  },
  {
   "cell_type": "markdown",
   "metadata": {
    "slideshow": {
     "slide_type": "slide"
    }
   },
   "source": [
    "## Definición del clase\n",
    "\n",
    "- El nombre de la clase es el **tipo**: \n",
    "> `class Coordinate(object)`\n",
    "\n",
    "- La clase está definida genéricamente:\n",
    "    \n",
    "    - Utilizamos `self` para referirnos a una instancia al definir la clase.\n",
    "    > `(self.x–self.y)**2`\n",
    "    \n",
    "    - `self` es un **parámetro** para los métodos en la definición.\n",
    "    \n",
    "- La clase define datos y métodos comunes a través de todas las instancias."
   ]
  },
  {
   "cell_type": "markdown",
   "metadata": {
    "slideshow": {
     "slide_type": "slide"
    }
   },
   "source": [
    "## Instancia de una clase\n",
    "\n",
    "- La instancia es **un objeto específico** de una clase:\n",
    "> `coord = Coordinate(1,2)`\n",
    "\n",
    "- Los atributos de datos varían entre instancias:\n",
    "    > `c1 = Coordinate(1,2)`  \n",
    "    `c2 = Coordinate(3,4)`\n",
    "    \n",
    "    - `c1` y `c2` ¡tienen diferentes coordenadas!\n",
    "    \n",
    "- La instancia **posee la estructura de la clase**."
   ]
  },
  {
   "cell_type": "markdown",
   "metadata": {
    "slideshow": {
     "slide_type": "slide"
    }
   },
   "source": [
    "## Por qué utilizar OOP y clases de objetos\n",
    "\n",
    "- La idea es copiar el comportamiento de la vida real.\n",
    "\n",
    "- Agrupamos diferentes objetos que son del mismo tipo.\n",
    "\n",
    "![Tipos de animales](animals.png)"
   ]
  },
  {
   "cell_type": "markdown",
   "metadata": {
    "slideshow": {
     "slide_type": "slide"
    }
   },
   "source": [
    "![Tipos de personas](person-prototype.png)"
   ]
  },
  {
   "cell_type": "markdown",
   "metadata": {
    "slideshow": {
     "slide_type": "slide"
    }
   },
   "source": [
    "## Grupos de objetos con atributos\n",
    "\n",
    "* **Atributos de datos** \n",
    "    \n",
    "    - ¿Qué son?\n",
    "    \n",
    "    - Para un `Coordinate`: valores $x$ e $y$.\n",
    "    \n",
    "    - Para un `Animal`: *nombre* y *edad*.\n",
    "\n",
    "* **Métodos**\n",
    "    \n",
    "    - ¿Cómo puede alguien interactuar con el objeto?\n",
    "    \n",
    "    - ¿Qué hace?\n",
    "    \n",
    "    - Para un `Coordinate`: *encontrar la distancia entre dos coordenadas*.\n",
    "    \n",
    "    - Para un `Animal`: *hacer un sonido*.\n"
   ]
  },
  {
   "cell_type": "markdown",
   "metadata": {
    "slideshow": {
     "slide_type": "slide"
    }
   },
   "source": [
    "## ¿Cómo definir una clase?\n",
    "\n",
    "Recordemos la sintaxis para definir una clase:"
   ]
  },
  {
   "cell_type": "code",
   "execution_count": 15,
   "metadata": {
    "slideshow": {
     "slide_type": "fragment"
    }
   },
   "outputs": [],
   "source": [
    "class Animal(object):\n",
    "    def __init__(self, age):\n",
    "        self.age = age\n",
    "        self.name = None\n",
    "        \n",
    "myanimal = Animal(3)"
   ]
  },
  {
   "cell_type": "markdown",
   "metadata": {
    "slideshow": {
     "slide_type": "-"
    }
   },
   "source": [
    "***Señalemos cada una de las partes de este código***"
   ]
  },
  {
   "cell_type": "code",
   "execution_count": 40,
   "metadata": {
    "slideshow": {
     "slide_type": "subslide"
    }
   },
   "outputs": [
    {
     "data": {
      "text/plain": [
       "<__main__.Animal at 0x26808d50748>"
      ]
     },
     "execution_count": 40,
     "metadata": {},
     "output_type": "execute_result"
    }
   ],
   "source": [
    "myanimal"
   ]
  },
  {
   "cell_type": "code",
   "execution_count": 45,
   "metadata": {},
   "outputs": [
    {
     "name": "stdout",
     "output_type": "stream",
     "text": [
      "3\n"
     ]
    }
   ],
   "source": [
    "print(myanimal.age)"
   ]
  },
  {
   "cell_type": "code",
   "execution_count": 44,
   "metadata": {},
   "outputs": [
    {
     "name": "stdout",
     "output_type": "stream",
     "text": [
      "None\n"
     ]
    }
   ],
   "source": [
    "print(myanimal.name)"
   ]
  },
  {
   "cell_type": "markdown",
   "metadata": {
    "slideshow": {
     "slide_type": "slide"
    }
   },
   "source": [
    "## Métodos *getter* y *setter*\n",
    "\n",
    "Es una *buena práctica* utilizar métodos para **modificar** y **obtener** los atributos de datos de una clase.\n",
    "\n",
    "* Estos métodos deben utilizarse **fuera** de la clase para acceder a los atributos."
   ]
  },
  {
   "cell_type": "code",
   "execution_count": 16,
   "metadata": {
    "slideshow": {
     "slide_type": "slide"
    }
   },
   "outputs": [],
   "source": [
    "class Animal(object):\n",
    "    def __init__(self, age):\n",
    "        self.age = age\n",
    "        self.name = None\n",
    "    # Getters\n",
    "    def get_age(self):\n",
    "        return self.age\n",
    "    def get_name(self):\n",
    "        return self.name\n",
    "    \n",
    "    # Setters\n",
    "    def set_age(self, newage):\n",
    "        self.age = newage\n",
    "    def set_name(self, newname=\"\"):\n",
    "        self.name = newname\n",
    "        \n",
    "    def __str__(self):\n",
    "        return \"animal:\"+str(self.name)+\":\"+str(self.age)"
   ]
  },
  {
   "cell_type": "code",
   "execution_count": 46,
   "metadata": {
    "slideshow": {
     "slide_type": "subslide"
    }
   },
   "outputs": [
    {
     "name": "stdout",
     "output_type": "stream",
     "text": [
      "animal:None:4\n"
     ]
    }
   ],
   "source": [
    "a = Animal(4)\n",
    "print(a)"
   ]
  },
  {
   "cell_type": "code",
   "execution_count": 47,
   "metadata": {},
   "outputs": [
    {
     "name": "stdout",
     "output_type": "stream",
     "text": [
      "4\n"
     ]
    }
   ],
   "source": [
    "print(a.get_age())"
   ]
  },
  {
   "cell_type": "code",
   "execution_count": 48,
   "metadata": {},
   "outputs": [
    {
     "name": "stdout",
     "output_type": "stream",
     "text": [
      "animal:fluffy:4\n"
     ]
    }
   ],
   "source": [
    "# Cambiamos el nombre\n",
    "a.set_name(\"fluffy\")\n",
    "print(a)"
   ]
  },
  {
   "cell_type": "markdown",
   "metadata": {
    "slideshow": {
     "slide_type": "slide"
    }
   },
   "source": [
    "## Notación `.`\n",
    "\n",
    "- La instanciación crea una **instancia** de un objeto:"
   ]
  },
  {
   "cell_type": "code",
   "execution_count": 17,
   "metadata": {
    "slideshow": {
     "slide_type": "-"
    }
   },
   "outputs": [],
   "source": [
    "a = Animal(3)"
   ]
  },
  {
   "cell_type": "markdown",
   "metadata": {
    "slideshow": {
     "slide_type": "-"
    }
   },
   "source": [
    "- La notación `.` permite acceder a los atributos (datos y métodos), aunque es **mejor práctica** utilizar métodos para obtener y ajustar estos parámetros."
   ]
  },
  {
   "cell_type": "code",
   "execution_count": 18,
   "metadata": {},
   "outputs": [
    {
     "data": {
      "text/plain": [
       "3"
      ]
     },
     "execution_count": 18,
     "metadata": {},
     "output_type": "execute_result"
    }
   ],
   "source": [
    "a.age"
   ]
  },
  {
   "cell_type": "code",
   "execution_count": 19,
   "metadata": {},
   "outputs": [
    {
     "data": {
      "text/plain": [
       "3"
      ]
     },
     "execution_count": 19,
     "metadata": {},
     "output_type": "execute_result"
    }
   ],
   "source": [
    "a.get_age()"
   ]
  },
  {
   "cell_type": "markdown",
   "metadata": {
    "slideshow": {
     "slide_type": "slide"
    }
   },
   "source": [
    "## Ocultando los detalles: ¿por qué es mejor práctica?\n",
    "\n",
    "- El autor de la definición de la clase **podría querer cambiar el nombre de los atributos**"
   ]
  },
  {
   "cell_type": "code",
   "execution_count": 20,
   "metadata": {},
   "outputs": [],
   "source": [
    "class Animal(object):\n",
    "    def __init__(self, age):\n",
    "        self.years = age\n",
    "    def get_age(self):\n",
    "        return self.years"
   ]
  },
  {
   "cell_type": "markdown",
   "metadata": {},
   "source": [
    "**Note la utilización de `self.years` en lugar de `self.age`**\n",
    "\n",
    "- Si se ha cambiado la definición de la clase, al acceder **fuera de la clase** a los atributos, se **podrían obtener errores**.\n",
    "\n",
    "- Es mejor utilizar métodos ***setters*** y ***getters*** como `a.get_age()` y **no** `a.age`\n",
    "    - Mejor estilo.\n",
    "    - Es más fácil mantener el código.\n",
    "    - Previene *bugs*."
   ]
  },
  {
   "cell_type": "markdown",
   "metadata": {
    "slideshow": {
     "slide_type": "slide"
    }
   },
   "source": [
    "## Ocultando los detalles: Python no es bueno en esto\n",
    "\n",
    "- Python permite **acceder a los datos** fuera de la clase:"
   ]
  },
  {
   "cell_type": "code",
   "execution_count": 21,
   "metadata": {},
   "outputs": [
    {
     "name": "stdout",
     "output_type": "stream",
     "text": [
      "3\n"
     ]
    }
   ],
   "source": [
    "print(a.age)"
   ]
  },
  {
   "cell_type": "markdown",
   "metadata": {},
   "source": [
    "- Permite **escribir los atributos** fuera de la clase directamente:"
   ]
  },
  {
   "cell_type": "code",
   "execution_count": 22,
   "metadata": {},
   "outputs": [],
   "source": [
    "a.age = 'infinito'"
   ]
  },
  {
   "cell_type": "markdown",
   "metadata": {},
   "source": [
    "- Permite **crear atributos de datos** de una instancia, fuera de la definición de la clase."
   ]
  },
  {
   "cell_type": "code",
   "execution_count": 23,
   "metadata": {},
   "outputs": [],
   "source": [
    "a.size = \"tiny\""
   ]
  },
  {
   "cell_type": "markdown",
   "metadata": {},
   "source": [
    "- Sin embargo, ¡**no es buena práctica** hacer cualquiera de estas!"
   ]
  },
  {
   "cell_type": "markdown",
   "metadata": {
    "slideshow": {
     "slide_type": "slide"
    }
   },
   "source": [
    "## Argumentos por defecto\n",
    "\n",
    "- Permiten proveer un **valor por defecto** a los parámetros formales si no se pasa ningún parámetro."
   ]
  },
  {
   "cell_type": "code",
   "execution_count": 26,
   "metadata": {
    "slideshow": {
     "slide_type": "skip"
    }
   },
   "outputs": [],
   "source": [
    "class Animal(object):\n",
    "    def __init__(self, age):\n",
    "        self.age = age\n",
    "        self.name = None\n",
    "    # Getters\n",
    "    def get_age(self):\n",
    "        return self.age\n",
    "    def get_name(self):\n",
    "        return self.name\n",
    "    \n",
    "    # Setters\n",
    "    def set_age(self, newage):\n",
    "        self.age = newage\n",
    "    def set_name(self, newname=\"\"):\n",
    "        self.name = newname\n",
    "        \n",
    "    def __str__(self):\n",
    "        return \"animal:\"+str(self.name)+\":\"+str(self.age)"
   ]
  },
  {
   "cell_type": "code",
   "execution_count": 27,
   "metadata": {},
   "outputs": [],
   "source": [
    "def set_name(self, newname=\"\"):\n",
    "    self.name = newname"
   ]
  },
  {
   "cell_type": "markdown",
   "metadata": {
    "slideshow": {
     "slide_type": "fragment"
    }
   },
   "source": [
    "- Al utilizar el argumento por defecto, podríamos no pasar ningún parámetro."
   ]
  },
  {
   "cell_type": "code",
   "execution_count": 28,
   "metadata": {},
   "outputs": [
    {
     "name": "stdout",
     "output_type": "stream",
     "text": [
      "\n"
     ]
    }
   ],
   "source": [
    "a = Animal(3)\n",
    "a.set_name()\n",
    "print(a.get_name())\n",
    "# Imprime \"\""
   ]
  },
  {
   "cell_type": "markdown",
   "metadata": {
    "slideshow": {
     "slide_type": "fragment"
    }
   },
   "source": [
    "- Acá un ejemplo con argumento:"
   ]
  },
  {
   "cell_type": "code",
   "execution_count": 29,
   "metadata": {},
   "outputs": [
    {
     "name": "stdout",
     "output_type": "stream",
     "text": [
      "fluffy\n"
     ]
    }
   ],
   "source": [
    "a = Animal(3)\n",
    "a.set_name(\"fluffy\")\n",
    "print(a.get_name())"
   ]
  },
  {
   "cell_type": "markdown",
   "metadata": {},
   "source": [
    "- Acá un ejemplo con el parámetro por defecto"
   ]
  },
  {
   "cell_type": "code",
   "execution_count": 50,
   "metadata": {
    "slideshow": {
     "slide_type": "-"
    }
   },
   "outputs": [
    {
     "name": "stdout",
     "output_type": "stream",
     "text": [
      "\n"
     ]
    }
   ],
   "source": [
    "a.set_name()\n",
    "print(a.get_name())"
   ]
  },
  {
   "cell_type": "markdown",
   "metadata": {
    "slideshow": {
     "slide_type": "slide"
    }
   },
   "source": [
    "## Jerarquías\n",
    "\n",
    "![Jerarquías de la clase `Animal`](jerarquias.png)"
   ]
  },
  {
   "cell_type": "markdown",
   "metadata": {
    "slideshow": {
     "slide_type": "slide"
    }
   },
   "source": [
    "![Tipos de vehículos](vehicle-class.jpeg)"
   ]
  },
  {
   "cell_type": "markdown",
   "metadata": {
    "slideshow": {
     "slide_type": "slide"
    }
   },
   "source": [
    "## Jerarquías\n",
    "\n",
    "Las jerarquías definen:  \n",
    "\n",
    "- Una **clase padre**: *superclase*.\n",
    "\n",
    "- Una **clase hija**: *subclase*.\n",
    "    \n",
    "    - **Hereda** todos los atributos y métodos de la clase padre.\n",
    "    \n",
    "    - Es posible **añadir** más atributos.\n",
    "    \n",
    "    - También **más comportamiento**.\n",
    "    \n",
    "    - Es posible **modificar** el comportamiento (*override of methods*).\n",
    "    \n",
    "![Jerarquías de animales](jerarquias-animales.png)"
   ]
  },
  {
   "cell_type": "markdown",
   "metadata": {
    "slideshow": {
     "slide_type": "slide"
    }
   },
   "source": [
    "## Herencia: la clase padre\n",
    "\n",
    "- Todo es un objeto.\n",
    "\n",
    "- Hereda de la clase `object`.\n",
    "    \n",
    "    - Permite implementar operaciones básicas de Python."
   ]
  },
  {
   "cell_type": "code",
   "execution_count": 51,
   "metadata": {},
   "outputs": [],
   "source": [
    "# Clase Animal completa\n",
    "class Animal(object):\n",
    "    def __init__(self, age):\n",
    "        self.age = age\n",
    "        self.name = None\n",
    "    def get_age(self):\n",
    "        return self.age\n",
    "    def get_name(self):\n",
    "        return self.name\n",
    "    def set_age(self, newage):\n",
    "        self.age = newage\n",
    "    def set_name(self, newname=\"\"):\n",
    "        self.name = newname\n",
    "    def __str__(self):\n",
    "        return \"animal:\"+str(self.name)+\":\"+str(self.age)"
   ]
  },
  {
   "cell_type": "markdown",
   "metadata": {
    "slideshow": {
     "slide_type": "slide"
    }
   },
   "source": [
    "## Herencia: la clase hija\n",
    "\n",
    "- Agrega funcionalidad con el método `speak()`.\n",
    "    \n",
    "    - Instancia de tipo `Cat` puede ser llamada con nuevos métodos.\n",
    "    \n",
    "    - Instancia de tipo `Animal` **arroja un error** si se llama con el núevo método de `Cat`.\n",
    "    \n",
    "- El método `__init__` no falta, **utiliza** la versión de la clase `Animal`."
   ]
  },
  {
   "cell_type": "code",
   "execution_count": 53,
   "metadata": {},
   "outputs": [],
   "source": [
    "class Cat(Animal):\n",
    "    def speak(self):\n",
    "        print(\"meow\")\n",
    "    def __str__(self):\n",
    "        return \"cat:\"+str(self.name)+\":\"+str(self.age)"
   ]
  },
  {
   "cell_type": "markdown",
   "metadata": {},
   "source": [
    "***Note cómo se modifica el método `__str__`***."
   ]
  },
  {
   "cell_type": "code",
   "execution_count": 55,
   "metadata": {
    "slideshow": {
     "slide_type": "subslide"
    }
   },
   "outputs": [
    {
     "name": "stdout",
     "output_type": "stream",
     "text": [
      "cat:fluffy:5\n"
     ]
    }
   ],
   "source": [
    "c = Cat(5)\n",
    "c.set_name(\"fluffy\")\n",
    "print(c)"
   ]
  },
  {
   "cell_type": "code",
   "execution_count": 56,
   "metadata": {},
   "outputs": [
    {
     "name": "stdout",
     "output_type": "stream",
     "text": [
      "meow\n"
     ]
    }
   ],
   "source": [
    "c.speak()"
   ]
  },
  {
   "cell_type": "code",
   "execution_count": 57,
   "metadata": {},
   "outputs": [
    {
     "name": "stdout",
     "output_type": "stream",
     "text": [
      "5\n"
     ]
    }
   ],
   "source": [
    "print(c.get_age())"
   ]
  },
  {
   "cell_type": "markdown",
   "metadata": {
    "slideshow": {
     "slide_type": "slide"
    }
   },
   "source": [
    "## ¿Qué método utilizar?\n",
    "\n",
    "- La subclase puede tener **métodos con el mismo nombre** que la superclase.\n",
    "\n",
    "- Una instancia busca el método en la definición de su **clase actual**.\n",
    "\n",
    "- Si no encuentra el método, busca **hacia arriba en la jerarquía**.\n",
    "    - En la clase padre, clase \"abuelo\", etc.\n",
    "\n",
    "- Utiliza el **primer método** en la jerarquía que contenga el nombre invocado."
   ]
  },
  {
   "cell_type": "code",
   "execution_count": 33,
   "metadata": {
    "slideshow": {
     "slide_type": "slide"
    }
   },
   "outputs": [],
   "source": [
    "class Person(Animal):\n",
    "    def __init__(self, name, age):\n",
    "        Animal.__init__(self, age)\n",
    "        self.set_name(name)\n",
    "        self.friends = []\n",
    "    def get_friends(self):\n",
    "        return self.friends\n",
    "    def speak(self):\n",
    "        print(\"hello\")\n",
    "    def add_friend(self, fname):\n",
    "        if fname not in self.friends:\n",
    "            self.friends.append(fname)\n",
    "    def age_diff(self, other):\n",
    "        diff = self.age - other.age\n",
    "        print(abs(diff), \"year difference\")\n",
    "    def __str__(self):\n",
    "        return \"person:\"+str(self.name)+\":\"+str(self.age)"
   ]
  },
  {
   "cell_type": "markdown",
   "metadata": {},
   "source": [
    "- ***¿Cuál es la diferencia en el método constructor?***\n",
    "\n",
    "- ***¿Cuáles son los nuevos métodos de esta clase?***\n",
    "\n",
    "- ***¿Se sobreescribe (modifica) algún método?***"
   ]
  },
  {
   "cell_type": "code",
   "execution_count": 62,
   "metadata": {
    "slideshow": {
     "slide_type": "subslide"
    }
   },
   "outputs": [
    {
     "name": "stdout",
     "output_type": "stream",
     "text": [
      "jack 30\n",
      "jill 25\n"
     ]
    }
   ],
   "source": [
    "# Pruebas de Person\n",
    "p1 = Person(\"jack\", 30)\n",
    "p2 = Person(\"jill\", 25)\n",
    "\n",
    "print(p1.get_name(), p1.get_age())\n",
    "print(p2.get_name(), p2.get_age())"
   ]
  },
  {
   "cell_type": "code",
   "execution_count": 59,
   "metadata": {},
   "outputs": [
    {
     "name": "stdout",
     "output_type": "stream",
     "text": [
      "person:jack:30\n"
     ]
    }
   ],
   "source": [
    "print(p1)"
   ]
  },
  {
   "cell_type": "code",
   "execution_count": 60,
   "metadata": {},
   "outputs": [
    {
     "name": "stdout",
     "output_type": "stream",
     "text": [
      "hello\n"
     ]
    }
   ],
   "source": [
    "p1.speak()"
   ]
  },
  {
   "cell_type": "code",
   "execution_count": 61,
   "metadata": {},
   "outputs": [
    {
     "name": "stdout",
     "output_type": "stream",
     "text": [
      "5 year difference\n"
     ]
    }
   ],
   "source": [
    "p1.age_diff(p2)"
   ]
  },
  {
   "cell_type": "markdown",
   "metadata": {
    "slideshow": {
     "slide_type": "slide"
    }
   },
   "source": [
    "## Ejemplo: clase nieto"
   ]
  },
  {
   "cell_type": "code",
   "execution_count": 63,
   "metadata": {},
   "outputs": [],
   "source": [
    "import random\n",
    "\n",
    "class Student(Person):\n",
    "    def __init__(self, name, age, major=None):\n",
    "        Person.__init__(self, name, age)\n",
    "        self.major = major\n",
    "    def __str__(self):\n",
    "        return \"student:\"+str(self.name)+\":\"+str(self.age)+\":\"+str(self.major)\n",
    "    def change_major(self, major):\n",
    "        self.major = major\n",
    "    def speak(self):\n",
    "        r = random.random()\n",
    "        if r < 0.25:\n",
    "            print(\"i have homework\")\n",
    "        elif 0.25 <= r < 0.5:\n",
    "            print(\"i need sleep\")\n",
    "        elif 0.5 <= r < 0.75:\n",
    "            print(\"i should eat\")\n",
    "        else:\n",
    "            print(\"i am watching tv\")"
   ]
  },
  {
   "cell_type": "markdown",
   "metadata": {},
   "source": [
    "- ***¿De qué clase hereda ahora `Student`?***\n",
    "\n",
    "- ***¿Por qué se realiza `import random`?***\n",
    "\n",
    "- ***¿Se agrega algún atributo?***\n",
    "\n",
    "- ***¿Se sobreescribe (modifica) algún método?***"
   ]
  },
  {
   "cell_type": "code",
   "execution_count": 64,
   "metadata": {
    "slideshow": {
     "slide_type": "subslide"
    }
   },
   "outputs": [
    {
     "name": "stdout",
     "output_type": "stream",
     "text": [
      "student:alice:20:CS\n",
      "student:beth:18:None\n"
     ]
    }
   ],
   "source": [
    "# Pruebas de Student\n",
    "s1 = Student('alice', age=20, major=\"CS\")\n",
    "s2 = Student('beth', age=18)\n",
    "\n",
    "print(s1)\n",
    "print(s2)"
   ]
  },
  {
   "cell_type": "code",
   "execution_count": 65,
   "metadata": {},
   "outputs": [
    {
     "name": "stdout",
     "output_type": "stream",
     "text": [
      "alice says: i have homework\n"
     ]
    }
   ],
   "source": [
    "print(s1.get_name(),\"says:\", end=\" \")\n",
    "s1.speak()"
   ]
  },
  {
   "cell_type": "code",
   "execution_count": 66,
   "metadata": {},
   "outputs": [
    {
     "name": "stdout",
     "output_type": "stream",
     "text": [
      "beth says: i am watching tv\n"
     ]
    }
   ],
   "source": [
    "print(s2.get_name(),\"says:\", end=\" \")\n",
    "s2.speak()"
   ]
  },
  {
   "cell_type": "markdown",
   "metadata": {
    "slideshow": {
     "slide_type": "slide"
    }
   },
   "source": [
    "## Variables de clase\n",
    "\n",
    "- Sus valores se **comparten** entre todas las instancias de una clase."
   ]
  },
  {
   "cell_type": "code",
   "execution_count": 71,
   "metadata": {},
   "outputs": [],
   "source": [
    "class Rabbit(Animal):\n",
    "    # a class variable, tag, shared across all instances\n",
    "    tag = 1\n",
    "    def __init__(self, age, parent1=None, parent2=None):\n",
    "        Animal.__init__(self, age)\n",
    "        self.parent1 = parent1\n",
    "        self.parent2 = parent2\n",
    "        self.rid = Rabbit.tag\n",
    "        Rabbit.tag += 1"
   ]
  },
  {
   "cell_type": "markdown",
   "metadata": {},
   "source": [
    "- Utilizamos `tag` para dar un **identificador único** a cada instancia de `Rabbit`.\n",
    "- ¿Cuál es la diferencia entre una **variable de instancia** y una **variable de clase**?\n",
    "    - Al incrementar la variable de clase, cambia para **todas las instancias** de la clase."
   ]
  },
  {
   "cell_type": "code",
   "execution_count": 72,
   "metadata": {
    "slideshow": {
     "slide_type": "subslide"
    }
   },
   "outputs": [
    {
     "name": "stdout",
     "output_type": "stream",
     "text": [
      "r1: animal:None:3\n",
      "r2: animal:None:4\n"
     ]
    }
   ],
   "source": [
    "# Prueba de conejos\n",
    "r1 = Rabbit(3)\n",
    "r2 = Rabbit(4)\n",
    "\n",
    "print(\"r1:\", r1)\n",
    "print(\"r2:\", r2)"
   ]
  },
  {
   "cell_type": "code",
   "execution_count": 73,
   "metadata": {},
   "outputs": [
    {
     "data": {
      "text/plain": [
       "3"
      ]
     },
     "execution_count": 73,
     "metadata": {},
     "output_type": "execute_result"
    }
   ],
   "source": [
    "#tag se queda en el valor\n",
    "r1.tag"
   ]
  },
  {
   "cell_type": "code",
   "execution_count": 75,
   "metadata": {},
   "outputs": [
    {
     "data": {
      "text/plain": [
       "3"
      ]
     },
     "execution_count": 75,
     "metadata": {},
     "output_type": "execute_result"
    }
   ],
   "source": [
    "# de forma global\n",
    "r2.tag"
   ]
  },
  {
   "cell_type": "markdown",
   "metadata": {
    "slideshow": {
     "slide_type": "slide"
    }
   },
   "source": [
    "## Métodos *getter* para `Rabbit`\n",
    "- `get_rid()`: devuelve el ID del conejo.\n",
    "- `get_parent1()` y `get_parent2()` devuelven a los padres del conejo."
   ]
  },
  {
   "cell_type": "code",
   "execution_count": 36,
   "metadata": {},
   "outputs": [],
   "source": [
    "class Rabbit(Animal):\n",
    "    # a class variable, tag, shared across all instances\n",
    "    tag = 1\n",
    "    def __init__(self, age, parent1=None, parent2=None):\n",
    "        Animal.__init__(self, age)\n",
    "        self.parent1 = parent1\n",
    "        self.parent2 = parent2\n",
    "        self.rid = Rabbit.tag\n",
    "        Rabbit.tag += 1\n",
    "    def get_rid(self):\n",
    "        # zfill used to add leading zeroes 001 instead of 1\n",
    "        return str(self.rid).zfill(3)\n",
    "    def get_parent1(self):\n",
    "        return self.parent1\n",
    "    def get_parent2(self):\n",
    "        return self.parent2"
   ]
  },
  {
   "cell_type": "markdown",
   "metadata": {},
   "source": [
    "- Recordemos que `get_name()` y `get_age()` fueron heredados de la clase `Animal`."
   ]
  },
  {
   "cell_type": "markdown",
   "metadata": {
    "slideshow": {
     "slide_type": "slide"
    }
   },
   "source": [
    "## Creando un operador para `Rabbit`\n",
    "- Definimos el operador `+` entre dos instancias de `Rabbit`.\n",
    "    \n",
    "    - Si `r1` y `r2` son instancias de `Rabbit`: `r4 = r1 + r2` definen un conejo con padres `r1` y `r2`.\n",
    "    \n",
    "    - Se define al conejo `r4` con edad inicial cero.\n",
    "    \n",
    "    - Un padre es `self` y el otro es `other`.\n",
    "    \n",
    "    - Recordemos que en `__init__`, `parent1` y `parent2` son de tipo `Rabbit`."
   ]
  },
  {
   "cell_type": "code",
   "execution_count": null,
   "metadata": {},
   "outputs": [],
   "source": [
    "def __add__(self, other):\n",
    "    # returning object of same type as this class\n",
    "    return Rabbit(0, self, other)"
   ]
  },
  {
   "cell_type": "code",
   "execution_count": 87,
   "metadata": {
    "slideshow": {
     "slide_type": "skip"
    }
   },
   "outputs": [],
   "source": [
    "# Esta es parcial, para probar la clase Rabbit con el método __add__\n",
    "class Rabbit(Animal):\n",
    "    # a class variable, tag, shared across all instances\n",
    "    tag = 1\n",
    "    def __init__(self, age, parent1=None, parent2=None):\n",
    "        Animal.__init__(self, age)\n",
    "        self.parent1 = parent1\n",
    "        self.parent2 = parent2\n",
    "        self.rid = Rabbit.tag\n",
    "        Rabbit.tag += 1\n",
    "    def get_rid(self):\n",
    "        # zfill used to add leading zeroes 001 instead of 1\n",
    "        return str(self.rid).zfill(3)\n",
    "    def get_parent1(self):\n",
    "        return self.parent1\n",
    "    def get_parent2(self):\n",
    "        return self.parent2\n",
    "    def __add__(self, other):\n",
    "        # returning object of same type as this class\n",
    "        return Rabbit(0, self, other)"
   ]
  },
  {
   "cell_type": "code",
   "execution_count": 77,
   "metadata": {
    "slideshow": {
     "slide_type": "subslide"
    }
   },
   "outputs": [],
   "source": [
    "# Prueba de conejos\n",
    "r1 = Rabbit(3)\n",
    "r2 = Rabbit(4)"
   ]
  },
  {
   "cell_type": "code",
   "execution_count": 84,
   "metadata": {},
   "outputs": [],
   "source": [
    "r4 = r1 + r2"
   ]
  },
  {
   "cell_type": "code",
   "execution_count": 85,
   "metadata": {},
   "outputs": [
    {
     "data": {
      "text/plain": [
       "<__main__.Rabbit at 0x26808d3d4c8>"
      ]
     },
     "execution_count": 85,
     "metadata": {},
     "output_type": "execute_result"
    }
   ],
   "source": [
    "r4.get_parent1()"
   ]
  },
  {
   "cell_type": "code",
   "execution_count": 86,
   "metadata": {},
   "outputs": [
    {
     "data": {
      "text/plain": [
       "<__main__.Rabbit at 0x26808d3d488>"
      ]
     },
     "execution_count": 86,
     "metadata": {},
     "output_type": "execute_result"
    }
   ],
   "source": [
    "r4.get_parent2()"
   ]
  },
  {
   "cell_type": "markdown",
   "metadata": {
    "slideshow": {
     "slide_type": "slide"
    }
   },
   "source": [
    "## Método para comparar dos `Rabbit`\n",
    "\n",
    "- Vamos a decidir que dos conejos son iguales si **tienen a los mismos padres**."
   ]
  },
  {
   "cell_type": "code",
   "execution_count": 39,
   "metadata": {},
   "outputs": [],
   "source": [
    "def __eq__(self, other):\n",
    "    # compare the ids of self and other's parents\n",
    "    # don't care about the order of the parents\n",
    "    # the backslash tells python I want to break up my line\n",
    "    parents_same = self.parent1.rid == other.parent1.rid \\\n",
    "                   and self.parent2.rid == other.parent2.rid\n",
    "\n",
    "    parents_opposite = self.parent2.rid == other.parent1.rid \\\n",
    "                       and self.parent1.rid == other.parent2.rid\n",
    "\n",
    "    return parents_same or parents_opposite"
   ]
  },
  {
   "cell_type": "markdown",
   "metadata": {},
   "source": [
    "- Comparamos los IDs de los padres, ya que estos son únicos debido a **las variables de clase**. \n",
    "\n",
    "- Notar que no es posible comparar a los objetos padres directamente.\n",
    "    - Por ejemplo: `self.parent1 == other.parent1`\n",
    "    - Esto llamaría a `__eq__` hacia los padres de los conejos, hasta eventualmente obtener `None`, lo cual provocaría `AtributeError` al intentar hacer `None.parent1`."
   ]
  },
  {
   "cell_type": "code",
   "execution_count": 88,
   "metadata": {
    "slideshow": {
     "slide_type": "skip"
    }
   },
   "outputs": [],
   "source": [
    "# Clase completa de Rabbit y ejemplos\n",
    "class Rabbit(Animal):\n",
    "    # a class variable, tag, shared across all instances\n",
    "    tag = 1\n",
    "    def __init__(self, age, parent1=None, parent2=None):\n",
    "        Animal.__init__(self, age)\n",
    "        self.parent1 = parent1\n",
    "        self.parent2 = parent2\n",
    "        self.rid = Rabbit.tag\n",
    "        Rabbit.tag += 1\n",
    "    def get_rid(self):\n",
    "        # zfill used to add leading zeroes 001 instead of 1\n",
    "        return str(self.rid).zfill(3)\n",
    "    def get_parent1(self):\n",
    "        return self.parent1\n",
    "    def get_parent2(self):\n",
    "        return self.parent2\n",
    "    def __add__(self, other):\n",
    "        # returning object of same type as this class\n",
    "        return Rabbit(0, self, other)\n",
    "    def __eq__(self, other):\n",
    "        # compare the ids of self and other's parents\n",
    "        # don't care about the order of the parents\n",
    "        # the backslash tells python I want to break up my line\n",
    "        parents_same = self.parent1.rid == other.parent1.rid \\\n",
    "                       and self.parent2.rid == other.parent2.rid\n",
    "        parents_opposite = self.parent2.rid == other.parent1.rid \\\n",
    "                           and self.parent1.rid == other.parent2.rid\n",
    "        return parents_same or parents_opposite\n",
    "    def __str__(self):\n",
    "        return \"rabbit:\"+ self.get_rid()"
   ]
  },
  {
   "cell_type": "code",
   "execution_count": 89,
   "metadata": {
    "slideshow": {
     "slide_type": "subslide"
    }
   },
   "outputs": [],
   "source": [
    "# Creando instancias de Rabbit\n",
    "r1 = Rabbit(3)\n",
    "r2 = Rabbit(4)\n",
    "r3 = Rabbit(5)"
   ]
  },
  {
   "cell_type": "code",
   "execution_count": 90,
   "metadata": {},
   "outputs": [
    {
     "name": "stdout",
     "output_type": "stream",
     "text": [
      "r1: rabbit:001\n",
      "r2: rabbit:002\n",
      "r3: rabbit:003\n"
     ]
    }
   ],
   "source": [
    "print(\"r1:\", r1)\n",
    "print(\"r2:\", r2)\n",
    "print(\"r3:\", r3)"
   ]
  },
  {
   "cell_type": "code",
   "execution_count": 91,
   "metadata": {},
   "outputs": [
    {
     "name": "stdout",
     "output_type": "stream",
     "text": [
      "r1 parent1: None\n",
      "r1 parent2: None\n"
     ]
    }
   ],
   "source": [
    "print(\"r1 parent1:\", r1.get_parent1())\n",
    "print(\"r1 parent2:\", r1.get_parent2())"
   ]
  },
  {
   "cell_type": "code",
   "execution_count": 92,
   "metadata": {},
   "outputs": [
    {
     "name": "stdout",
     "output_type": "stream",
     "text": [
      "r4 parent1: rabbit:001\n",
      "r4 parent2: rabbit:002\n"
     ]
    }
   ],
   "source": [
    "r4 = r1+r2\n",
    "print(\"r4 parent1:\", r4.get_parent1())\n",
    "print(\"r4 parent2:\", r4.get_parent2())"
   ]
  },
  {
   "cell_type": "code",
   "execution_count": 93,
   "metadata": {
    "slideshow": {
     "slide_type": "subslide"
    }
   },
   "outputs": [
    {
     "name": "stdout",
     "output_type": "stream",
     "text": [
      "r5 parent1: rabbit:003\n",
      "r5 parent2: rabbit:004\n",
      "r6 parent1: rabbit:004\n",
      "r6 parent2: rabbit:003\n"
     ]
    }
   ],
   "source": [
    "# Probando igualdad de conejos\n",
    "r5 = r3+r4\n",
    "r6 = r4+r3\n",
    "\n",
    "print(\"r5 parent1:\", r5.get_parent1())\n",
    "print(\"r5 parent2:\", r5.get_parent2())\n",
    "print(\"r6 parent1:\", r6.get_parent1())\n",
    "print(\"r6 parent2:\", r6.get_parent2())"
   ]
  },
  {
   "cell_type": "code",
   "execution_count": 94,
   "metadata": {},
   "outputs": [
    {
     "name": "stdout",
     "output_type": "stream",
     "text": [
      "r5 and r6 have same parents? True\n",
      "r4 and r6 have same parents? False\n"
     ]
    }
   ],
   "source": [
    "print(\"r5 and r6 have same parents?\", r5 == r6)\n",
    "print(\"r4 and r6 have same parents?\", r4 == r6)"
   ]
  },
  {
   "cell_type": "markdown",
   "metadata": {
    "slideshow": {
     "slide_type": "slide"
    }
   },
   "source": [
    "## Programación orientada a objetos\n",
    "\n",
    "- Permite crear una **colección** y **organización** de datos personalizada.\n",
    "- **Divide** el trabajo entre varios objetos similares.\n",
    "- Permite acceder a la información de una manera **consistente**.\n",
    "- Permite añadir la complejidad por **capas**.\n",
    "- Como las funciones:\n",
    "    - Permiten crear **descomposición** y **abstracción**.\n",
    "    - **Modularizar** los programas."
   ]
  },
  {
   "cell_type": "markdown",
   "metadata": {
    "slideshow": {
     "slide_type": "slide"
    }
   },
   "source": [
    "## Fin\n",
    "\n",
    "![OOP](oop-logo.png)"
   ]
  }
 ],
 "metadata": {
  "celltoolbar": "Slideshow",
  "kernelspec": {
   "display_name": "Python 3",
   "language": "python",
   "name": "python3"
  },
  "language_info": {
   "codemirror_mode": {
    "name": "ipython",
    "version": 3
   },
   "file_extension": ".py",
   "mimetype": "text/x-python",
   "name": "python",
   "nbconvert_exporter": "python",
   "pygments_lexer": "ipython3",
   "version": "3.7.4"
  }
 },
 "nbformat": 4,
 "nbformat_minor": 2
}
