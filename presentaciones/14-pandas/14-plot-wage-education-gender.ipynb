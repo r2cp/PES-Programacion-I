{
 "cells": [
  {
   "cell_type": "markdown",
   "metadata": {},
   "source": [
    "\n",
    "Test for an education/gender interaction in wages\n",
    "==================================================\n",
    "\n",
    "Wages depend mostly on education. Here we investigate how this dependence\n",
    "is related to gender: not only does gender create an offset in wages, it\n",
    "also seems that wages increase more with education for males than\n",
    "females.\n",
    "\n",
    "Does our data support this last hypothesis? We will test this using\n",
    "statsmodels' formulas\n",
    "(http://statsmodels.sourceforge.net/stable/example_formulas.html).\n",
    "\n",
    "\n"
   ]
  },
  {
   "cell_type": "code",
   "execution_count": 2,
   "metadata": {},
   "outputs": [],
   "source": [
    "import pandas as pd\n",
    "import numpy as np\n",
    "import seaborn\n",
    "import statsmodels.formula.api as sm"
   ]
  },
  {
   "cell_type": "markdown",
   "metadata": {},
   "source": [
    "### Load and massage the data\n",
    "\n"
   ]
  },
  {
   "cell_type": "code",
   "execution_count": 3,
   "metadata": {},
   "outputs": [
    {
     "data": {
      "text/html": [
       "<div>\n",
       "<style scoped>\n",
       "    .dataframe tbody tr th:only-of-type {\n",
       "        vertical-align: middle;\n",
       "    }\n",
       "\n",
       "    .dataframe tbody tr th {\n",
       "        vertical-align: top;\n",
       "    }\n",
       "\n",
       "    .dataframe thead th {\n",
       "        text-align: right;\n",
       "    }\n",
       "</style>\n",
       "<table border=\"1\" class=\"dataframe\">\n",
       "  <thead>\n",
       "    <tr style=\"text-align: right;\">\n",
       "      <th></th>\n",
       "      <th>Education</th>\n",
       "      <th>South</th>\n",
       "      <th>Sex</th>\n",
       "      <th>Experience</th>\n",
       "      <th>Union</th>\n",
       "      <th>Wage</th>\n",
       "      <th>Age</th>\n",
       "      <th>Race</th>\n",
       "      <th>Occupation</th>\n",
       "      <th>Sector</th>\n",
       "      <th>Married</th>\n",
       "    </tr>\n",
       "  </thead>\n",
       "  <tbody>\n",
       "    <tr>\n",
       "      <td>0</td>\n",
       "      <td>8</td>\n",
       "      <td>0</td>\n",
       "      <td>1</td>\n",
       "      <td>21</td>\n",
       "      <td>0</td>\n",
       "      <td>0.707570</td>\n",
       "      <td>35</td>\n",
       "      <td>2</td>\n",
       "      <td>6</td>\n",
       "      <td>1</td>\n",
       "      <td>1</td>\n",
       "    </tr>\n",
       "    <tr>\n",
       "      <td>1</td>\n",
       "      <td>9</td>\n",
       "      <td>0</td>\n",
       "      <td>1</td>\n",
       "      <td>42</td>\n",
       "      <td>0</td>\n",
       "      <td>0.694605</td>\n",
       "      <td>57</td>\n",
       "      <td>3</td>\n",
       "      <td>6</td>\n",
       "      <td>1</td>\n",
       "      <td>1</td>\n",
       "    </tr>\n",
       "    <tr>\n",
       "      <td>2</td>\n",
       "      <td>12</td>\n",
       "      <td>0</td>\n",
       "      <td>0</td>\n",
       "      <td>1</td>\n",
       "      <td>0</td>\n",
       "      <td>0.824126</td>\n",
       "      <td>19</td>\n",
       "      <td>3</td>\n",
       "      <td>6</td>\n",
       "      <td>1</td>\n",
       "      <td>0</td>\n",
       "    </tr>\n",
       "    <tr>\n",
       "      <td>3</td>\n",
       "      <td>12</td>\n",
       "      <td>0</td>\n",
       "      <td>0</td>\n",
       "      <td>4</td>\n",
       "      <td>0</td>\n",
       "      <td>0.602060</td>\n",
       "      <td>22</td>\n",
       "      <td>3</td>\n",
       "      <td>6</td>\n",
       "      <td>0</td>\n",
       "      <td>0</td>\n",
       "    </tr>\n",
       "    <tr>\n",
       "      <td>4</td>\n",
       "      <td>12</td>\n",
       "      <td>0</td>\n",
       "      <td>0</td>\n",
       "      <td>17</td>\n",
       "      <td>0</td>\n",
       "      <td>0.875061</td>\n",
       "      <td>35</td>\n",
       "      <td>3</td>\n",
       "      <td>6</td>\n",
       "      <td>0</td>\n",
       "      <td>1</td>\n",
       "    </tr>\n",
       "  </tbody>\n",
       "</table>\n",
       "</div>"
      ],
      "text/plain": [
       "   Education  South  Sex  Experience  Union      Wage  Age  Race  Occupation  \\\n",
       "0          8      0    1          21      0  0.707570   35     2           6   \n",
       "1          9      0    1          42      0  0.694605   57     3           6   \n",
       "2         12      0    0           1      0  0.824126   19     3           6   \n",
       "3         12      0    0           4      0  0.602060   22     3           6   \n",
       "4         12      0    0          17      0  0.875061   35     3           6   \n",
       "\n",
       "   Sector  Married  \n",
       "0       1        1  \n",
       "1       1        1  \n",
       "2       1        0  \n",
       "3       0        0  \n",
       "4       0        1  "
      ]
     },
     "execution_count": 3,
     "metadata": {},
     "output_type": "execute_result"
    }
   ],
   "source": [
    "# EDUCATION: Number of years of education\n",
    "# SEX: 1=Female, 0=Male\n",
    "# WAGE: Wage (dollars per hour)\n",
    "data = pd.read_csv('wages85.csv')\n",
    "\n",
    "# Log-transform the wages, because they typically are increased with\n",
    "# multiplicative factors\n",
    "data['Wage'] = np.log10(data['Wage'])\n",
    "data.head()"
   ]
  },
  {
   "cell_type": "code",
   "execution_count": 4,
   "metadata": {},
   "outputs": [
    {
     "data": {
      "text/html": [
       "<div>\n",
       "<style scoped>\n",
       "    .dataframe tbody tr th:only-of-type {\n",
       "        vertical-align: middle;\n",
       "    }\n",
       "\n",
       "    .dataframe tbody tr th {\n",
       "        vertical-align: top;\n",
       "    }\n",
       "\n",
       "    .dataframe thead th {\n",
       "        text-align: right;\n",
       "    }\n",
       "</style>\n",
       "<table border=\"1\" class=\"dataframe\">\n",
       "  <thead>\n",
       "    <tr style=\"text-align: right;\">\n",
       "      <th></th>\n",
       "      <th>Education</th>\n",
       "      <th>South</th>\n",
       "      <th>Sex</th>\n",
       "      <th>Experience</th>\n",
       "      <th>Union</th>\n",
       "      <th>Wage</th>\n",
       "      <th>Age</th>\n",
       "      <th>Race</th>\n",
       "      <th>Occupation</th>\n",
       "      <th>Sector</th>\n",
       "      <th>Married</th>\n",
       "    </tr>\n",
       "  </thead>\n",
       "  <tbody>\n",
       "    <tr>\n",
       "      <td>count</td>\n",
       "      <td>534.000000</td>\n",
       "      <td>534.000000</td>\n",
       "      <td>534.000000</td>\n",
       "      <td>534.000000</td>\n",
       "      <td>534.000000</td>\n",
       "      <td>534.000000</td>\n",
       "      <td>534.000000</td>\n",
       "      <td>534.000000</td>\n",
       "      <td>534.00000</td>\n",
       "      <td>534.000000</td>\n",
       "      <td>534.000000</td>\n",
       "    </tr>\n",
       "    <tr>\n",
       "      <td>mean</td>\n",
       "      <td>13.018727</td>\n",
       "      <td>0.292135</td>\n",
       "      <td>0.458801</td>\n",
       "      <td>17.822097</td>\n",
       "      <td>0.179775</td>\n",
       "      <td>0.894294</td>\n",
       "      <td>36.833333</td>\n",
       "      <td>2.698502</td>\n",
       "      <td>4.14794</td>\n",
       "      <td>0.275281</td>\n",
       "      <td>0.655431</td>\n",
       "    </tr>\n",
       "    <tr>\n",
       "      <td>std</td>\n",
       "      <td>2.615373</td>\n",
       "      <td>0.455170</td>\n",
       "      <td>0.498767</td>\n",
       "      <td>12.379710</td>\n",
       "      <td>0.384360</td>\n",
       "      <td>0.229196</td>\n",
       "      <td>11.726573</td>\n",
       "      <td>0.679999</td>\n",
       "      <td>1.65580</td>\n",
       "      <td>0.538453</td>\n",
       "      <td>0.475673</td>\n",
       "    </tr>\n",
       "    <tr>\n",
       "      <td>min</td>\n",
       "      <td>2.000000</td>\n",
       "      <td>0.000000</td>\n",
       "      <td>0.000000</td>\n",
       "      <td>0.000000</td>\n",
       "      <td>0.000000</td>\n",
       "      <td>0.000000</td>\n",
       "      <td>18.000000</td>\n",
       "      <td>1.000000</td>\n",
       "      <td>1.00000</td>\n",
       "      <td>0.000000</td>\n",
       "      <td>0.000000</td>\n",
       "    </tr>\n",
       "    <tr>\n",
       "      <td>25%</td>\n",
       "      <td>12.000000</td>\n",
       "      <td>0.000000</td>\n",
       "      <td>0.000000</td>\n",
       "      <td>8.000000</td>\n",
       "      <td>0.000000</td>\n",
       "      <td>0.720159</td>\n",
       "      <td>28.000000</td>\n",
       "      <td>3.000000</td>\n",
       "      <td>3.00000</td>\n",
       "      <td>0.000000</td>\n",
       "      <td>0.000000</td>\n",
       "    </tr>\n",
       "    <tr>\n",
       "      <td>50%</td>\n",
       "      <td>12.000000</td>\n",
       "      <td>0.000000</td>\n",
       "      <td>0.000000</td>\n",
       "      <td>15.000000</td>\n",
       "      <td>0.000000</td>\n",
       "      <td>0.890980</td>\n",
       "      <td>35.000000</td>\n",
       "      <td>3.000000</td>\n",
       "      <td>4.00000</td>\n",
       "      <td>0.000000</td>\n",
       "      <td>1.000000</td>\n",
       "    </tr>\n",
       "    <tr>\n",
       "      <td>75%</td>\n",
       "      <td>15.000000</td>\n",
       "      <td>1.000000</td>\n",
       "      <td>1.000000</td>\n",
       "      <td>26.000000</td>\n",
       "      <td>0.000000</td>\n",
       "      <td>1.051153</td>\n",
       "      <td>44.000000</td>\n",
       "      <td>3.000000</td>\n",
       "      <td>6.00000</td>\n",
       "      <td>0.000000</td>\n",
       "      <td>1.000000</td>\n",
       "    </tr>\n",
       "    <tr>\n",
       "      <td>max</td>\n",
       "      <td>18.000000</td>\n",
       "      <td>1.000000</td>\n",
       "      <td>1.000000</td>\n",
       "      <td>55.000000</td>\n",
       "      <td>1.000000</td>\n",
       "      <td>1.648360</td>\n",
       "      <td>64.000000</td>\n",
       "      <td>3.000000</td>\n",
       "      <td>6.00000</td>\n",
       "      <td>2.000000</td>\n",
       "      <td>1.000000</td>\n",
       "    </tr>\n",
       "  </tbody>\n",
       "</table>\n",
       "</div>"
      ],
      "text/plain": [
       "        Education       South         Sex  Experience       Union        Wage  \\\n",
       "count  534.000000  534.000000  534.000000  534.000000  534.000000  534.000000   \n",
       "mean    13.018727    0.292135    0.458801   17.822097    0.179775    0.894294   \n",
       "std      2.615373    0.455170    0.498767   12.379710    0.384360    0.229196   \n",
       "min      2.000000    0.000000    0.000000    0.000000    0.000000    0.000000   \n",
       "25%     12.000000    0.000000    0.000000    8.000000    0.000000    0.720159   \n",
       "50%     12.000000    0.000000    0.000000   15.000000    0.000000    0.890980   \n",
       "75%     15.000000    1.000000    1.000000   26.000000    0.000000    1.051153   \n",
       "max     18.000000    1.000000    1.000000   55.000000    1.000000    1.648360   \n",
       "\n",
       "              Age        Race  Occupation      Sector     Married  \n",
       "count  534.000000  534.000000   534.00000  534.000000  534.000000  \n",
       "mean    36.833333    2.698502     4.14794    0.275281    0.655431  \n",
       "std     11.726573    0.679999     1.65580    0.538453    0.475673  \n",
       "min     18.000000    1.000000     1.00000    0.000000    0.000000  \n",
       "25%     28.000000    3.000000     3.00000    0.000000    0.000000  \n",
       "50%     35.000000    3.000000     4.00000    0.000000    1.000000  \n",
       "75%     44.000000    3.000000     6.00000    0.000000    1.000000  \n",
       "max     64.000000    3.000000     6.00000    2.000000    1.000000  "
      ]
     },
     "execution_count": 4,
     "metadata": {},
     "output_type": "execute_result"
    }
   ],
   "source": [
    "data.describe()"
   ]
  },
  {
   "cell_type": "code",
   "execution_count": 5,
   "metadata": {},
   "outputs": [
    {
     "name": "stdout",
     "output_type": "stream",
     "text": [
      "<class 'pandas.core.frame.DataFrame'>\n",
      "RangeIndex: 534 entries, 0 to 533\n",
      "Data columns (total 11 columns):\n",
      "Education     534 non-null int64\n",
      "South         534 non-null int64\n",
      "Sex           534 non-null int64\n",
      "Experience    534 non-null int64\n",
      "Union         534 non-null int64\n",
      "Wage          534 non-null float64\n",
      "Age           534 non-null int64\n",
      "Race          534 non-null int64\n",
      "Occupation    534 non-null int64\n",
      "Sector        534 non-null int64\n",
      "Married       534 non-null int64\n",
      "dtypes: float64(1), int64(10)\n",
      "memory usage: 46.0 KB\n"
     ]
    }
   ],
   "source": [
    "data.info()"
   ]
  },
  {
   "cell_type": "markdown",
   "metadata": {},
   "source": [
    "### Simple plotting\n",
    "\n"
   ]
  },
  {
   "cell_type": "code",
   "execution_count": 6,
   "metadata": {},
   "outputs": [
    {
     "data": {
      "text/plain": [
       "<seaborn.axisgrid.FacetGrid at 0x23b9fa11888>"
      ]
     },
     "execution_count": 6,
     "metadata": {},
     "output_type": "execute_result"
    },
    {
     "data": {
      "image/png": "[encoded data removed]",
      "text/plain": [
       "<Figure size 402.375x360 with 1 Axes>"
      ]
     },
     "metadata": {
      "needs_background": "light"
     },
     "output_type": "display_data"
    }
   ],
   "source": [
    "# Plot 2 linear fits for male and female.\n",
    "seaborn.lmplot(y='Wage', x='Education', hue='Sex', data=data)"
   ]
  },
  {
   "cell_type": "markdown",
   "metadata": {},
   "source": [
    "### Statistical analysis\n",
    "\n"
   ]
  },
  {
   "cell_type": "code",
   "execution_count": 7,
   "metadata": {},
   "outputs": [
    {
     "name": "stdout",
     "output_type": "stream",
     "text": [
      "                            OLS Regression Results                            \n",
      "==============================================================================\n",
      "Dep. Variable:                   Wage   R-squared:                       0.193\n",
      "Model:                            OLS   Adj. R-squared:                  0.190\n",
      "Method:                 Least Squares   F-statistic:                     63.42\n",
      "Date:                Thu, 16 Jan 2020   Prob (F-statistic):           2.01e-25\n",
      "Time:                        09:57:16   Log-Likelihood:                 86.654\n",
      "No. Observations:                 534   AIC:                            -167.3\n",
      "Df Residuals:                     531   BIC:                            -154.5\n",
      "Df Model:                           2                                         \n",
      "Covariance Type:            nonrobust                                         \n",
      "==============================================================================\n",
      "                 coef    std err          t      P>|t|      [0.025      0.975]\n",
      "------------------------------------------------------------------------------\n",
      "Intercept      0.5060      0.046     10.979      0.000       0.415       0.597\n",
      "Education      0.0334      0.003      9.768      0.000       0.027       0.040\n",
      "Sex           -0.1008      0.018     -5.625      0.000      -0.136      -0.066\n",
      "==============================================================================\n",
      "Omnibus:                        4.675   Durbin-Watson:                   1.792\n",
      "Prob(Omnibus):                  0.097   Jarque-Bera (JB):                4.876\n",
      "Skew:                          -0.147   Prob(JB):                       0.0873\n",
      "Kurtosis:                       3.365   Cond. No.                         69.1\n",
      "==============================================================================\n",
      "\n",
      "Warnings:\n",
      "[1] Standard Errors assume that the covariance matrix of the errors is correctly specified.\n"
     ]
    }
   ],
   "source": [
    "# Note that this model is not the plot displayed above: it is one\n",
    "# joined model for male and female, not separate models for male and\n",
    "# female. The reason is that a single model enables statistical testing\n",
    "result = sm.ols(formula='Wage ~ Education + Sex', data=data).fit()\n",
    "print(result.summary())"
   ]
  },
  {
   "cell_type": "code",
   "execution_count": 10,
   "metadata": {},
   "outputs": [
    {
     "data": {
      "text/plain": [
       "Intercept    0.506037\n",
       "Education    0.033375\n",
       "Sex         -0.100785\n",
       "dtype: float64"
      ]
     },
     "execution_count": 10,
     "metadata": {},
     "output_type": "execute_result"
    }
   ],
   "source": [
    "result.params"
   ]
  },
  {
   "cell_type": "code",
   "execution_count": 11,
   "metadata": {},
   "outputs": [
    {
     "data": {
      "text/plain": [
       "0.5060365919229228"
      ]
     },
     "execution_count": 11,
     "metadata": {},
     "output_type": "execute_result"
    }
   ],
   "source": [
    "result.params[0]"
   ]
  },
  {
   "cell_type": "markdown",
   "metadata": {},
   "source": [
    "The plots above highlight that there is not only a different offset in\n",
    "wage but also a different slope\n",
    "\n",
    "We need to model this using an interaction\n",
    "\n"
   ]
  },
  {
   "cell_type": "code",
   "execution_count": 12,
   "metadata": {},
   "outputs": [
    {
     "name": "stdout",
     "output_type": "stream",
     "text": [
      "                            OLS Regression Results                            \n",
      "==============================================================================\n",
      "Dep. Variable:                   Wage   R-squared:                       0.198\n",
      "Model:                            OLS   Adj. R-squared:                  0.194\n",
      "Method:                 Least Squares   F-statistic:                     43.72\n",
      "Date:                Thu, 16 Jan 2020   Prob (F-statistic):           2.94e-25\n",
      "Time:                        10:00:21   Log-Likelihood:                 88.503\n",
      "No. Observations:                 534   AIC:                            -169.0\n",
      "Df Residuals:                     530   BIC:                            -151.9\n",
      "Df Model:                           3                                         \n",
      "Covariance Type:            nonrobust                                         \n",
      "=================================================================================\n",
      "                    coef    std err          t      P>|t|      [0.025      0.975]\n",
      "---------------------------------------------------------------------------------\n",
      "Intercept         0.5748      0.058      9.861      0.000       0.460       0.689\n",
      "Education         0.0281      0.004      6.411      0.000       0.019       0.037\n",
      "Sex              -0.2750      0.093     -2.972      0.003      -0.457      -0.093\n",
      "Education:Sex     0.0134      0.007      1.919      0.056      -0.000       0.027\n",
      "==============================================================================\n",
      "Omnibus:                        4.838   Durbin-Watson:                   1.825\n",
      "Prob(Omnibus):                  0.089   Jarque-Bera (JB):                5.000\n",
      "Skew:                          -0.156   Prob(JB):                       0.0821\n",
      "Kurtosis:                       3.356   Cond. No.                         170.\n",
      "==============================================================================\n",
      "\n",
      "Warnings:\n",
      "[1] Standard Errors assume that the covariance matrix of the errors is correctly specified.\n"
     ]
    }
   ],
   "source": [
    "result = sm.ols(formula='Wage ~ Education + Sex + Education * Sex',\n",
    "                data=data).fit()\n",
    "print(result.summary())"
   ]
  },
  {
   "cell_type": "markdown",
   "metadata": {},
   "source": [
    "Looking at the p-value of the interaction of gender and education, the\n",
    "data does not support the hypothesis that education benefits males\n",
    "more than female (p-value > 0.05).\n",
    "\n"
   ]
  },
  {
   "cell_type": "code",
   "execution_count": null,
   "metadata": {},
   "outputs": [],
   "source": []
  }
 ],
 "metadata": {
  "kernelspec": {
   "display_name": "Python 3",
   "language": "python",
   "name": "python3"
  },
  "language_info": {
   "codemirror_mode": {
    "name": "ipython",
    "version": 3
   },
   "file_extension": ".py",
   "mimetype": "text/x-python",
   "name": "python",
   "nbconvert_exporter": "python",
   "pygments_lexer": "ipython3",
   "version": "3.7.4"
  }
 },
 "nbformat": 4,
 "nbformat_minor": 1
}
