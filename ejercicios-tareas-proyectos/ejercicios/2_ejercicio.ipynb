{
 "cells": [
  {
   "cell_type": "markdown",
   "metadata": {},
   "source": [
    "# Ejercicio en clase # 2\n",
    "**Programación I**"
   ]
  },
  {
   "cell_type": "code",
   "execution_count": 3,
   "metadata": {},
   "outputs": [],
   "source": [
    "import random"
   ]
  },
  {
   "cell_type": "code",
   "execution_count": 16,
   "metadata": {},
   "outputs": [
    {
     "data": {
      "text/plain": [
       "9"
      ]
     },
     "execution_count": 16,
     "metadata": {},
     "output_type": "execute_result"
    }
   ],
   "source": [
    "# Selección de estudiante al azar\n",
    "random.randint(1, 19)"
   ]
  },
  {
   "cell_type": "markdown",
   "metadata": {},
   "source": [
    "## Ejercicio 1\n",
    "Escriba un programa que solicite un número y devuelva el valor dada la función.\n",
    "$$\n",
    "f(x) = \\begin{cases} \n",
    "      0 & x< 0 \\\\\n",
    "      \\frac{100-x}{100} & 0\\leq x\\leq 100 \\\\\n",
    "      0 & x > 100 \n",
    "   \\end{cases}\n",
    "$$"
   ]
  },
  {
   "cell_type": "code",
   "execution_count": 17,
   "metadata": {},
   "outputs": [
    {
     "name": "stdout",
     "output_type": "stream",
     "text": [
      "escriba un número: 50\n",
      "f(x)= 0.5\n"
     ]
    }
   ],
   "source": [
    "# Escriba su código aquí\n",
    "x = float(input('escriba un número: '))\n",
    "if (x<0):\n",
    "    print('f(x)=',0)\n",
    "elif (0<=x and x<=100):\n",
    "    print ('f(x)=',(100-x)/100)\n",
    "else:\n",
    "    print ('f(x)= ',0)\n"
   ]
  },
  {
   "cell_type": "markdown",
   "metadata": {},
   "source": [
    "## Ejercicio 2\n",
    "\n",
    "Escriba un programa que solicite el nombre y la edad. Si La edad es menor o igual a 18 años, el programa debe imprimir “Necesita permiso de los padres”, de lo contrario, imprimir el nombre y la edad seguido del mensaje “Apto para tramitar licencia”. "
   ]
  },
  {
   "cell_type": "code",
   "execution_count": 19,
   "metadata": {},
   "outputs": [
    {
     "name": "stdout",
     "output_type": "stream",
     "text": [
      "ingresa el nombre:Mauricio\n",
      "ingresa la edad:26\n",
      "Mauricio 26 años apto para tramitar la licencia\n"
     ]
    }
   ],
   "source": [
    "# Escriba su código aquí\n",
    "name = input(\"ingresa el nombre:\")\n",
    "age= int(input(\"ingresa la edad:\"))\n",
    "if age <= 18:\n",
    "    print(\"necesita permiso de los padres\")\n",
    "else:\n",
    "    print (name, age, \"años\", \"apto para tramitar la licencia\")"
   ]
  },
  {
   "cell_type": "markdown",
   "metadata": {},
   "source": [
    "## Ejercicio 3\n",
    "\n",
    "Escriba un programa imprima el siguiente patrón  \n",
    "``*``  \n",
    "``**``  \n",
    "``***``  \n",
    "``****``  \n",
    "``*****``  \n",
    "En donde el número de filas sea ingresado por el usuario. \n"
   ]
  },
  {
   "cell_type": "code",
   "execution_count": 26,
   "metadata": {},
   "outputs": [
    {
     "name": "stdout",
     "output_type": "stream",
     "text": [
      "Ingrese número de filas: 5\n",
      "*\n",
      "**\n",
      "***\n",
      "****\n",
      "*****\n"
     ]
    }
   ],
   "source": [
    "# Escriba su código aquí\n",
    "x = int(input(\"Ingrese número de filas: \"))\n",
    "i = 0\n",
    "\n",
    "if (x == 1):\n",
    "    print (\"*\")\n",
    "else: \n",
    "    for i in range (1, x+1):\n",
    "        print (\"*\"*i)"
   ]
  },
  {
   "cell_type": "code",
   "execution_count": null,
   "metadata": {},
   "outputs": [],
   "source": []
  },
  {
   "cell_type": "markdown",
   "metadata": {},
   "source": [
    "## Ejercicio 4\n",
    "\n",
    "Escriba un programa que solicite un número entero positivo e imprima todos los enteros positivos múltiplos de 5 que sean menores o iguales al entero ingresado.  Utilice el comando ``break`` para que el programa se detenga en 100 en caso el entero ingresado fuese mayor. "
   ]
  },
  {
   "cell_type": "code",
   "execution_count": 10,
   "metadata": {},
   "outputs": [
    {
     "name": "stdout",
     "output_type": "stream",
     "text": [
      "Ingresa un número: 120\n",
      "5\n",
      "10\n",
      "15\n",
      "20\n",
      "25\n",
      "30\n",
      "35\n",
      "40\n",
      "45\n",
      "50\n",
      "55\n",
      "60\n",
      "65\n",
      "70\n",
      "75\n",
      "80\n",
      "85\n",
      "90\n",
      "95\n",
      "100\n"
     ]
    }
   ],
   "source": [
    "# Escriba su código aquí\n",
    "x = int(input(\"Ingresa un número: \"))\n",
    "i = 1\n",
    "\n",
    "while i*5 <= x:\n",
    "    print(i*5)\n",
    "    if i*5 >= 100:\n",
    "        break\n",
    "    i += 1"
   ]
  },
  {
   "cell_type": "code",
   "execution_count": 13,
   "metadata": {},
   "outputs": [
    {
     "name": "stdout",
     "output_type": "stream",
     "text": [
      "Ingresa un número: 100\n",
      "5\n",
      "10\n",
      "15\n",
      "20\n",
      "25\n",
      "30\n",
      "35\n",
      "40\n",
      "45\n",
      "50\n",
      "55\n",
      "60\n",
      "65\n",
      "70\n",
      "75\n",
      "80\n",
      "85\n",
      "90\n",
      "95\n",
      "100\n"
     ]
    }
   ],
   "source": [
    "# Escriba su código aquí\n",
    "x = int(input(\"Ingresa un número: \"))\n",
    "\n",
    "for i in range(1,x):\n",
    "    print(i*5)\n",
    "    if (i*5 >= 100):\n",
    "        break"
   ]
  },
  {
   "cell_type": "code",
   "execution_count": 25,
   "metadata": {},
   "outputs": [
    {
     "name": "stdout",
     "output_type": "stream",
     "text": [
      "Favor ingresar un numero entero positivo: 33\n",
      "5\n",
      "10\n",
      "15\n",
      "20\n",
      "25\n",
      "30\n",
      "Adios\n"
     ]
    }
   ],
   "source": [
    "dato = int(input(\"Favor ingresar un numero entero positivo: \"))\n",
    "while dato < 0 and type(dato:\n",
    "    dato = input(\"Favor ingresar un numero entero positivo: \")\n",
    "    \n",
    "n = 1\n",
    "while (5*n)<=dato:\n",
    "    print(n*5)\n",
    "    n = n + 1\n",
    "    if (5*n) > 100:\n",
    "        break \n",
    "print(\"Adios\")"
   ]
  },
  {
   "cell_type": "code",
   "execution_count": 29,
   "metadata": {},
   "outputs": [
    {
     "data": {
      "text/plain": [
       "True"
      ]
     },
     "execution_count": 29,
     "metadata": {},
     "output_type": "execute_result"
    }
   ],
   "source": [
    "type(2) == int"
   ]
  },
  {
   "cell_type": "code",
   "execution_count": 31,
   "metadata": {},
   "outputs": [
    {
     "data": {
      "text/plain": [
       "False"
      ]
     },
     "execution_count": 31,
     "metadata": {},
     "output_type": "execute_result"
    }
   ],
   "source": [
    "isinstance(2, float)"
   ]
  },
  {
   "cell_type": "code",
   "execution_count": 34,
   "metadata": {},
   "outputs": [
    {
     "name": "stdout",
     "output_type": "stream",
     "text": [
      "A: A\n"
     ]
    },
    {
     "ename": "ValueError",
     "evalue": "could not convert string to float: 'A'",
     "output_type": "error",
     "traceback": [
      "\u001b[1;31m---------------------------------------------------------------------------\u001b[0m",
      "\u001b[1;31mValueError\u001b[0m                                Traceback (most recent call last)",
      "\u001b[1;32m<ipython-input-34-d8c7236d8fed>\u001b[0m in \u001b[0;36m<module>\u001b[1;34m\u001b[0m\n\u001b[1;32m----> 1\u001b[1;33m \u001b[0mint\u001b[0m\u001b[1;33m(\u001b[0m\u001b[0mfloat\u001b[0m\u001b[1;33m(\u001b[0m\u001b[0minput\u001b[0m\u001b[1;33m(\u001b[0m\u001b[1;34m\"A: \"\u001b[0m\u001b[1;33m)\u001b[0m\u001b[1;33m)\u001b[0m\u001b[1;33m)\u001b[0m\u001b[1;33m\u001b[0m\u001b[1;33m\u001b[0m\u001b[0m\n\u001b[0m",
      "\u001b[1;31mValueError\u001b[0m: could not convert string to float: 'A'"
     ]
    }
   ],
   "source": [
    "int(float(input(\"A: \")))"
   ]
  },
  {
   "cell_type": "markdown",
   "metadata": {},
   "source": [
    "### "
   ]
  }
 ],
 "metadata": {
  "kernelspec": {
   "display_name": "Python 3",
   "language": "python",
   "name": "python3"
  },
  "language_info": {
   "codemirror_mode": {
    "name": "ipython",
    "version": 3
   },
   "file_extension": ".py",
   "mimetype": "text/x-python",
   "name": "python",
   "nbconvert_exporter": "python",
   "pygments_lexer": "ipython3",
   "version": "3.7.4"
  }
 },
 "nbformat": 4,
 "nbformat_minor": 2
}
