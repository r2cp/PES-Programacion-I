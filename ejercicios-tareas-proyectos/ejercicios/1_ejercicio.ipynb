{
 "cells": [
  {
   "cell_type": "markdown",
   "metadata": {},
   "source": [
    "# Ejercicio en clase # 1\n",
    "**Programación I**"
   ]
  },
  {
   "cell_type": "markdown",
   "metadata": {},
   "source": [
    "## Ejercicio 1\n",
    "\n",
    "Utilizando la función ``type()``, determine el tipo de objeto. Haga las asignaciones de variables necesarias. \n",
    "\n",
    "1. ``a=10``\n",
    "2. ``b='Mi primer ejercicio'``\n",
    "3. ``c=a*b``\n",
    "4. ``d=a/3``\n",
    "5. ``e=str(type(10))[-5:-2]=='int'``"
   ]
  },
  {
   "cell_type": "markdown",
   "metadata": {},
   "source": [
    "## Ejercicio 2\n",
    "\n",
    "Verifique que el resultado de la siguiente operación es 8. Escriba la operación en Python sin utilizar paréntesis. \n",
    "$$\n",
    "6(3) - \\dfrac{8}{4} - 4(2)\n",
    "$$"
   ]
  },
  {
   "cell_type": "markdown",
   "metadata": {},
   "source": [
    "## Ejercicio 3\n",
    "\n",
    "Si ``a=28``,``b=45`` y ``h=53``\n",
    "1. Verifique que los tres números conforman una terna pitagórica. Asigne los valores en Phyton y verifique utilizando una expresió lógica.\n",
    "2. Reutilice los nombres de las variables y la expresión lógica para determiar si $(33, 56, 64)$ es una terna pitagórica.\n"
   ]
  },
  {
   "cell_type": "markdown",
   "metadata": {},
   "source": [
    "## Ejercicio 4\n",
    "\n",
    "Traduzca las siguientes expresiones lógicas y verifique su resultado, siendo ``A=0`` y ``B=1``. \n",
    "\n",
    "1. $A \\land B$\n",
    "2. $A \\lor B$\n",
    "3. $\\neg A$\n",
    "4. $(\\neg A \\lor B) \\lor A$"
   ]
  }
 ],
 "metadata": {
  "kernelspec": {
   "display_name": "Python 3",
   "language": "python",
   "name": "python3"
  },
  "language_info": {
   "codemirror_mode": {
    "name": "ipython",
    "version": 3
   },
   "file_extension": ".py",
   "mimetype": "text/x-python",
   "name": "python",
   "nbconvert_exporter": "python",
   "pygments_lexer": "ipython3",
   "version": "3.7.4"
  }
 },
 "nbformat": 4,
 "nbformat_minor": 2
}
