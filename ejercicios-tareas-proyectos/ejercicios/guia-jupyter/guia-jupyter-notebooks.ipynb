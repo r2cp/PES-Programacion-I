{
 "cells": [
  {
   "cell_type": "markdown",
   "metadata": {
    "slideshow": {
     "slide_type": "slide"
    }
   },
   "source": [
    "# Cuadernos de Jupyter"
   ]
  },
  {
   "cell_type": "markdown",
   "metadata": {
    "slideshow": {
     "slide_type": "slide"
    }
   },
   "source": [
    "## ¿Qué son los  cuadernos de Jupyter?\n",
    "\n",
    "Los cuadernos de Jupyter son documentos producidos por la aplicación de Jupyter, los cuales contienen tanto código (Python) así como explicaciones en forma de texto (pueden ser párrafos, ecuaciones, figuras, etc…). **Con los cuadernos se pretende generar documentos que contengan explicaciones legibles y que puedan ser ejecutados bajo un lenguaje de programación.**"
   ]
  },
  {
   "cell_type": "markdown",
   "metadata": {
    "slideshow": {
     "slide_type": "slide"
    }
   },
   "source": [
    "## Características principales\n",
    "\n",
    "* Edición de código desde el navegador. Posee resaltado automático, identado y autocompletado (tab).\n",
    "* Al ejecutar el código, el resultado se anexa al mismo. \n",
    "* Puede mostrar el resultado computado en formatos HTML, LaTeX, PNG, SVG. Por ejemplo, se incluyen imágenes de la librería `matplotlib` con una alta calidad. \n"
   ]
  },
  {
   "cell_type": "code",
   "execution_count": 12,
   "metadata": {
    "slideshow": {
     "slide_type": "subslide"
    }
   },
   "outputs": [
    {
     "name": "stdout",
     "output_type": "stream",
     "text": [
      "Hola Mundo\n"
     ]
    }
   ],
   "source": [
    "# El primer programa\n",
    "print('Hola Mundo')"
   ]
  },
  {
   "cell_type": "code",
   "execution_count": 13,
   "metadata": {
    "scrolled": true,
    "slideshow": {
     "slide_type": "subslide"
    }
   },
   "outputs": [
    {
     "data": {
      "image/png": "[encoded data removed]",
      "text/plain": [
       "<Figure size 432x288 with 1 Axes>"
      ]
     },
     "metadata": {
      "needs_background": "light"
     },
     "output_type": "display_data"
    }
   ],
   "source": [
    "# Graficar una función cuadrática\n",
    "import matplotlib\n",
    "import matplotlib.pyplot as plt\n",
    "import numpy as np\n",
    "\n",
    "# Datos para graficar\n",
    "x = np.arange(0.0, 2.0, 0.01)\n",
    "y = x**2\n",
    "\n",
    "fig, ax = plt.subplots()\n",
    "ax.plot(x, y)\n",
    "\n",
    "ax.set(xlabel='Eje horizontal (x)', ylabel='Eje vertical (y)',\n",
    "       title='Un gráfico simple')\n",
    "ax.grid()\n",
    "\n",
    "fig.savefig(\"test-plot.png\")\n",
    "plt.show()"
   ]
  },
  {
   "cell_type": "markdown",
   "metadata": {
    "slideshow": {
     "slide_type": "slide"
    }
   },
   "source": [
    "* La edición en el navegador para texto enriquecido utilizando el lenguaje de marcado `Markdown`, que puede proporcionar comentarios para el código. No se limita al texto sin formato.\n",
    "    >Esta celda fue formateada usando `markdown`.\n",
    "* Se pueden incluir ecuacioens con la notación matemática, dentro de una celda, utilizando el lenguaje de $\\LaTeX$. "
   ]
  },
  {
   "cell_type": "markdown",
   "metadata": {
    "slideshow": {
     "slide_type": "subslide"
    }
   },
   "source": [
    "Algunas ecuaciones escritas con $\\LaTeX$:\n",
    "\n",
    "\\begin{eqnarray}\n",
    "f(x) &=& x^{2}\\\\  \n",
    "f'(x) &=& \\dfrac{df(x)}{dx} = 2x\\\\\n",
    "F(x) &=& \\int x^2dx = \\frac{1}{3}x^3 + C\n",
    "\\end{eqnarray}\n",
    "\n",
    "Si se desea ingresar ecuanciones o símbolos dentro de una línea, se rodean con el símbolo `$` (ejemplo: $\\alpha$). Si se desea colocar una ecuación centrada fuera de una línea, se encierra con los símbolos `$$`.\n",
    "\n",
    "$$ \n",
    "u(x_1,x_2) = ax_1^{\\alpha}x_2^{1 - \\alpha}\n",
    "$$"
   ]
  },
  {
   "cell_type": "markdown",
   "metadata": {
    "slideshow": {
     "slide_type": "slide"
    }
   },
   "source": [
    "## Atajos de teclado básicos (Jupyter)\n",
    "\n",
    "Los atajos de jupiter se dividen en **Command Mode** y **Edit Mode**\n",
    "\n",
    "### Atajos de Command Mode (se activan con `Esc`)\n",
    "\n",
    "* `Enter` Para editar una celda\n",
    "* `Shift-Enter`Correr una celda y seleccionar la celda siguiente. \n",
    "* `M` Cambiar al modo de edición de Markdown\n",
    "* `A` Insertar una celda arriba\n",
    "* `B` Insertar una celda abajo\n",
    "* `Z` Recuperar la última celda eliminada\n",
    "* `D,D` Eliminar la celda seleccioanda\n",
    "* `S` Guardar\n",
    "* `I,I` Interrumpir el Kernel\n",
    "* `0,0` Reiniciar el Kernel"
   ]
  },
  {
   "cell_type": "markdown",
   "metadata": {
    "slideshow": {
     "slide_type": "subslide"
    }
   },
   "source": [
    "### Atajos de Command Mode (se activan con `Enter`)\n",
    "\n",
    "* `Ctrl-Enter` Ejecutar la celda seleccionada\n",
    "* `Shift-Enter` Ejecutar celda y añadir una nueva abajo\n",
    "* `Ctrl-S` Guardar\n",
    "* `Ctrl-Z` Deshacer\n",
    "* `Tab` Autocompletado o identado\n",
    "* `Ctrl-]` Ident\n",
    "* `Ctrl-[` Dedent\n"
   ]
  },
  {
   "cell_type": "markdown",
   "metadata": {
    "slideshow": {
     "slide_type": "slide"
    }
   },
   "source": [
    "## Opciones de formato (Markdown)\n",
    "\n",
    "Debemos estar en el modo de edición `Markdown` dentro de una celda. \n",
    "\n",
    "### Encabezados \n",
    "\n",
    "``# Título1``  \n",
    "``## Título2``  \n",
    "``### Título3``  \n",
    "``#### Título4``  \n",
    "``##### Título5``  \n",
    "``###### Título6``  \n",
    "\n",
    "# Título1  \n",
    "## Título2  \n",
    "### Título3  \n",
    "#### Título4  \n",
    "##### Título5  \n",
    "###### Título6"
   ]
  },
  {
   "cell_type": "markdown",
   "metadata": {
    "slideshow": {
     "slide_type": "subslide"
    }
   },
   "source": [
    "### Párrafos \n",
    "\n",
    "Se escribe directamente en el modo `Markdown`. Para introducir un Line Break, debe dejar dos espacios en blanco al finalizar la línea  `  `.  \n",
    "Tal como se hizo en esta celda. \n",
    "\n",
    "### Énfasis\n",
    "* Encerrado entre `**` - **Negrita**\n",
    "* Encerrado entre `*` - *Itálica*\n",
    "* Encerrada entre `***` - ***Negrita e itálica***\n",
    "\n"
   ]
  },
  {
   "cell_type": "markdown",
   "metadata": {
    "slideshow": {
     "slide_type": "subslide"
    }
   },
   "source": [
    "### Bloques resaltados\n",
    "\n",
    "Los bloques pueden contener múltipes párrafos o símbolos. Para insertar un bloque, se inicia la línea con el símbolo ``>``. Los bloques se puede anidar. \n",
    "\n",
    "> Este es un bloque. \n",
    ">> Este es un bloque anidado. \n",
    ">>> Se pueden colocar otro tipo de elementos dentro de los bloques:  \n",
    "$f(x) = x^2$\n"
   ]
  },
  {
   "cell_type": "markdown",
   "metadata": {
    "slideshow": {
     "slide_type": "subslide"
    }
   },
   "source": [
    "### Listas ordenadas y no ordenadas\n",
    "\n",
    "``* item 1``   \n",
    "``* item 2``  \n",
    "(Tab)``- itme 2.1``\n",
    "* item 1\n",
    "* item 2\n",
    "    - item 2.1\n",
    "    \n",
    "``1. item 1``   \n",
    "``8. item 2`` (El 8 hace referencia a que, en modo lista, se numera desde el primer elemento)  \n",
    "(Tab)``1. itme 2.1`` \n",
    "    \n",
    "1. item 1\n",
    "8. item 2\n",
    " 1. Imtem 2.1"
   ]
  },
  {
   "cell_type": "markdown",
   "metadata": {
    "slideshow": {
     "slide_type": "subslide"
    }
   },
   "source": [
    "### Otros elementos\n",
    " \n",
    " Si queremos colocar un URL en dentro de una línea, lo encerramos entre `<` y `>`, por ejemplo <https://www.markdownguide.org/basic-syntax/>.\n",
    " \n",
    "Si queremos que muestre un nombre otro elemento en lugar de la dirección, utilizamos la siguiente sintaxis `[Guía de formato de Markdown](https://www.markdownguide.org/basic-syntax/)`[Guía de formato de Markdown](https://www.markdownguide.org/basic-syntax/).\n",
    "\n",
    "Se pueden colocar imágenes utiliziando la siguiente sintaxis `!(Título)[imagen.formato]` (En este caso, la imagen está guardada dentro de la misma carpeta que el cuaderno).\n",
    "\n",
    "![jupyter-python](jupyter-python.PNG)\n",
    "\n"
   ]
  },
  {
   "cell_type": "code",
   "execution_count": null,
   "metadata": {},
   "outputs": [],
   "source": []
  }
 ],
 "metadata": {
  "celltoolbar": "Slideshow",
  "kernelspec": {
   "display_name": "Python 3",
   "language": "python",
   "name": "python3"
  },
  "language_info": {
   "codemirror_mode": {
    "name": "ipython",
    "version": 3
   },
   "file_extension": ".py",
   "mimetype": "text/x-python",
   "name": "python",
   "nbconvert_exporter": "python",
   "pygments_lexer": "ipython3",
   "version": "3.7.4"
  }
 },
 "nbformat": 4,
 "nbformat_minor": 2
}
