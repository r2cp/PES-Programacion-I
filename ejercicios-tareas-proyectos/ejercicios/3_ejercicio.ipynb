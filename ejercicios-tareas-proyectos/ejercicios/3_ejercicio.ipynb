{
 "cells": [
  {
   "cell_type": "markdown",
   "metadata": {},
   "source": [
    "# Ejercicio en clase # 3\n",
    "**Programación I**"
   ]
  },
  {
   "cell_type": "markdown",
   "metadata": {},
   "source": [
    "## Ejercicio 0 \n",
    "\n",
    "Escriba un programa que encuentre todos los números primos entre 2 y el número ingresado por el usuario. "
   ]
  },
  {
   "cell_type": "markdown",
   "metadata": {},
   "source": [
    "### Solución para los **malos programadores**"
   ]
  },
  {
   "cell_type": "code",
   "execution_count": 25,
   "metadata": {},
   "outputs": [
    {
     "name": "stdout",
     "output_type": "stream",
     "text": [
      "Ingresa un número: 15\n",
      "2\n",
      "3\n",
      "5\n",
      "7\n",
      "11\n",
      "13\n"
     ]
    }
   ],
   "source": [
    "# Código completo, horrible,\n",
    "# MALOS PROGRAMADORES = el código no es legible fácilmente para cualquiera\n",
    "\n",
    "x = int(input(\"Ingresa un número: \"))\n",
    "\n",
    "for i in range(2, x+1):\n",
    "    esPrimo = True\n",
    "    for j in range(2, i):\n",
    "        if i % j == 0:\n",
    "            esPrimo = False\n",
    "    if esPrimo:\n",
    "        print(i)"
   ]
  },
  {
   "cell_type": "markdown",
   "metadata": {},
   "source": [
    "***"
   ]
  },
  {
   "cell_type": "markdown",
   "metadata": {},
   "source": [
    "### Solución para buenos programadores"
   ]
  },
  {
   "cell_type": "code",
   "execution_count": 26,
   "metadata": {},
   "outputs": [],
   "source": [
    "def esPrimo(n):\n",
    "    \"\"\" Revisa si los números de 2 a n-1 son divisibles por n.\n",
    "        Asume que n >= 2.\n",
    "        \n",
    "        Empieza con esPrimo = True, luego revisa cada número y \n",
    "        si alguno es divisible por n, esPrimo se vuelve False.\n",
    "    \"\"\"\n",
    "    esPrimo = True\n",
    "    for i in range(2, n):\n",
    "        if n % i == 0:\n",
    "            esPrimo = False\n",
    "    return esPrimo"
   ]
  },
  {
   "cell_type": "code",
   "execution_count": 28,
   "metadata": {},
   "outputs": [
    {
     "data": {
      "text/plain": [
       "True"
      ]
     },
     "execution_count": 28,
     "metadata": {},
     "output_type": "execute_result"
    }
   ],
   "source": [
    "esPrimo(7)"
   ]
  },
  {
   "cell_type": "code",
   "execution_count": 29,
   "metadata": {},
   "outputs": [],
   "source": [
    "def esPrimo(n):\n",
    "    \"\"\" Revisa si los números de 2 a n-1 son divisibles por n.\n",
    "        Asume que n >= 2.\n",
    "        \n",
    "        Empieza con esPrimo = True, luego revisa cada número y \n",
    "        si alguno es divisible por n, esPrimo se vuelve False.\n",
    "    \"\"\"\n",
    "    for i in range(2, n):\n",
    "        if n % i == 0:\n",
    "            return False\n",
    "    return True"
   ]
  },
  {
   "cell_type": "code",
   "execution_count": 15,
   "metadata": {},
   "outputs": [
    {
     "name": "stdout",
     "output_type": "stream",
     "text": [
      "Ingresa un número: 11\n",
      "2\n",
      "3\n",
      "5\n",
      "7\n",
      "11\n"
     ]
    }
   ],
   "source": [
    "# Escriba su código en esta celda\n",
    "# BUENOS PROGRAMADORES = el código es modular, está comentado\n",
    "x = int(input(\"Ingresa un número: \"))\n",
    "\n",
    "# Revisamos cada número de 1 a x (el número ingresado)\n",
    "for i in range(2, x+1):\n",
    "    # Revisamos que cada número es primo\n",
    "    if esPrimo(i):\n",
    "        print(i)\n"
   ]
  },
  {
   "cell_type": "markdown",
   "metadata": {},
   "source": [
    "## Ejercicio 1\n",
    "\n",
    "Escriba una función que compruebe si una cadena es palíndroma. "
   ]
  },
  {
   "cell_type": "code",
   "execution_count": 17,
   "metadata": {},
   "outputs": [],
   "source": [
    "# Escriba su código en esta celda\n",
    "def esPalindromo(s):\n",
    "    # Solución con indexado negativo para invertir\n",
    "    return s == s[::-1]"
   ]
  },
  {
   "cell_type": "code",
   "execution_count": 19,
   "metadata": {},
   "outputs": [
    {
     "data": {
      "text/plain": [
       "True"
      ]
     },
     "execution_count": 19,
     "metadata": {},
     "output_type": "execute_result"
    }
   ],
   "source": [
    "esPalindromo(\"ana\")"
   ]
  },
  {
   "cell_type": "code",
   "execution_count": 20,
   "metadata": {},
   "outputs": [
    {
     "data": {
      "text/plain": [
       "False"
      ]
     },
     "execution_count": 20,
     "metadata": {},
     "output_type": "execute_result"
    }
   ],
   "source": [
    "esPalindromo(\"mayordomo\")"
   ]
  },
  {
   "cell_type": "code",
   "execution_count": 30,
   "metadata": {},
   "outputs": [
    {
     "data": {
      "text/plain": [
       "11"
      ]
     },
     "execution_count": 30,
     "metadata": {},
     "output_type": "execute_result"
    }
   ],
   "source": [
    "s = \"Hola amigos\"\n",
    "len(s)"
   ]
  },
  {
   "cell_type": "code",
   "execution_count": 32,
   "metadata": {},
   "outputs": [
    {
     "data": {
      "text/plain": [
       "'HOLA AMIGOS'"
      ]
     },
     "execution_count": 32,
     "metadata": {},
     "output_type": "execute_result"
    }
   ],
   "source": [
    "s.upper()"
   ]
  },
  {
   "cell_type": "code",
   "execution_count": 33,
   "metadata": {},
   "outputs": [
    {
     "data": {
      "text/plain": [
       "'Holaamigos'"
      ]
     },
     "execution_count": 33,
     "metadata": {},
     "output_type": "execute_result"
    }
   ],
   "source": [
    "s.replace(\" \", \"\")"
   ]
  },
  {
   "cell_type": "code",
   "execution_count": 31,
   "metadata": {},
   "outputs": [
    {
     "data": {
      "text/plain": [
       "'hola amigos'"
      ]
     },
     "execution_count": 31,
     "metadata": {},
     "output_type": "execute_result"
    }
   ],
   "source": [
    "s.lower()"
   ]
  },
  {
   "cell_type": "markdown",
   "metadata": {},
   "source": [
    "## Ejercicio 2\n",
    "\n",
    "1. Escriba una función que calcule la media de números enteros. La cadena debe ser, por ejemplo: ``'145279321'``. \n",
    "2. Escriba un programa que solicite cadenas de números e imprima la media de los elementos. "
   ]
  },
  {
   "cell_type": "code",
   "execution_count": 23,
   "metadata": {},
   "outputs": [],
   "source": [
    "# Escriba su código en esta celda\n",
    "def media(s):\n",
    "    \"\"\"\n",
    "    s : la cadena con dígitos\n",
    "    \"\"\"\n",
    "    suma = 0\n",
    "    \n",
    "    for digito in s:\n",
    "        suma += int(digito)\n",
    "        \n",
    "    return suma/len(s)"
   ]
  },
  {
   "cell_type": "code",
   "execution_count": 24,
   "metadata": {},
   "outputs": [
    {
     "data": {
      "text/plain": [
       "4.111111111111111"
      ]
     },
     "execution_count": 24,
     "metadata": {},
     "output_type": "execute_result"
    }
   ],
   "source": [
    "media('123154678')"
   ]
  },
  {
   "cell_type": "markdown",
   "metadata": {},
   "source": [
    "## Ejercicio 3\n",
    "1. Escriba una función que evalúe un número en $f(x) = \\dfrac{1}{x}$.\n",
    "2. Evalúe la función que  creó en -2, 0 y 2.\n",
    "3. Modifique la función para que imprima una alerta si se intenta evaluar en 0. \n",
    "4. Modifique la función para que, si se ingresa algo no numérico, la función se detenga. \n"
   ]
  },
  {
   "cell_type": "code",
   "execution_count": null,
   "metadata": {},
   "outputs": [],
   "source": [
    "# Escriba su código en esta celda"
   ]
  }
 ],
 "metadata": {
  "kernelspec": {
   "display_name": "Python 3",
   "language": "python",
   "name": "python3"
  },
  "language_info": {
   "codemirror_mode": {
    "name": "ipython",
    "version": 3
   },
   "file_extension": ".py",
   "mimetype": "text/x-python",
   "name": "python",
   "nbconvert_exporter": "python",
   "pygments_lexer": "ipython3",
   "version": "3.7.4"
  }
 },
 "nbformat": 4,
 "nbformat_minor": 2
}
