{
 "cells": [
  {
   "cell_type": "markdown",
   "metadata": {},
   "source": [
    "# Ejercicios día 4\n",
    "**Programación I**"
   ]
  },
  {
   "cell_type": "markdown",
   "metadata": {},
   "source": [
    "## Ejercicio 0\n",
    "\n",
    "0. Escriba una función que cree una tupla rellena de ceros y que la longitud sea un argumento de la función. \n",
    "1. Modifique la función anterior para que el elemento con el que se rellenará la tupla, sea parte del argumento. \n",
    "2. Modifique la función para que se pueda elegir si crear una tupla o una lista. "
   ]
  },
  {
   "cell_type": "markdown",
   "metadata": {},
   "source": [
    "## Ejercicio 1\n",
    "\n",
    "Escriba una función que cree una lista de longitud $J$, en donde sus elementos sean listas de longitud $I$ rellenas con el mismo elemento. Utilice la función creada en el *Ejercicio 0* . "
   ]
  },
  {
   "cell_type": "markdown",
   "metadata": {},
   "source": [
    "## Ejercicio 2\n",
    "\n",
    "Sean las funciones: \n",
    "$$f(x,y) = 2x + 3y +5$$ \n",
    "y \n",
    "$$g(h) = h^2$$ \n",
    "\n",
    "0. Definas las funciones $f(x,y)$ y $g(h)$ (como funciones anónimas).\n",
    "1. Cree una función llamada *composición*, que reciba como argumentos las funciones anteriores y los argumentos necesarios para que regrese $g(f(x,y))$.\n",
    "2. Cree una *tupla* que contenga 10 números para $x$, y una *lista* que contenga 10 números para $y$.\n",
    "3. Por medio de loops (utilice tanto *while* como *for*), evalúe el producto cartesiano entre $x$ y $y$ en la función compuesta creada en el numeral 1. Imprima los números evaluados y su respectivo resultado. \n",
    "\n",
    "\n"
   ]
  }
 ],
 "metadata": {
  "kernelspec": {
   "display_name": "Python 3",
   "language": "python",
   "name": "python3"
  },
  "language_info": {
   "codemirror_mode": {
    "name": "ipython",
    "version": 3
   },
   "file_extension": ".py",
   "mimetype": "text/x-python",
   "name": "python",
   "nbconvert_exporter": "python",
   "pygments_lexer": "ipython3",
   "version": "3.7.4"
  }
 },
 "nbformat": 4,
 "nbformat_minor": 2
}
