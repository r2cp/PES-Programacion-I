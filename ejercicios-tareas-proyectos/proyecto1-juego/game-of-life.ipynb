{
 "cells": [
  {
   "cell_type": "markdown",
   "metadata": {},
   "source": [
    "# Proyecto 0: el juego de la vida de Conway"
   ]
  },
  {
   "cell_type": "markdown",
   "metadata": {},
   "source": [
    "**Banco de Guatemala**  \n",
    "**Maestría en Economía y Finanzas Aplicadas**  \n",
    "**Pogramación I**  \n",
    "**Profesor: Rodrigo Chang**  \n",
    "**Profesor auxiliar: Mauricio Vargas**  \n",
    "**Fecha: Enero 2020**"
   ]
  },
  {
   "cell_type": "markdown",
   "metadata": {},
   "source": [
    "El siguiente proyecto tiene como finalidad de que ejercite los siguientes puntos:\n",
    "\n",
    "1. Asignación de variables\n",
    "2. Manejo de diferentes tipos de objetos\n",
    "3. Condiciones\n",
    "4. Loops\n",
    "5. Lectura e impresión de archivos\n",
    "6. Impresión de resultados en consola\n"
   ]
  },
  {
   "cell_type": "markdown",
   "metadata": {},
   "source": [
    "## ¿Qué es el juego de la vida de Conway?"
   ]
  },
  {
   "cell_type": "markdown",
   "metadata": {},
   "source": [
    "El siguiente vídeo da las intuiciones generales\n",
    "\n",
    "<https://www.youtube.com/watch?v=OWXD_wJxCKQ>\n",
    "\n",
    "Se trata de un juego de cero jugadores, lo que quiere decir que su evolución está determinada por el estado inicial y no necesita ninguna entrada de datos posterior. El \"tablero de juego\" es una malla plana formada por cuadrados (las \"células\") que se extiende por el infinito en todas las direcciones. Por tanto, cada célula tiene 8 células \"vecinas\", que son las que están próximas a ella, incluidas las diagonales. Las células tienen dos estados: están \"vivas\" o \"muertas\" (o \"encendidas\" y \"apagadas\"). El estado de las células evoluciona a lo largo de unidades de tiempo discretas (se podría decir que estos corresponden a los turnos). El estado de todas las células se tiene en cuenta para calcular el estado de las mismas al turno siguiente. Todas las células se actualizan simultáneamente en cada turno, siguiendo estas reglas:\n",
    "\n",
    "* **Una célula muerta con exactamente 3 células vecinas vivas \"nace\" (es decir, al turno siguiente estará viva).**\n",
    "* **Una célula viva con 2 o 3 células vecinas vivas sigue viva, en otro caso muere (por \"soledad\" o \"superpoblación\").**\n",
    "\n",
    "![Ejemplo de aplicación de Reglas en el Juego de la Vida](a1.JPG)\n",
    "*Ejemplo de implementación de reglas en el Juego de la Vida*"
   ]
  },
  {
   "cell_type": "markdown",
   "metadata": {},
   "source": [
    "## Primera parte: el juego de la vida"
   ]
  },
  {
   "cell_type": "markdown",
   "metadata": {},
   "source": [
    "Se solicita que programe el *Juego de la Vida* en *Python* sigiendo los siguientes lineamientos:\n",
    "\n",
    "* Se deben introducir las condiciones iniciales por medio de un archivo de texto.(Adjunto un archivo de prueba que se utilizará como estándar. \n",
    "    - Dimensión en $x$ y $y$ de la cuadrícula total (matriz).\n",
    "    - Cantidad de periodos $T$ a jugar.\n",
    "    - Las siguientes líneas corresponden a las coordenadas $(x,y)$ de las casillas vivas en el tiempo cero ($t_0 = 0$)\n",
    "\n",
    "\n",
    "* El programa debe correr en consola, solicitando la dirección del archivo de texto con las condiciones iniciales. Por ejemplo, para llamar al programa debe ejecutarse en la terminal: \n",
    "\n",
    "`>python.exe nombre_apellido.py` \n",
    "\n",
    "\n",
    "* El programa debe generar un archivo tipo *.csv* que contendrá la cantidad total de casillas vivas para cada tiempo $t$. La primera fila debe contener el encabezado.\n",
    "    + El nombre del archivo debe seguir el siguiente formato: *nombre_apellido.csv*\n",
    "\n",
    "|Tiempo|Población|\n",
    "|:------:|:---------:|\n",
    "|$0$|$P_0$|\n",
    "|$\\vdots$|$\\vdots$|\n",
    "    |$T$|$P_T$|\n",
    "    \n",
    " * Finalmente, el programa debe imprimir una matrix en donde, si la casilla está viva, se coloca un `*`, de lo contrario se deja un espacio en blanco ` `. Esto debe realizarse por cada periodo jugado (de $0$ a $T$). Dichas impresiones deben realizarse de un modo secuencial siguiendo los siguientes pasos:\n",
    "    1. Imprimir la matrix\n",
    "    2. Limpiar la vista en la consola\n",
    "    3. Crear un tiempo de espera (*delay*)\n",
    "    4. Imprime la siguiente matrix\n",
    "    \n",
    " Esto con el fin de dar el efecto de animación en consola.\n",
    " \n",
    " **Debe entregar un script `.py` nombrado con el siguiente formato:** `nombre_apellido.py`\n"
   ]
  },
  {
   "cell_type": "markdown",
   "metadata": {},
   "source": [
    "### Rúbrica de evaluación"
   ]
  },
  {
   "cell_type": "markdown",
   "metadata": {},
   "source": [
    "|Aspecto a evaluar|Punteo|\n",
    "|:---------------:|:----:|\n",
    "|Archivo *.csv*|10|\n",
    "|Lectura de archivo de texto|10|\n",
    "|Impresión de matrix|10|\n",
    "|Animación|10|\n",
    "|Correcta implementación de reglas|60|\n",
    "|**Total**|**100**|\n"
   ]
  },
  {
   "cell_type": "markdown",
   "metadata": {},
   "source": [
    "## Segunda parte: modelo de influencia (*30 puntos extra*)"
   ]
  },
  {
   "cell_type": "markdown",
   "metadata": {},
   "source": [
    "En un salón de clase se discute el resultado de la contienda entre Ernest “Iron” Bran y Esduin “3Kiebres” Javier. La opinión está dividida y todos los alumnos discuten entre sí para convencer a sus compañeros que su elección de púgil victorioso es la mejor. El catedrático nota que, si alrededor de un estudiante se sientan más de cuatro compañeros con preferencias contrarias, el estudiante cambia su preferencia.   \n",
    "\n",
    "En el salón hay 100 alumnos sentados en 10 filas. El periodo de clase tiene una duración de 50 minutos y el catedrático asume que un alumno es capaz de cambiar de preferencia cada 5 minutos de discusión. \n",
    "\n",
    "Debe modelar el salón de clase como un juego de la vida. La rúbrica es la misma y debe generar un archivo de salida *.csv* nombrado como *nombre_apellido_bran3k.csv*. \n",
    "\n",
    "\n",
    "Para entregarlo tiene las siguientes opciones: \n",
    "\n",
    "1. Se solicita que adapte el programa original para recibir argumentos de la línea de comandos utilizando el paquete `sys`. Esta funcionalidad se debe ejecutar con la opción `--modelo-influencia` al ejecutar el programa. Por ejemplo: \n",
    "\n",
    "`>python.exe nombre_apellido.py --modelo-influencia` \n",
    "\n",
    "2. Crear un nuevo *script* `.py` nombrado con el siguiente formato: `nombre_apellido_2.py`\n",
    "\n",
    "\n"
   ]
  }
 ],
 "metadata": {
  "kernelspec": {
   "display_name": "Python 3",
   "language": "python",
   "name": "python3"
  },
  "language_info": {
   "codemirror_mode": {
    "name": "ipython",
    "version": 3
   },
   "file_extension": ".py",
   "mimetype": "text/x-python",
   "name": "python",
   "nbconvert_exporter": "python",
   "pygments_lexer": "ipython3",
   "version": "3.7.4"
  }
 },
 "nbformat": 4,
 "nbformat_minor": 2
}
