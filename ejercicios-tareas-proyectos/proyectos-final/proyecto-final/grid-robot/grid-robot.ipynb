{
 "cells": [
  {
   "cell_type": "markdown",
   "metadata": {},
   "source": [
    "### Programa de Estudios Superiores 2019-2020\n",
    "### Programación I - proyecto final\n",
    "#### Elaborado por <span class=\"alert alert-info\"> ***Inserta tu nombre en este espacio*** </span><br>\n",
    "***\n",
    "***Instrucciones generales:*** resuelve el siguiente problema de acuerdo a la especificación dada. \n",
    "- El código debe ir comentado para explicar la lógica y debe ser totalmente funcional para ser considerado correcto. De lo contrario, la calificación podrá ser subjetiva.\n",
    "- Al final de la definición de la clase, obtenga una instancia y muestra que el objeto se comporta de acuerdo a las especificaciones deseadas, para poder calificarte más rápidamente.\n",
    "***"
   ]
  },
  {
   "attachments": {
    "grid-robot.png": {
     "image/png": "[encoded data removed]"
    }
   },
   "cell_type": "markdown",
   "metadata": {},
   "source": [
    "# *Drunken robot*\n",
    "\n",
    "Considere un robot que sigue una caminata aleatoria dentro de una cuadícula unidimensional, como se muestra a continuación. En cada período, el robot se mueve aleatoriamente hacia la izquierda o hacia la derecha (siempre y cuando sea posible), para ocupar una casilla diferente. Cuando el robot ocupa una casilla, esta casilla se marca de color amarillo.  \n",
    "\n",
    "![grid-robot.png](attachment:grid-robot.png)\n",
    "\n",
    "Un amigo suyo, economista, cree que este proceso estocástico puede ayudarle a entender un problema de reversión a la media de una serie de tiempo con la que está teniendo problemas recientemente, por lo que le interesa el problema de este robot. Para esto, su amigo necesita entender cuántos períodos le puede tomar a este robot marcar toda la cuadrícula de color amarillo. Entonces, le ha pedido ayuda a usted para que le ayude con algunas simulaciones.\n",
    "\n",
    "Usted ha llevado recientemente un curso de programación y pretende resolver este problema a través de la implementación de una clase de Python. \n",
    "\n",
    "## Descripción de la clase\n",
    "\n",
    "Usted va a implementar la simulación a través de la clase `DrunkenRobot` de la siguiente forma:\n",
    "\n",
    "- Al crear un objeto de esta clase, el constructor debe recibir la cantidad $n$ de casillas para crear la cuadrícula y posicionará al robot en una de estas casillas de forma aleatoria.\n",
    "\n",
    "Además, deberá implementar los siguientes métodos:\n",
    "\n",
    "- Método `takeStep` que lleve a cabo un paso del robot y marque la nueva casilla como visitada. El robot debe llevar un registro de todos los pasos que ha tomado y en qué período lo ha hecho.\n",
    "\n",
    "- `conquerAll` que utilice el método `takeStep` para mover el robot hasta visitar toda la cuadrícula.\n",
    "\n",
    "- `plotSteps` que haga una gráfica de la posición del robot (número de casilla) en cada período. Debe llamarse posterior a la ejecución de `conquerAll`.\n",
    "    - Deberá agregar una opción booleana `savePlot` para escoger si guardar la gráfica en un formato de alta calidad.\n",
    "\n",
    "- `getTrajectory` que devolverá un `DataFrame` de pandas con la posición del robot en cada período. Debe llamarse posterior a la ejecución de `conquerAll`.\n",
    "\n",
    "- **Extra**: `getCumulativeTrajectory` que devolverá un `DataFrame` de pandas con el número de casillas visitadas en cada período."
   ]
  },
  {
   "cell_type": "markdown",
   "metadata": {},
   "source": [
    "<div class=\"alert alert-info\">\n",
    "<b>Importe los paquetes que sean necesarios</b>: <br>\n",
    "\n",
    "\n",
    "</div>"
   ]
  },
  {
   "cell_type": "code",
   "execution_count": null,
   "metadata": {},
   "outputs": [],
   "source": [
    "import numpy as np\n",
    "import matplotlib\n",
    "import matplotlib.pyplot as plt\n",
    "import pandas as pd"
   ]
  },
  {
   "cell_type": "markdown",
   "metadata": {},
   "source": [
    "<div class=\"alert alert-info\">\n",
    "<b>Escriba su código en la celda siguiente</b>: <br>\n",
    "\n",
    "\n",
    "</div>"
   ]
  },
  {
   "cell_type": "code",
   "execution_count": 4,
   "metadata": {},
   "outputs": [],
   "source": [
    "class DrunkenRobot:\n",
    "    ''' \n",
    "        Recibe la cantidad de casillas n de la cuadrícula y \n",
    "        posiciona aleatoriamente al robot.\n",
    "    '''\n",
    "    def __init__(self, n):\n",
    "        pass\n",
    "    \n",
    "    '''\n",
    "        Lleva a cabo un paso del robot y marca la nueva casilla \n",
    "        como visitada. El robot debe llevar un registro de todos\n",
    "        los pasos que ha tomado y en qué período lo ha hecho.\n",
    "    '''\n",
    "    def takeStep(self):\n",
    "        pass\n",
    "    \n",
    "    '''\n",
    "        Utiliza el método `takeStep` para mover el robot hasta \n",
    "        visitar toda la cuadrícula.\n",
    "    '''\n",
    "    def conquerAll(self):\n",
    "        pass\n",
    "    \n",
    "    '''\n",
    "        Realiza una gráfica de la posición del robot (número de casilla)\n",
    "        en cada período. La opción booleana `savePlot` permite\n",
    "        escoger si guardar la gráfica en un formato de alta calidad.\n",
    "    '''\n",
    "    def plotSteps(self, savePlot=False):\n",
    "        pass\n",
    "    \n",
    "    '''\n",
    "        Devuelve un `DataFrame` de pandas con la posición del \n",
    "        robot en cada período.\n",
    "    '''\n",
    "    def getTrajectory(self):\n",
    "        pass\n",
    "    \n",
    "    '''\n",
    "        EXTRA.\n",
    "        Devuelve un `DataFrame` de pandas con el número de \n",
    "        casillas visitadas en cada período.\n",
    "    '''\n",
    "    def getCumulativeTrajectory(self):\n",
    "        pass"
   ]
  },
  {
   "cell_type": "markdown",
   "metadata": {},
   "source": [
    "***\n",
    "## Área de pruebas personal\n",
    "\n",
    "Utilice el siguiente espacio para llevar a cabo **sus** pruebas.\n"
   ]
  },
  {
   "cell_type": "code",
   "execution_count": null,
   "metadata": {},
   "outputs": [],
   "source": []
  },
  {
   "cell_type": "code",
   "execution_count": null,
   "metadata": {},
   "outputs": [],
   "source": []
  },
  {
   "cell_type": "code",
   "execution_count": null,
   "metadata": {},
   "outputs": [],
   "source": []
  },
  {
   "cell_type": "markdown",
   "metadata": {},
   "source": [
    "***\n",
    "## Área de pruebas para calificación\n",
    "\n",
    "Utilice el siguiente espacio para mostrarnos su implementación terminada."
   ]
  },
  {
   "cell_type": "markdown",
   "metadata": {},
   "source": [
    "<div class=\"alert alert-info\">\n",
    "<b>Pruebe el método \"takeStep\"</b>: <br>\n",
    "</div>"
   ]
  },
  {
   "cell_type": "code",
   "execution_count": null,
   "metadata": {},
   "outputs": [],
   "source": []
  },
  {
   "cell_type": "markdown",
   "metadata": {},
   "source": [
    "<div class=\"alert alert-info\">\n",
    "<b>Pruebe el método \"conquerAll\"</b>: <br>\n",
    "</div>"
   ]
  },
  {
   "cell_type": "code",
   "execution_count": null,
   "metadata": {},
   "outputs": [],
   "source": []
  },
  {
   "cell_type": "markdown",
   "metadata": {},
   "source": [
    "<div class=\"alert alert-info\">\n",
    "<b>Pruebe el método \"plotSteps\"</b>: <br>\n",
    "</div>"
   ]
  },
  {
   "cell_type": "code",
   "execution_count": null,
   "metadata": {},
   "outputs": [],
   "source": []
  },
  {
   "cell_type": "markdown",
   "metadata": {},
   "source": [
    "<div class=\"alert alert-info\">\n",
    "<b>Pruebe el método \"getTrajectory\"</b>: <br>\n",
    "</div>"
   ]
  },
  {
   "cell_type": "code",
   "execution_count": null,
   "metadata": {},
   "outputs": [],
   "source": []
  },
  {
   "cell_type": "markdown",
   "metadata": {},
   "source": [
    "<div class=\"alert alert-info\">\n",
    "<b>Muestre cada uno de los atribujos del objeto utilizado en el ejemplo</b>: <br>\n",
    "</div>"
   ]
  },
  {
   "cell_type": "code",
   "execution_count": null,
   "metadata": {},
   "outputs": [],
   "source": []
  }
 ],
 "metadata": {
  "kernelspec": {
   "display_name": "Python 3",
   "language": "python",
   "name": "python3"
  },
  "language_info": {
   "codemirror_mode": {
    "name": "ipython",
    "version": 3
   },
   "file_extension": ".py",
   "mimetype": "text/x-python",
   "name": "python",
   "nbconvert_exporter": "python",
   "pygments_lexer": "ipython3",
   "version": "3.7.4"
  }
 },
 "nbformat": 4,
 "nbformat_minor": 2
}
