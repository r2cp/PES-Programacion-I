{
 "cells": [
  {
   "cell_type": "markdown",
   "metadata": {},
   "source": [
    "### Programa de Estudios Superiores 2019-2020\n",
    "### Programación I - proyecto final\n",
    "#### Elaborado por <span class=\"alert alert-info\"> ***Inserta tu nombre en este espacio*** </span><br>\n",
    "***\n",
    "***Instrucciones generales:*** resuelve el siguiente problema de acuerdo a la especificación dada. \n",
    "- El código debe ir comentado para explicar la lógica y debe ser totalmente funcional para ser considerado correcto. De lo contrario, la calificación podrá ser subjetiva.\n",
    "- Al final de la definición de la clase, obtenga una instancia y muestra que el objeto se comporta de acuerdo a las especificaciones deseadas, para poder calificarte más rápidamente.\n",
    "***"
   ]
  },
  {
   "attachments": {
    "Leave-One-Out-Cross-Validation.png": {
     "image/png": "[encoded data removed]"
    }
   },
   "cell_type": "markdown",
   "metadata": {},
   "source": [
    "# Estimador de desviación estándar *leave-one-out (LOO)* \n",
    "\n",
    "Considere un conjunto de datos $(x_{1i}, \\ldots, x_{6i})$ y $y_i$, donde $i = 1, \\ldots, n$. A partir de este conjunto, es posible estimar el modelo de regresión lineal:\n",
    "\n",
    "$$ y_i = \\beta_0 + \\beta_1 x_{1i} + \\beta_2 x_{2i} + \\beta_3 x_{3i}+ \\beta_4 x_{4i}+ \\beta_5 x_{5i}+ \\beta_6 x_{6i}$$ \n",
    "\n",
    "el cual puede expresarse en forma matricial como $y = X\\beta$, donde $\\beta$ corresponde al vector de parámetros del modelo.\n",
    "\n",
    "En cierta ocasión, un profesor de econometría se encontraba estudiando nuevas formas de obtener estimadores para la varianza de los parámetros muestrales. Después de mucho pensar, este ingenioso profesor resulta con un método de estimación denominado *leave-one-out estimator* (estimador de \"deja uno afuera\") que consiste en un proceso iterativo con el conjunto de datos: \n",
    "\n",
    "1. Para cada $i$ en el conjunto de datos:  \n",
    "\n",
    "    - Se elimina temporalmente la observación $i$ del conjunto para obtener el conjunto \"modificado\" $X_{-i}$.\n",
    "    \n",
    "    - Se estima el modelo de regresión lineal resultante $y^* = X_{-i}\\beta$\n",
    "    \n",
    "    - Se guarda el resultado del parámetro $\\beta^{(i)}$ de interés, donde $i$ denota que $\\beta$ se estimó sin la observación $i$. \n",
    "    \n",
    "2. Al final del proceso iterativo, se estima la desviación estándar del conjunto $\\lbrace\\beta^{(1)}, ..., \\beta^{(n)}\\rbrace$ para obtener el estimador LOO del parámetro.\n",
    "\n",
    "A continuación, se muestra una imagen representativa del proceso iterativo sobre el conjunto de datos. En cada iteración, se estima con las muestras en blanco y se elimina temporalmente la observación en gris.\n",
    "\n",
    "![Leave-One-Out-Cross-Validation.png](attachment:Leave-One-Out-Cross-Validation.png) \n",
    "\n",
    "Después de ocurrírsele este método al profesor, se dió cuenta que no sabía cómo llevar a cabo este proceso iterativo, ya que su habitual programa (software) de trabajo no permitía este tipo de procedimientos. Sin embargo, el profesor se recordó de su brillante amigo, que ha llevado recientemente un curso de programación en Python, y decide pedirle ayuda con esta tarea. Cuando el profesor contacta a su amigo, éste le dice que está muy cansado debido al curso que recién ha tomado, sin embargo, el profesor insiste en pedir su ayuda. \n",
    "\n",
    "Finalmente, después de recordar viejos tiempos y la invitación a un par de cervezas, el profesor logra convencer a su amigo de que lo ayude. Para esto, su amigo piensa resolver este problema a través de la implementación de una clase de Python. \n",
    "\n",
    "## Descripción de la clase\n",
    "\n",
    "El amigo del profesor va a implementar la solución a través de la clase `looEstimation` de la siguiente forma:\n",
    "\n",
    "- Al crear un objeto de esta clase, el constructor debe recibir el conjunto de datos `data`, cuya primera columna será de unos, luego estarán las variables $x$ y finalmente, la última columna corresponde a la variable $y$.\n",
    "\n",
    "Además, deberá implementar los siguientes métodos:\n",
    "\n",
    "- Método `estimate`, que lleve a cabo el proceso de estimación sobre una matriz $X$ y vector $y$ para estimar todos los parámetros del modelo, los cuales devolverá como un arreglo de numpy.\n",
    "\n",
    "- Método `looSD`, que utilizará el método anterior sobre los datos guardados en el constructor y llevará a cabo el proceso iterativo $\\lbrace\\beta^{(1)}, ..., \\beta^{(n)}\\rbrace$. Finalmente, devolverá la desviación estándar del conjunto de parámetros.\n",
    "    - Se deben guardar los parámetros de cada iteración en alguna estructura (pandas o ndarray) para ser consumidos por los siguientes métodos.\n",
    "    \n",
    "- Método `plotDistribution`, que realizará una gráfica del histograma para cada uno de los diferentes parámetros del modelo.\n",
    "    - Deberá agregar una opción booleana savePlots para escoger si guardar las gráficas en un formato de alta calidad (pdf, png).\n",
    "    \n",
    "- Método `getParameters`, que devolverá un `DataFrame` con los parámetros estimados en cada iteración del proceso.\n",
    "    - Permite el parámetro booleano `saveCSV` para determinar si se debe guardar este `DataFrame` en un archivo CSV."
   ]
  },
  {
   "cell_type": "markdown",
   "metadata": {},
   "source": [
    "<div class=\"alert alert-info\">\n",
    "<b>Importe los paquetes que sean necesarios</b>: <br>\n",
    "\n",
    "\n",
    "</div>"
   ]
  },
  {
   "cell_type": "code",
   "execution_count": 3,
   "metadata": {},
   "outputs": [],
   "source": [
    "import numpy as np\n",
    "import matplotlib\n",
    "import matplotlib.pyplot as plt\n",
    "import pandas as pd"
   ]
  },
  {
   "cell_type": "markdown",
   "metadata": {},
   "source": [
    "<div class=\"alert alert-info\">\n",
    "<b>Escriba su código en la celda siguiente</b>: <br>\n",
    "\n",
    "\n",
    "</div>"
   ]
  },
  {
   "cell_type": "code",
   "execution_count": 1,
   "metadata": {},
   "outputs": [],
   "source": [
    "class looEstimation:\n",
    "    ''' \n",
    "        Recibe el conjunto de datos `data`, cuya primera columna será \n",
    "        de unos, luego estarán las variables $x$ y finalmente, la última\n",
    "        columna corresponde a la variable $y$.\n",
    "    '''\n",
    "    def __init__(self, data):\n",
    "        pass\n",
    "    \n",
    "    '''\n",
    "        lleve a cabo el proceso de estimación sobre una matriz $X$ y \n",
    "        vector $y$ para estimar todos los parámetros del modelo, los \n",
    "        cuales devolverá como un arreglo de numpy\n",
    "    '''\n",
    "    def estimate(self):\n",
    "        pass\n",
    "    \n",
    "    '''\n",
    "        Utiliza el método estimate sobre los datos guardados en el constructor \n",
    "        y llevará a cabo el proceso iterativo. Se deben guardar los parámetros \n",
    "        de cada iteración en alguna estructura (pandas o ndarray) para \n",
    "        ser consumidos por los siguientes métodos.\n",
    "    '''\n",
    "    def looSD(self):\n",
    "        pass\n",
    "    \n",
    "    '''\n",
    "        Realiza una gráfica del histograma para cada uno de los diferentes\n",
    "        parámetros del modelo. La opción booleana savePlots sirve para escoger \n",
    "        si guardar las gráficas en un formato de alta calidad (pdf, png).\n",
    "    '''\n",
    "    def plotDistribution(self, savePlots=False):\n",
    "        pass\n",
    "    \n",
    "    '''\n",
    "        Devuelve un `DataFrame` con los parámetros estimados en cada iteración \n",
    "        del proceso. Permite el parámetro booleano `saveCSV` para determinar si \n",
    "        se debe guardar este `DataFrame` en un archivo CSV.\n",
    "    '''\n",
    "    def getParameters(self):\n",
    "        pass"
   ]
  },
  {
   "cell_type": "markdown",
   "metadata": {},
   "source": [
    "***\n",
    "## Área de pruebas personal\n",
    "\n",
    "Utilice el siguiente espacio para llevar a cabo **sus** pruebas.\n"
   ]
  },
  {
   "cell_type": "code",
   "execution_count": 6,
   "metadata": {},
   "outputs": [
    {
     "data": {
      "text/plain": [
       "(50, 8)"
      ]
     },
     "execution_count": 6,
     "metadata": {},
     "output_type": "execute_result"
    }
   ],
   "source": [
    "# Se proporciona el archivo de datos para trabajar\n",
    "# (1's, x1, x2, x3, x4, x5, x6, y)\n",
    "data = np.load('data.npy')\n",
    "data.shape"
   ]
  },
  {
   "cell_type": "code",
   "execution_count": null,
   "metadata": {},
   "outputs": [],
   "source": []
  },
  {
   "cell_type": "code",
   "execution_count": null,
   "metadata": {},
   "outputs": [],
   "source": []
  },
  {
   "cell_type": "markdown",
   "metadata": {},
   "source": [
    "***\n",
    "## Área de pruebas para calificación\n",
    "\n",
    "Utilice el siguiente espacio para mostrarnos su implementación terminada."
   ]
  },
  {
   "cell_type": "markdown",
   "metadata": {},
   "source": [
    "<div class=\"alert alert-info\">\n",
    "<b>Pruebe el método \"estimate\"</b>: <br>\n",
    "</div>"
   ]
  },
  {
   "cell_type": "code",
   "execution_count": null,
   "metadata": {},
   "outputs": [],
   "source": []
  },
  {
   "cell_type": "markdown",
   "metadata": {},
   "source": [
    "<div class=\"alert alert-info\">\n",
    "<b>Pruebe el método \"looSD\"</b>: <br>\n",
    "</div>"
   ]
  },
  {
   "cell_type": "code",
   "execution_count": null,
   "metadata": {},
   "outputs": [],
   "source": []
  },
  {
   "cell_type": "markdown",
   "metadata": {},
   "source": [
    "<div class=\"alert alert-info\">\n",
    "<b>Pruebe el método \"plotDistribution\"</b>: <br>\n",
    "</div>"
   ]
  },
  {
   "cell_type": "code",
   "execution_count": null,
   "metadata": {},
   "outputs": [],
   "source": []
  },
  {
   "cell_type": "markdown",
   "metadata": {},
   "source": [
    "<div class=\"alert alert-info\">\n",
    "<b>Pruebe el método \"getParameters\"</b>: <br>\n",
    "</div>"
   ]
  },
  {
   "cell_type": "code",
   "execution_count": null,
   "metadata": {},
   "outputs": [],
   "source": []
  },
  {
   "cell_type": "markdown",
   "metadata": {},
   "source": [
    "<div class=\"alert alert-info\">\n",
    "<b>Muestre cada uno de los atribujos del objeto utilizado en el ejemplo</b>: <br>\n",
    "</div>"
   ]
  },
  {
   "cell_type": "code",
   "execution_count": null,
   "metadata": {},
   "outputs": [],
   "source": []
  }
 ],
 "metadata": {
  "kernelspec": {
   "display_name": "Python 3",
   "language": "python",
   "name": "python3"
  },
  "language_info": {
   "codemirror_mode": {
    "name": "ipython",
    "version": 3
   },
   "file_extension": ".py",
   "mimetype": "text/x-python",
   "name": "python",
   "nbconvert_exporter": "python",
   "pygments_lexer": "ipython3",
   "version": "3.7.4"
  }
 },
 "nbformat": 4,
 "nbformat_minor": 2
}
