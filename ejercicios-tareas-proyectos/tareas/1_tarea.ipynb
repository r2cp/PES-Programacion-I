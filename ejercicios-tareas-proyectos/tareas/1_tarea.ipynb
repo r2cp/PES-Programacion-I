{
 "cells": [
  {
   "cell_type": "markdown",
   "metadata": {},
   "source": [
    "# Tarea de clase # 1\n",
    "**Programación I**"
   ]
  },
  {
   "cell_type": "markdown",
   "metadata": {},
   "source": [
    "## Ejercicio 1\n",
    "\n",
    "* Asigne valores para ``A`` y ``B``. \n",
    "* Para cada operador (``+``,``-``,``*``,``/``,``/``/,``%``,``**``) haga un ejemplo con los valores asignados previamente. \n",
    "* Utilizando el comando ``print()`` Muestre los valores a operar, la operación y el resultado.  \n"
   ]
  },
  {
   "cell_type": "markdown",
   "metadata": {},
   "source": [
    "**Asigne valores para A y B**"
   ]
  },
  {
   "cell_type": "code",
   "execution_count": 3,
   "metadata": {},
   "outputs": [],
   "source": [
    "A = 5\n",
    "B = 10"
   ]
  },
  {
   "cell_type": "markdown",
   "metadata": {},
   "source": [
    "**Para cada operador (``+``,``-``,``*``,``/``,``/``/,``%``,``**``) haga un ejemplo con los valores asignados previamente.**"
   ]
  },
  {
   "cell_type": "markdown",
   "metadata": {},
   "source": [
    "## Ejercicio 2\n",
    "\n",
    "* Asigne ``A='Aa'`` y ``B='aa'``\n",
    "* Verifique las siguientes expresiones:\n",
    "    - ``A<B``\n",
    "    - ``A<B``\n",
    "* Explique el resultado de las expresiones anteriores. ¿Por qué no son iguales?"
   ]
  },
  {
   "cell_type": "markdown",
   "metadata": {},
   "source": [
    "## Ejercicio 3\n",
    "\n",
    "1.\tEscriba un programa que calcule la hipotenusa e imprima el resultado dado dos catetos. \n",
    "2.\tReescriba el ejemplo anterior para que los puntos sean bidimensionales. \n",
    "3.\tEscriba un programa que, dados tres puntos bidimensionales, imprima si son colineales o no. (No emplee la estructura ``if else``, solamente operadores).\n"
   ]
  },
  {
   "cell_type": "markdown",
   "metadata": {},
   "source": [
    "## Ejercicio 4\n",
    "\n",
    "Traduzca las siguientes expresiones lógicas y verifique su resultado, siendo ``A=0`` y ``B=1``. \n",
    "\n",
    "1. $A \\implies B$\n",
    "2. $A \\iff B$"
   ]
  }
 ],
 "metadata": {
  "kernelspec": {
   "display_name": "Python 3",
   "language": "python",
   "name": "python3"
  },
  "language_info": {
   "codemirror_mode": {
    "name": "ipython",
    "version": 3
   },
   "file_extension": ".py",
   "mimetype": "text/x-python",
   "name": "python",
   "nbconvert_exporter": "python",
   "pygments_lexer": "ipython3",
   "version": "3.7.4"
  }
 },
 "nbformat": 4,
 "nbformat_minor": 2
}
