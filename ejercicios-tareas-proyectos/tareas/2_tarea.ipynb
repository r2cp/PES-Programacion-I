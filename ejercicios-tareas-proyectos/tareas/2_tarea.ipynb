{
 "cells": [
  {
   "cell_type": "markdown",
   "metadata": {},
   "source": [
    "# Tarea de clase # 2\n",
    "**Programación I**"
   ]
  },
  {
   "cell_type": "markdown",
   "metadata": {},
   "source": [
    "## Ejericicio 1\n",
    "\n",
    "Escriba un programa que imprima enteros consecutivos indefinidamente. "
   ]
  },
  {
   "cell_type": "markdown",
   "metadata": {},
   "source": [
    "## Ejercicio 2\n",
    "\n",
    "Escriba un programa que invierta una cadena. (Utilice ``for`` o ``while``)"
   ]
  },
  {
   "cell_type": "markdown",
   "metadata": {},
   "source": [
    "## Ejercicio 3\n",
    "\n",
    "Escriba un juego que pida ingresa una palabra que contenga todas las vocales. Si el intento es correcto, que imprima una felicitación. (Ayuda: busque el [operador](https://www.geeksforgeeks.org/basic-operators-python/) más conveniente)"
   ]
  },
  {
   "cell_type": "markdown",
   "metadata": {},
   "source": [
    "## Ejercicio 4 (Ahorcado)\n",
    "\n",
    "* El **jugador 1** debe ingresar una palabra.\n",
    "* El **jugador 2** ingresará letras y el juego debe informar si dicha letra es correcta o no. \n",
    "* Si el **jugador 2** se equivoca más de 10 veces, pierde.  \n"
   ]
  },
  {
   "cell_type": "markdown",
   "metadata": {},
   "source": [
    "## Ejercicio 5\n",
    "Escriba un programa que solicite una palabra. Por ejemplo `'palabra'`. El programa debe imprimir un patrón igual a  \n",
    "`p`  \n",
    "`pa`  \n",
    "`pal`   \n",
    "`pala`  \n",
    "`palab`  \n",
    "`palabr`  \n",
    "`palabra`  \n",
    "Es decir, imprime tantas filas como caracteres tanga la palabra, completandola una a la ves.\n"
   ]
  }
 ],
 "metadata": {
  "kernelspec": {
   "display_name": "Python 3",
   "language": "python",
   "name": "python3"
  },
  "language_info": {
   "codemirror_mode": {
    "name": "ipython",
    "version": 3
   },
   "file_extension": ".py",
   "mimetype": "text/x-python",
   "name": "python",
   "nbconvert_exporter": "python",
   "pygments_lexer": "ipython3",
   "version": "3.7.4"
  }
 },
 "nbformat": 4,
 "nbformat_minor": 2
}
