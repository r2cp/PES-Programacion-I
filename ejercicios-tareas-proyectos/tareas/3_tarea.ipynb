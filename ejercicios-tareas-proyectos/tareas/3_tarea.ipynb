{
 "cells": [
  {
   "cell_type": "markdown",
   "metadata": {},
   "source": [
    "# Tarea de clase # 3\n",
    "**Programación I**"
   ]
  },
  {
   "cell_type": "markdown",
   "metadata": {},
   "source": [
    "## Ejercicio 0\n",
    "\n",
    "El señor Lee tiene 27 monedas en su bolsillo. Las monedas son de 20 y 50 centavos. Dado que el total es de Q.9.90, utilice la técnica de “Guess and Check” para determinar cuántas monedas son de 20 y 50 centavos respectivamente."
   ]
  },
  {
   "cell_type": "code",
   "execution_count": null,
   "metadata": {},
   "outputs": [],
   "source": [
    "# Escriba su código en esta celda"
   ]
  },
  {
   "cell_type": "markdown",
   "metadata": {},
   "source": [
    "## Ejercicio 1\n",
    "\n",
    "Escriba una función que ordene los símbolos de una cadena de menor a mayor. Debe utilizar las funciones anteriormente programadas. \n",
    "\n",
    "### Ejercicio 1.0\n",
    "Escriba una función que, dada una cadena, encuentre el menor símbolo dentro de ella. La función debe devolver dicho símbolo.\n",
    "### Ejercicio 1.1\n",
    "Escriba una función que, dado un símbolo y una cadena, determine el índice de la primera coincidencia entre dicho símbolo y los símbolos dentro de la cadena. La función debe devolver un entero.  \n",
    "### Ejercicio 1.2\n",
    "Escriba una función que, dado un símbolo y una cadena, devuelva la cadena sin el primer símbolo que coincidió con el dado. La función debe devolver una cadena y debe utilizar la función del ejercicio 1.1 para escribir esta nueva función. Tip: utilice *slicing*.\n",
    "\n"
   ]
  },
  {
   "cell_type": "code",
   "execution_count": null,
   "metadata": {},
   "outputs": [],
   "source": [
    "# Escriba la solución del ejercicio 3.0 en esta celda"
   ]
  },
  {
   "cell_type": "code",
   "execution_count": null,
   "metadata": {},
   "outputs": [],
   "source": [
    "# Escriba la solución del ejercicio 3.1 en esta celda"
   ]
  },
  {
   "cell_type": "code",
   "execution_count": null,
   "metadata": {},
   "outputs": [],
   "source": [
    "# Escriba la solución del ejercicio 3.2 en esta celda"
   ]
  },
  {
   "cell_type": "code",
   "execution_count": null,
   "metadata": {},
   "outputs": [],
   "source": [
    "# Escriba la solución del ejercicio 3.3 en esta celda"
   ]
  },
  {
   "cell_type": "markdown",
   "metadata": {},
   "source": [
    "## Ejercicio 2\n",
    "\n",
    "Escriba un programa que, por medio de la técnica de **Guess and Check**, encuentre el punto medio entre dos números. "
   ]
  }
 ],
 "metadata": {
  "kernelspec": {
   "display_name": "Python 3",
   "language": "python",
   "name": "python3"
  },
  "language_info": {
   "codemirror_mode": {
    "name": "ipython",
    "version": 3
   },
   "file_extension": ".py",
   "mimetype": "text/x-python",
   "name": "python",
   "nbconvert_exporter": "python",
   "pygments_lexer": "ipython3",
   "version": "3.7.4"
  }
 },
 "nbformat": 4,
 "nbformat_minor": 2
}
