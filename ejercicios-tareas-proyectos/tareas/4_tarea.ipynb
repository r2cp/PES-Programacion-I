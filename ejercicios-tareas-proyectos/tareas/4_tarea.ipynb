{
 "cells": [
  {
   "cell_type": "markdown",
   "metadata": {},
   "source": [
    "#  Tarea 4\n",
    "**Programación I**"
   ]
  },
  {
   "cell_type": "markdown",
   "metadata": {},
   "source": [
    "## Ejercicio 0\n",
    "\n",
    "0. Cree una función que, si el número en una lista es par, imprima una `'p'`, de lo contrario, que imprima un ``'i'``. La impresión debe ser en la misma línea, por ejemplo: si la entrada es ``[2,3,2]``, la salida es ``pip``\n",
    "1. modifique su función para que admita  listas dentro de listas, es decir, si ingresa ``[[2,3], [2,3,2]]``, imprima  \n",
    "``pi``  \n",
    "``pip``"
   ]
  },
  {
   "cell_type": "markdown",
   "metadata": {},
   "source": [
    "## Ejercicio 1\n",
    "\n",
    "0. Dada un punto y un vector en $R^3$, escriba una función que devuelva los parámetros $a,b,c,d$ (en forma de tupla) de la forma escalar del plano $$ax+by+cz=d$$ \n",
    "1. Cree función que reciba la salida anterior y nos permita evaluar un punto $(x,y)$ para obtener $z$, dada la ecuación del plano."
   ]
  },
  {
   "cell_type": "markdown",
   "metadata": {},
   "source": [
    "## Ejercicio 2\n",
    "\n",
    "Completar el siguiente código de la función de `biseccion` para que resuelva para un cero de la función $f(x)$ especificada en el argumento `f`. Utilice una función `lambda` para entregar el polinomio a la función `biseccion`."
   ]
  },
  {
   "cell_type": "code",
   "execution_count": null,
   "metadata": {},
   "outputs": [],
   "source": [
    "def biseccion(f, a=-100, b=100, epsilon=0.001, max_iter=100):\n",
    "\n",
    "    guess = (a + b) / 2\n",
    "\n",
    "    # Contador de iteraciones\n",
    "    num_guesses = 0\n",
    "\n",
    "    while abs(f(guess)) >= epsilon and num_guesses < max_iter:\n",
    "        if f(a)*f(guess) > 0:\n",
    "            # Si f(a) y f(guess) tienen el mismo signo, se debe\n",
    "            # acortar el intervalo por la izquierda\n",
    "            # Tu código acá:\n",
    "            \n",
    "        else:\n",
    "            # De lo contrario, se acorta por el lado derecho\n",
    "            # Tu código acá:\n",
    "\n",
    "        # Siguiente guess en el punto medio del espacio de búsqueda\n",
    "        guess = (a + b) / 2\n",
    "        num_guesses += 1\n",
    "\n",
    "    print('Iteraciones: ', num_guesses)\n",
    "    print('Solución encontrada: f(%0.4f) = %0.4f' % (guess, f(guess)))\n",
    "    return guess"
   ]
  },
  {
   "attachments": {
    "6.PNG": {
     "image/png": "[encoded data removed]"
    }
   },
   "cell_type": "markdown",
   "metadata": {},
   "source": [
    "![6.PNG](attachment:6.PNG)"
   ]
  },
  {
   "cell_type": "markdown",
   "metadata": {},
   "source": [
    "### El número de oro\n",
    "\n",
    "Utilizando nuestra función de `biseccion`, encontremos una aproximación a la proporción divina $$\\phi=\\frac{1+\\sqrt{5}}{2}$$ resultado del cero del polinomio $f(x)=x^2-x-1$ en el intervalo $[1,2]$."
   ]
  },
  {
   "attachments": {
    "7.PNG": {
     "image/png": "[encoded data removed]"
    }
   },
   "cell_type": "markdown",
   "metadata": {},
   "source": [
    "![7.PNG](attachment:7.PNG)"
   ]
  }
 ],
 "metadata": {
  "kernelspec": {
   "display_name": "Python 3",
   "language": "python",
   "name": "python3"
  },
  "language_info": {
   "codemirror_mode": {
    "name": "ipython",
    "version": 3
   },
   "file_extension": ".py",
   "mimetype": "text/x-python",
   "name": "python",
   "nbconvert_exporter": "python",
   "pygments_lexer": "ipython3",
   "version": "3.7.4"
  }
 },
 "nbformat": 4,
 "nbformat_minor": 2
}
